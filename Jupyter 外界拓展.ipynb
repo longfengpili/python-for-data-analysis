{
 "cells": [
  {
   "cell_type": "code",
   "execution_count": 1,
   "metadata": {
    "collapsed": true
   },
   "outputs": [
    {
     "name": "stdout",
     "output_type": "stream",
     "text": [
      "Collecting https://github.com/ipython-contrib/jupyter_contrib_nbextensions/tarball/master\n",
      "  Downloading https://github.com/ipython-contrib/jupyter_contrib_nbextensions/tarball/master\n"
     ]
    },
    {
     "name": "stderr",
     "output_type": "stream",
     "text": [
      "Exception:\n",
      "Traceback (most recent call last):\n",
      "  File \"c:\\python36\\lib\\site-packages\\pip\\_vendor\\urllib3\\response.py\", line 302, in _error_catcher\n",
      "    yield\n",
      "  File \"c:\\python36\\lib\\site-packages\\pip\\_vendor\\urllib3\\response.py\", line 601, in read_chunked\n",
      "    chunk = self._handle_chunk(amt)\n",
      "  File \"c:\\python36\\lib\\site-packages\\pip\\_vendor\\urllib3\\response.py\", line 557, in _handle_chunk\n",
      "    value = self._fp._safe_read(amt)\n",
      "  File \"c:\\python36\\lib\\site-packages\\pip\\_vendor\\cachecontrol\\filewrapper.py\", line 68, in _safe_read\n",
      "    data = self.__fp._safe_read(amt)\n",
      "  File \"c:\\python36\\lib\\http\\client.py\", line 614, in _safe_read\n",
      "    raise IncompleteRead(b''.join(s), amt)\n",
      "http.client.IncompleteRead: IncompleteRead(5694 bytes read, 4546 more expected)\n",
      "\n",
      "During handling of the above exception, another exception occurred:\n",
      "\n",
      "Traceback (most recent call last):\n",
      "  File \"c:\\python36\\lib\\site-packages\\pip\\_internal\\basecommand.py\", line 228, in main\n",
      "    status = self.run(options, args)\n",
      "  File \"c:\\python36\\lib\\site-packages\\pip\\_internal\\commands\\install.py\", line 291, in run\n",
      "    resolver.resolve(requirement_set)\n",
      "  File \"c:\\python36\\lib\\site-packages\\pip\\_internal\\resolve.py\", line 103, in resolve\n",
      "    self._resolve_one(requirement_set, req)\n",
      "  File \"c:\\python36\\lib\\site-packages\\pip\\_internal\\resolve.py\", line 257, in _resolve_one\n",
      "    abstract_dist = self._get_abstract_dist_for(req_to_install)\n",
      "  File \"c:\\python36\\lib\\site-packages\\pip\\_internal\\resolve.py\", line 210, in _get_abstract_dist_for\n",
      "    self.require_hashes\n",
      "  File \"c:\\python36\\lib\\site-packages\\pip\\_internal\\operations\\prepare.py\", line 310, in prepare_linked_requirement\n",
      "    progress_bar=self.progress_bar\n",
      "  File \"c:\\python36\\lib\\site-packages\\pip\\_internal\\download.py\", line 837, in unpack_url\n",
      "    progress_bar=progress_bar\n",
      "  File \"c:\\python36\\lib\\site-packages\\pip\\_internal\\download.py\", line 674, in unpack_http_url\n",
      "    progress_bar)\n",
      "  File \"c:\\python36\\lib\\site-packages\\pip\\_internal\\download.py\", line 898, in _download_http_url\n",
      "    _download_url(resp, link, content_file, hashes, progress_bar)\n",
      "  File \"c:\\python36\\lib\\site-packages\\pip\\_internal\\download.py\", line 620, in _download_url\n",
      "    consume(downloaded_chunks)\n",
      "  File \"c:\\python36\\lib\\site-packages\\pip\\_internal\\utils\\misc.py\", line 843, in consume\n",
      "    deque(iterator, maxlen=0)\n",
      "  File \"c:\\python36\\lib\\site-packages\\pip\\_internal\\download.py\", line 586, in written_chunks\n",
      "    for chunk in chunks:\n",
      "  File \"c:\\python36\\lib\\site-packages\\pip\\_internal\\utils\\ui.py\", line 159, in iter\n",
      "    for x in it:\n",
      "  File \"c:\\python36\\lib\\site-packages\\pip\\_internal\\download.py\", line 575, in resp_read\n",
      "    decode_content=False):\n",
      "  File \"c:\\python36\\lib\\site-packages\\pip\\_vendor\\urllib3\\response.py\", line 432, in stream\n",
      "    for line in self.read_chunked(amt, decode_content=decode_content):\n",
      "  File \"c:\\python36\\lib\\site-packages\\pip\\_vendor\\urllib3\\response.py\", line 626, in read_chunked\n",
      "    self._original_response.close()\n",
      "  File \"c:\\python36\\lib\\contextlib.py\", line 99, in __exit__\n",
      "    self.gen.throw(type, value, traceback)\n",
      "  File \"c:\\python36\\lib\\site-packages\\pip\\_vendor\\urllib3\\response.py\", line 320, in _error_catcher\n",
      "    raise ProtocolError('Connection broken: %r' % e, e)\n",
      "pip._vendor.urllib3.exceptions.ProtocolError: ('Connection broken: IncompleteRead(5694 bytes read, 4546 more expected)', IncompleteRead(5694 bytes read, 4546 more expected))\n"
     ]
    },
    {
     "name": "stdout",
     "output_type": "stream",
     "text": [
      "Collecting jupyter_nbextensions_configurator\n",
      "  Downloading https://files.pythonhosted.org/packages/d1/d8/6bf103e0eafd17caef39c37ff70b8d61bfb21cc8cd91c81ba51755421a34/jupyter_nbextensions_configurator-0.4.0-py2.py3-none-any.whl (466kB)\n",
      "Requirement already satisfied: tornado in c:\\python36\\lib\\site-packages (from jupyter_nbextensions_configurator) (5.0.2)\n",
      "Collecting jupyter-contrib-core>=0.3.3 (from jupyter_nbextensions_configurator)\n",
      "  Downloading https://files.pythonhosted.org/packages/e6/8f/04a752a8b66a66e7092c035e5d87d2502ac7ec07f9fb6059059b6c0dc272/jupyter_contrib_core-0.3.3-py2.py3-none-any.whl\n",
      "Collecting pyyaml (from jupyter_nbextensions_configurator)\n",
      "  Downloading https://files.pythonhosted.org/packages/4a/85/db5a2df477072b2902b0eb892feb37d88ac635d36245a72a6a69b23b383a/PyYAML-3.12.tar.gz (253kB)\n",
      "Requirement already satisfied: jupyter-core in c:\\python36\\lib\\site-packages (from jupyter_nbextensions_configurator) (4.4.0)\n",
      "Requirement already satisfied: notebook>=4.0 in c:\\python36\\lib\\site-packages (from jupyter_nbextensions_configurator) (5.5.0)\n",
      "Requirement already satisfied: traitlets in c:\\python36\\lib\\site-packages (from jupyter_nbextensions_configurator) (4.3.2)\n",
      "Requirement already satisfied: setuptools in c:\\python36\\lib\\site-packages (from jupyter-contrib-core>=0.3.3->jupyter_nbextensions_configurator) (39.1.0)\n",
      "Requirement already satisfied: pyzmq>=17 in c:\\python36\\lib\\site-packages (from notebook>=4.0->jupyter_nbextensions_configurator) (17.0.0)\n",
      "Requirement already satisfied: terminado>=0.8.1 in c:\\python36\\lib\\site-packages (from notebook>=4.0->jupyter_nbextensions_configurator) (0.8.1)\n",
      "Requirement already satisfied: nbformat in c:\\python36\\lib\\site-packages (from notebook>=4.0->jupyter_nbextensions_configurator) (4.4.0)\n",
      "Requirement already satisfied: ipykernel in c:\\python36\\lib\\site-packages (from notebook>=4.0->jupyter_nbextensions_configurator) (4.8.2)\n",
      "Requirement already satisfied: nbconvert in c:\\python36\\lib\\site-packages (from notebook>=4.0->jupyter_nbextensions_configurator) (5.3.1)\n",
      "Requirement already satisfied: jinja2 in c:\\python36\\lib\\site-packages (from notebook>=4.0->jupyter_nbextensions_configurator) (2.10)\n",
      "Requirement already satisfied: Send2Trash in c:\\python36\\lib\\site-packages (from notebook>=4.0->jupyter_nbextensions_configurator) (1.5.0)\n",
      "Requirement already satisfied: jupyter-client>=5.2.0 in c:\\python36\\lib\\site-packages (from notebook>=4.0->jupyter_nbextensions_configurator) (5.2.3)\n",
      "Requirement already satisfied: ipython-genutils in c:\\python36\\lib\\site-packages (from notebook>=4.0->jupyter_nbextensions_configurator) (0.2.0)\n",
      "Requirement already satisfied: decorator in c:\\python36\\lib\\site-packages (from traitlets->jupyter_nbextensions_configurator) (4.3.0)\n",
      "Requirement already satisfied: six in c:\\python36\\lib\\site-packages (from traitlets->jupyter_nbextensions_configurator) (1.11.0)\n",
      "Requirement already satisfied: pywinpty>=0.5; os_name == \"nt\" in c:\\python36\\lib\\site-packages (from terminado>=0.8.1->notebook>=4.0->jupyter_nbextensions_configurator) (0.5.1)\n",
      "Requirement already satisfied: jsonschema!=2.5.0,>=2.4 in c:\\python36\\lib\\site-packages (from nbformat->notebook>=4.0->jupyter_nbextensions_configurator) (2.6.0)\n",
      "Requirement already satisfied: ipython>=4.0.0 in c:\\python36\\lib\\site-packages (from ipykernel->notebook>=4.0->jupyter_nbextensions_configurator) (6.3.1)\n",
      "Requirement already satisfied: entrypoints>=0.2.2 in c:\\python36\\lib\\site-packages (from nbconvert->notebook>=4.0->jupyter_nbextensions_configurator) (0.2.3)\n",
      "Requirement already satisfied: bleach in c:\\python36\\lib\\site-packages (from nbconvert->notebook>=4.0->jupyter_nbextensions_configurator) (2.1.3)\n",
      "Requirement already satisfied: pygments in c:\\python36\\lib\\site-packages (from nbconvert->notebook>=4.0->jupyter_nbextensions_configurator) (2.2.0)\n",
      "Requirement already satisfied: testpath in c:\\python36\\lib\\site-packages (from nbconvert->notebook>=4.0->jupyter_nbextensions_configurator) (0.3.1)\n",
      "Requirement already satisfied: pandocfilters>=1.4.1 in c:\\python36\\lib\\site-packages (from nbconvert->notebook>=4.0->jupyter_nbextensions_configurator) (1.4.2)\n",
      "Requirement already satisfied: mistune>=0.7.4 in c:\\python36\\lib\\site-packages (from nbconvert->notebook>=4.0->jupyter_nbextensions_configurator) (0.8.3)\n",
      "Requirement already satisfied: MarkupSafe>=0.23 in c:\\python36\\lib\\site-packages (from jinja2->notebook>=4.0->jupyter_nbextensions_configurator) (1.0)\n",
      "Requirement already satisfied: python-dateutil>=2.1 in c:\\python36\\lib\\site-packages (from jupyter-client>=5.2.0->notebook>=4.0->jupyter_nbextensions_configurator) (2.7.2)\n",
      "Requirement already satisfied: colorama; sys_platform == \"win32\" in c:\\python36\\lib\\site-packages (from ipython>=4.0.0->ipykernel->notebook>=4.0->jupyter_nbextensions_configurator) (0.3.9)\n",
      "Requirement already satisfied: simplegeneric>0.8 in c:\\python36\\lib\\site-packages (from ipython>=4.0.0->ipykernel->notebook>=4.0->jupyter_nbextensions_configurator) (0.8.1)\n",
      "Requirement already satisfied: backcall in c:\\python36\\lib\\site-packages (from ipython>=4.0.0->ipykernel->notebook>=4.0->jupyter_nbextensions_configurator) (0.1.0)\n",
      "Requirement already satisfied: jedi>=0.10 in c:\\python36\\lib\\site-packages (from ipython>=4.0.0->ipykernel->notebook>=4.0->jupyter_nbextensions_configurator) (0.12.0)\n",
      "Requirement already satisfied: prompt-toolkit<2.0.0,>=1.0.15 in c:\\python36\\lib\\site-packages (from ipython>=4.0.0->ipykernel->notebook>=4.0->jupyter_nbextensions_configurator) (1.0.15)\n",
      "Requirement already satisfied: pickleshare in c:\\python36\\lib\\site-packages (from ipython>=4.0.0->ipykernel->notebook>=4.0->jupyter_nbextensions_configurator) (0.7.4)\n",
      "Requirement already satisfied: html5lib!=1.0b1,!=1.0b2,!=1.0b3,!=1.0b4,!=1.0b5,!=1.0b6,!=1.0b7,!=1.0b8,>=0.99999999pre in c:\\python36\\lib\\site-packages (from bleach->nbconvert->notebook>=4.0->jupyter_nbextensions_configurator) (1.0.1)\n",
      "Requirement already satisfied: parso>=0.2.0 in c:\\python36\\lib\\site-packages (from jedi>=0.10->ipython>=4.0.0->ipykernel->notebook>=4.0->jupyter_nbextensions_configurator) (0.2.0)\n",
      "Requirement already satisfied: wcwidth in c:\\python36\\lib\\site-packages (from prompt-toolkit<2.0.0,>=1.0.15->ipython>=4.0.0->ipykernel->notebook>=4.0->jupyter_nbextensions_configurator) (0.1.7)\n",
      "Requirement already satisfied: webencodings in c:\\python36\\lib\\site-packages (from html5lib!=1.0b1,!=1.0b2,!=1.0b3,!=1.0b4,!=1.0b5,!=1.0b6,!=1.0b7,!=1.0b8,>=0.99999999pre->bleach->nbconvert->notebook>=4.0->jupyter_nbextensions_configurator) (0.5.1)\n",
      "Installing collected packages: jupyter-contrib-core, pyyaml, jupyter-nbextensions-configurator\n",
      "  Running setup.py install for pyyaml: started\n",
      "    Running setup.py install for pyyaml: finished with status 'done'\n",
      "Successfully installed jupyter-contrib-core-0.3.3 jupyter-nbextensions-configurator-0.4.0 pyyaml-3.12\n"
     ]
    },
    {
     "name": "stderr",
     "output_type": "stream",
     "text": [
      "  The script jupyter-contrib.exe is installed in 'c:\\python36\\Scripts' which is not on PATH.\n",
      "  Consider adding this directory to PATH or, if you prefer to suppress this warning, use --no-warn-script-location.\n",
      "  The script jupyter-nbextensions_configurator.exe is installed in 'c:\\python36\\Scripts' which is not on PATH.\n",
      "  Consider adding this directory to PATH or, if you prefer to suppress this warning, use --no-warn-script-location.\n"
     ]
    },
    {
     "name": "stdout",
     "output_type": "stream",
     "text": [
      "community-contributed spice for Jupyter Interactive Computing\n",
      "\n",
      "Options\n",
      "\n",
      "-------\n",
      "\n",
      "\n",
      "\n",
      "Arguments that take values are actually convenience aliases to full\n",
      "Configurables, whose aliases are listed on the help line. For more information\n",
      "on full configurables, see '--help-all'.\n",
      "\n",
      "\n",
      "--debug\n",
      "\n",
      "    set log level to logging.DEBUG (maximize logging output)\n",
      "\n",
      "--generate-config\n",
      "\n",
      "    generate default config file\n",
      "\n",
      "-y\n",
      "\n",
      "    Answer yes to any questions instead of prompting.\n",
      "--log-level=<Enum> (Application.log_level)\n",
      "\n",
      "    Default: 30\n",
      "\n",
      "    Choices: (0, 10, 20, 30, 40, 50, 'DEBUG', 'INFO', 'WARN', 'ERROR', 'CRITICAL')\n",
      "\n",
      "    Set the log level by value or name.\n",
      "\n",
      "--config=<Unicode> (JupyterApp.config_file)\n",
      "\n",
      "    Default: ''\n",
      "\n",
      "    Full path of a config file.\n",
      "\n",
      "To see all available configurables, use `--help-all`\n",
      "\n"
     ]
    },
    {
     "name": "stderr",
     "output_type": "stream",
     "text": [
      "Please supply at least one subcommand: \n",
      "jupyter nbextensions_configurator enable takes no extra arguments\n"
     ]
    }
   ],
   "source": [
    "!pip install https://github.com/ipython-contrib/jupyter_contrib_nbextensions/tarball/master\n",
    "!pip install jupyter_nbextensions_configurator\n",
    "!jupyter contrib nbextension install –user\n",
    "!jupyter nbextensions_configurator enable –user"
   ]
  },
  {
   "cell_type": "code",
   "execution_count": null,
   "metadata": {},
   "outputs": [],
   "source": [
    "!pip install https://github.com/ipython-contrib/jupyter_contrib_nbextensions/tarball/master\n",
    "!pip install jupyter_nbextensions_configurator!jupyter contrib nbextension install --user\n",
    "!jupyter nbextensions_configurator enable --user"
   ]
  }
 ],
 "metadata": {
  "kernelspec": {
   "display_name": "Python 3",
   "language": "python",
   "name": "python3"
  },
  "language_info": {
   "codemirror_mode": {
    "name": "ipython",
    "version": 3
   },
   "file_extension": ".py",
   "mimetype": "text/x-python",
   "name": "python",
   "nbconvert_exporter": "python",
   "pygments_lexer": "ipython3",
   "version": "3.6.3"
  }
 },
 "nbformat": 4,
 "nbformat_minor": 2
}
