{
 "cells": [
  {
   "cell_type": "code",
   "execution_count": 2,
   "metadata": {
    "ExecuteTime": {
     "end_time": "2018-06-04T00:25:39.714051Z",
     "start_time": "2018-06-04T00:25:39.707051Z"
    }
   },
   "outputs": [],
   "source": [
    "path = './pydata-book/datasets/fec/P00000001-ALL.csv'"
   ]
  },
  {
   "cell_type": "code",
   "execution_count": 3,
   "metadata": {
    "ExecuteTime": {
     "end_time": "2018-06-04T00:25:42.445005Z",
     "start_time": "2018-06-04T00:25:42.427003Z"
    }
   },
   "outputs": [
    {
     "data": {
      "text/plain": [
       "'c:\\\\usr\\\\longfengpili\\\\pydata\\\\jupyter'"
      ]
     },
     "execution_count": 3,
     "metadata": {},
     "output_type": "execute_result"
    },
    {
     "data": {
      "text/plain": [
       "'./pydata-book/datasets/fec'"
      ]
     },
     "execution_count": 3,
     "metadata": {},
     "output_type": "execute_result"
    }
   ],
   "source": [
    "import os,sys\n",
    "os.getcwd()\n",
    "os.path.dirname(path)\n",
    "from datetime import datetime"
   ]
  },
  {
   "cell_type": "code",
   "execution_count": 22,
   "metadata": {
    "ExecuteTime": {
     "end_time": "2018-06-04T00:49:14.974017Z",
     "start_time": "2018-06-04T00:49:10.392367Z"
    }
   },
   "outputs": [
    {
     "name": "stdout",
     "output_type": "stream",
     "text": [
      "写入100000,完成./pydata-book/datasets/fec//P00000001-1.csv,时间2018-06-04 08:49:10.915996\n",
      "写入100000,完成./pydata-book/datasets/fec//P00000001-2.csv,时间2018-06-04 08:49:11.333817\n",
      "写入100000,完成./pydata-book/datasets/fec//P00000001-3.csv,时间2018-06-04 08:49:11.856847\n",
      "写入100000,完成./pydata-book/datasets/fec//P00000001-4.csv,时间2018-06-04 08:49:12.276871\n",
      "写入100000,完成./pydata-book/datasets/fec//P00000001-5.csv,时间2018-06-04 08:49:12.728694\n",
      "写入100000,完成./pydata-book/datasets/fec//P00000001-6.csv,时间2018-06-04 08:49:13.143718\n",
      "写入100000,完成./pydata-book/datasets/fec//P00000001-7.csv,时间2018-06-04 08:49:13.596343\n",
      "写入100000,完成./pydata-book/datasets/fec//P00000001-8.csv,时间2018-06-04 08:49:14.047369\n",
      "写入100000,完成./pydata-book/datasets/fec//P00000001-9.csv,时间2018-06-04 08:49:14.456991\n",
      "写入100000,完成./pydata-book/datasets/fec//P00000001-10.csv,时间2018-06-04 08:49:14.926014\n",
      "写入1732,完成./pydata-book/datasets/fec//P00000001-11.csv,时间2018-06-04 08:49:14.970016\n"
     ]
    }
   ],
   "source": [
    "with open(path,'r',encoding='utf-8') as f:\n",
    "    line = f.readline()\n",
    "    n = 1\n",
    "    while line:\n",
    "        m = 1\n",
    "        w_lines = []\n",
    "        while m <= 100000:\n",
    "            if line != '':\n",
    "                w_lines.append(line)\n",
    "                line = f.readline()\n",
    "                m += 1\n",
    "            else:\n",
    "                m += 1\n",
    "                pass\n",
    "        \n",
    "\n",
    "        file_path = os.path.dirname(path) + '//P00000001-{}.csv'.format(n)\n",
    "        with open(file_path,'a',encoding='utf-8') as wf:\n",
    "#             type(w_lines)\n",
    "#             print(len(w_lines))\n",
    "            wf.writelines(w_lines)\n",
    "#             print(w_lines)\n",
    "        n += 1\n",
    "        print('写入{},完成{},时间{}'.format(len(w_lines),file_path,datetime.now()))\n",
    "        "
   ]
  },
  {
   "cell_type": "code",
   "execution_count": null,
   "metadata": {},
   "outputs": [],
   "source": []
  },
  {
   "cell_type": "code",
   "execution_count": null,
   "metadata": {},
   "outputs": [],
   "source": []
  }
 ],
 "metadata": {
  "hide_input": false,
  "kernelspec": {
   "display_name": "Python 3",
   "language": "python",
   "name": "python3"
  },
  "language_info": {
   "codemirror_mode": {
    "name": "ipython",
    "version": 3
   },
   "file_extension": ".py",
   "mimetype": "text/x-python",
   "name": "python",
   "nbconvert_exporter": "python",
   "pygments_lexer": "ipython3",
   "version": "3.6.3"
  },
  "toc": {
   "base_numbering": 1,
   "nav_menu": {},
   "number_sections": true,
   "sideBar": true,
   "skip_h1_title": false,
   "title_cell": "Table of Contents",
   "title_sidebar": "Contents",
   "toc_cell": false,
   "toc_position": {},
   "toc_section_display": true,
   "toc_window_display": false
  }
 },
 "nbformat": 4,
 "nbformat_minor": 2
}
