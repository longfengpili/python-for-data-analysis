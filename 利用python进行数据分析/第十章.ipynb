{
 "cells": [
  {
   "cell_type": "code",
   "execution_count": 1,
   "metadata": {
    "ExecuteTime": {
     "end_time": "2018-06-02T01:32:36.938447Z",
     "start_time": "2018-06-02T01:32:36.922446Z"
    }
   },
   "outputs": [],
   "source": [
    "from datetime import datetime,date,timedelta"
   ]
  },
  {
   "cell_type": "code",
   "execution_count": 2,
   "metadata": {
    "ExecuteTime": {
     "end_time": "2018-06-02T01:32:37.142459Z",
     "start_time": "2018-06-02T01:32:36.944448Z"
    }
   },
   "outputs": [],
   "source": [
    "now = datetime.now()"
   ]
  },
  {
   "cell_type": "code",
   "execution_count": 3,
   "metadata": {
    "ExecuteTime": {
     "end_time": "2018-06-02T01:32:37.315469Z",
     "start_time": "2018-06-02T01:32:37.148459Z"
    }
   },
   "outputs": [
    {
     "data": {
      "text/plain": [
       "datetime.datetime(2018, 6, 2, 9, 32, 37, 139459)"
      ]
     },
     "execution_count": 3,
     "metadata": {},
     "output_type": "execute_result"
    }
   ],
   "source": [
    "now"
   ]
  },
  {
   "cell_type": "code",
   "execution_count": 4,
   "metadata": {
    "ExecuteTime": {
     "end_time": "2018-06-02T01:32:37.456477Z",
     "start_time": "2018-06-02T01:32:37.319469Z"
    }
   },
   "outputs": [
    {
     "data": {
      "text/plain": [
       "(2018, 6, 2)"
      ]
     },
     "execution_count": 4,
     "metadata": {},
     "output_type": "execute_result"
    }
   ],
   "source": [
    "now.year,now.month,now.day"
   ]
  },
  {
   "cell_type": "code",
   "execution_count": 5,
   "metadata": {
    "ExecuteTime": {
     "end_time": "2018-06-02T01:32:37.599485Z",
     "start_time": "2018-06-02T01:32:37.460477Z"
    }
   },
   "outputs": [],
   "source": [
    "delta =  datetime(2011,1,7,2,10,10) - datetime(2011,1,7) "
   ]
  },
  {
   "cell_type": "code",
   "execution_count": 6,
   "metadata": {
    "ExecuteTime": {
     "end_time": "2018-06-02T01:32:37.754494Z",
     "start_time": "2018-06-02T01:32:37.608486Z"
    }
   },
   "outputs": [
    {
     "data": {
      "text/plain": [
       "datetime.timedelta(0, 7810)"
      ]
     },
     "execution_count": 6,
     "metadata": {},
     "output_type": "execute_result"
    }
   ],
   "source": [
    "delta"
   ]
  },
  {
   "cell_type": "code",
   "execution_count": 7,
   "metadata": {
    "ExecuteTime": {
     "end_time": "2018-06-02T01:32:37.890502Z",
     "start_time": "2018-06-02T01:32:37.757494Z"
    }
   },
   "outputs": [
    {
     "data": {
      "text/plain": [
       "7810"
      ]
     },
     "execution_count": 7,
     "metadata": {},
     "output_type": "execute_result"
    }
   ],
   "source": [
    "2*3600+600+10"
   ]
  },
  {
   "cell_type": "code",
   "execution_count": 8,
   "metadata": {
    "ExecuteTime": {
     "end_time": "2018-06-02T01:32:38.031510Z",
     "start_time": "2018-06-02T01:32:37.897502Z"
    }
   },
   "outputs": [],
   "source": [
    "start = datetime(2011,1,7)"
   ]
  },
  {
   "cell_type": "code",
   "execution_count": 9,
   "metadata": {
    "ExecuteTime": {
     "end_time": "2018-06-02T01:32:38.189519Z",
     "start_time": "2018-06-02T01:32:38.036510Z"
    }
   },
   "outputs": [
    {
     "data": {
      "text/plain": [
       "datetime.datetime(2011, 1, 19, 0, 0)"
      ]
     },
     "execution_count": 9,
     "metadata": {},
     "output_type": "execute_result"
    }
   ],
   "source": [
    "start + timedelta(12)"
   ]
  },
  {
   "cell_type": "code",
   "execution_count": 10,
   "metadata": {
    "ExecuteTime": {
     "end_time": "2018-06-02T01:32:38.355528Z",
     "start_time": "2018-06-02T01:32:38.195519Z"
    }
   },
   "outputs": [
    {
     "data": {
      "text/plain": [
       "datetime.date(2011, 1, 1)"
      ]
     },
     "execution_count": 10,
     "metadata": {},
     "output_type": "execute_result"
    }
   ],
   "source": [
    "date(2011,1,1)"
   ]
  },
  {
   "cell_type": "code",
   "execution_count": 11,
   "metadata": {
    "ExecuteTime": {
     "end_time": "2018-06-02T01:32:38.474535Z",
     "start_time": "2018-06-02T01:32:38.359529Z"
    }
   },
   "outputs": [],
   "source": [
    "stamp = datetime(2011,1,1)"
   ]
  },
  {
   "cell_type": "code",
   "execution_count": 12,
   "metadata": {
    "ExecuteTime": {
     "end_time": "2018-06-02T01:32:38.611543Z",
     "start_time": "2018-06-02T01:32:38.477535Z"
    }
   },
   "outputs": [
    {
     "data": {
      "text/plain": [
       "'2011-01-01 00:00:00'"
      ]
     },
     "execution_count": 12,
     "metadata": {},
     "output_type": "execute_result"
    }
   ],
   "source": [
    "str(stamp)"
   ]
  },
  {
   "cell_type": "code",
   "execution_count": 13,
   "metadata": {
    "ExecuteTime": {
     "end_time": "2018-06-02T01:32:38.758551Z",
     "start_time": "2018-06-02T01:32:38.615543Z"
    }
   },
   "outputs": [
    {
     "data": {
      "text/plain": [
       "'2011'"
      ]
     },
     "execution_count": 13,
     "metadata": {},
     "output_type": "execute_result"
    }
   ],
   "source": [
    "stamp.strftime('%Y')"
   ]
  },
  {
   "cell_type": "code",
   "execution_count": 14,
   "metadata": {
    "ExecuteTime": {
     "end_time": "2018-06-02T01:32:38.874558Z",
     "start_time": "2018-06-02T01:32:38.768552Z"
    }
   },
   "outputs": [],
   "source": [
    "value = '2011-01-03'"
   ]
  },
  {
   "cell_type": "code",
   "execution_count": 15,
   "metadata": {
    "ExecuteTime": {
     "end_time": "2018-06-02T01:32:38.999565Z",
     "start_time": "2018-06-02T01:32:38.881558Z"
    }
   },
   "outputs": [
    {
     "data": {
      "text/plain": [
       "datetime.datetime(2011, 1, 3, 0, 0)"
      ]
     },
     "execution_count": 15,
     "metadata": {},
     "output_type": "execute_result"
    }
   ],
   "source": [
    "datetime.strptime(value,'%Y-%m-%d')"
   ]
  },
  {
   "cell_type": "code",
   "execution_count": 16,
   "metadata": {
    "ExecuteTime": {
     "end_time": "2018-06-02T01:32:39.139573Z",
     "start_time": "2018-06-02T01:32:39.003565Z"
    }
   },
   "outputs": [],
   "source": [
    "from dateutil.parser import parse"
   ]
  },
  {
   "cell_type": "code",
   "execution_count": 17,
   "metadata": {
    "ExecuteTime": {
     "end_time": "2018-06-02T01:32:39.266580Z",
     "start_time": "2018-06-02T01:32:39.143573Z"
    }
   },
   "outputs": [
    {
     "data": {
      "text/plain": [
       "datetime.datetime(2011, 1, 3, 0, 0)"
      ]
     },
     "execution_count": 17,
     "metadata": {},
     "output_type": "execute_result"
    }
   ],
   "source": [
    "parse(value)"
   ]
  },
  {
   "cell_type": "code",
   "execution_count": 18,
   "metadata": {
    "ExecuteTime": {
     "end_time": "2018-06-02T01:32:39.442591Z",
     "start_time": "2018-06-02T01:32:39.273581Z"
    }
   },
   "outputs": [],
   "source": [
    "datestrs = ['7/6/2011','8/6/2011']"
   ]
  },
  {
   "cell_type": "code",
   "execution_count": 19,
   "metadata": {
    "ExecuteTime": {
     "end_time": "2018-06-02T01:32:39.585599Z",
     "start_time": "2018-06-02T01:32:39.449591Z"
    }
   },
   "outputs": [
    {
     "data": {
      "text/plain": [
       "DatetimeIndex(['2011-07-06', '2011-08-06'], dtype='datetime64[ns]', freq=None)"
      ]
     },
     "execution_count": 19,
     "metadata": {},
     "output_type": "execute_result"
    }
   ],
   "source": [
    "pd.to_datetime(datestrs)"
   ]
  },
  {
   "cell_type": "code",
   "execution_count": 20,
   "metadata": {
    "ExecuteTime": {
     "end_time": "2018-06-02T01:32:39.751608Z",
     "start_time": "2018-06-02T01:32:39.593599Z"
    }
   },
   "outputs": [],
   "source": [
    "dates_0 = ['2011-1-2','2011-1-5','2011-1-7','2011-1-8','2011-1-10','2011-1-12']"
   ]
  },
  {
   "cell_type": "code",
   "execution_count": 21,
   "metadata": {
    "ExecuteTime": {
     "end_time": "2018-06-02T01:32:39.883616Z",
     "start_time": "2018-06-02T01:32:39.758609Z"
    }
   },
   "outputs": [],
   "source": [
    "dates = [datetime.strptime(x,'%Y-%m-%d') for x in dates_0]"
   ]
  },
  {
   "cell_type": "code",
   "execution_count": 22,
   "metadata": {
    "ExecuteTime": {
     "end_time": "2018-06-02T01:32:40.019624Z",
     "start_time": "2018-06-02T01:32:39.887616Z"
    }
   },
   "outputs": [
    {
     "data": {
      "text/plain": [
       "[datetime.datetime(2011, 1, 2, 0, 0),\n",
       " datetime.datetime(2011, 1, 5, 0, 0),\n",
       " datetime.datetime(2011, 1, 7, 0, 0),\n",
       " datetime.datetime(2011, 1, 8, 0, 0),\n",
       " datetime.datetime(2011, 1, 10, 0, 0),\n",
       " datetime.datetime(2011, 1, 12, 0, 0)]"
      ]
     },
     "execution_count": 22,
     "metadata": {},
     "output_type": "execute_result"
    }
   ],
   "source": [
    "dates"
   ]
  },
  {
   "cell_type": "code",
   "execution_count": 23,
   "metadata": {
    "ExecuteTime": {
     "end_time": "2018-06-02T01:32:40.308640Z",
     "start_time": "2018-06-02T01:32:40.025624Z"
    }
   },
   "outputs": [],
   "source": [
    "ts = Series(np.random.randn(6),index=dates)"
   ]
  },
  {
   "cell_type": "code",
   "execution_count": 24,
   "metadata": {
    "ExecuteTime": {
     "end_time": "2018-06-02T01:32:40.520652Z",
     "start_time": "2018-06-02T01:32:40.312640Z"
    }
   },
   "outputs": [
    {
     "data": {
      "text/plain": [
       "2011-01-02    0.946731\n",
       "2011-01-05   -0.176484\n",
       "2011-01-07   -0.237777\n",
       "2011-01-08    0.922980\n",
       "2011-01-10   -1.265481\n",
       "2011-01-12   -0.444359\n",
       "dtype: float64"
      ]
     },
     "execution_count": 24,
     "metadata": {},
     "output_type": "execute_result"
    }
   ],
   "source": [
    "ts"
   ]
  },
  {
   "cell_type": "code",
   "execution_count": 25,
   "metadata": {
    "ExecuteTime": {
     "end_time": "2018-06-02T01:32:40.667661Z",
     "start_time": "2018-06-02T01:32:40.525652Z"
    }
   },
   "outputs": [
    {
     "data": {
      "text/plain": [
       "0.9467305210241624"
      ]
     },
     "execution_count": 25,
     "metadata": {},
     "output_type": "execute_result"
    }
   ],
   "source": [
    "ts['2011-1-2']"
   ]
  },
  {
   "cell_type": "code",
   "execution_count": 26,
   "metadata": {
    "ExecuteTime": {
     "end_time": "2018-06-02T01:32:40.795668Z",
     "start_time": "2018-06-02T01:32:40.671661Z"
    }
   },
   "outputs": [],
   "source": [
    "longer_ts = Series(np.random.randn(1000),\n",
    "                  index = pd.date_range('2000-1-1',periods=1000))"
   ]
  },
  {
   "cell_type": "code",
   "execution_count": 27,
   "metadata": {
    "ExecuteTime": {
     "end_time": "2018-06-02T01:32:41.018681Z",
     "start_time": "2018-06-02T01:32:40.799668Z"
    }
   },
   "outputs": [
    {
     "data": {
      "text/plain": [
       "count    1000.000000\n",
       "mean        0.018119\n",
       "std         0.943001\n",
       "min        -2.996582\n",
       "25%        -0.592611\n",
       "50%         0.021012\n",
       "75%         0.620567\n",
       "max         3.349634\n",
       "dtype: float64"
      ]
     },
     "execution_count": 27,
     "metadata": {},
     "output_type": "execute_result"
    }
   ],
   "source": [
    "longer_ts.describe()"
   ]
  },
  {
   "cell_type": "code",
   "execution_count": 28,
   "metadata": {
    "ExecuteTime": {
     "end_time": "2018-06-02T01:32:41.166689Z",
     "start_time": "2018-06-02T01:32:41.023681Z"
    }
   },
   "outputs": [
    {
     "data": {
      "text/plain": [
       "2001-01-01    1.108158\n",
       "2001-01-02   -0.772413\n",
       "2001-01-03   -0.812503\n",
       "2001-01-04    3.349634\n",
       "2001-01-05    0.835400\n",
       "2001-01-06   -0.102833\n",
       "2001-01-07   -0.366929\n",
       "2001-01-08   -1.427792\n",
       "2001-01-09    0.432623\n",
       "2001-01-10   -0.244321\n",
       "2001-01-11   -0.684335\n",
       "2001-01-12    0.305357\n",
       "2001-01-13    0.428389\n",
       "2001-01-14    0.557050\n",
       "2001-01-15    1.010783\n",
       "2001-01-16   -0.442463\n",
       "2001-01-17   -1.509323\n",
       "2001-01-18    2.452070\n",
       "2001-01-19   -0.973098\n",
       "2001-01-20    0.509941\n",
       "2001-01-21   -0.340320\n",
       "2001-01-22   -1.392771\n",
       "2001-01-23   -0.302106\n",
       "2001-01-24   -1.251083\n",
       "2001-01-25    1.491627\n",
       "2001-01-26    1.499884\n",
       "2001-01-27   -0.276848\n",
       "2001-01-28    0.086477\n",
       "2001-01-29    1.545397\n",
       "2001-01-30   -0.885508\n",
       "2001-01-31    0.430993\n",
       "Freq: D, dtype: float64"
      ]
     },
     "execution_count": 28,
     "metadata": {},
     "output_type": "execute_result"
    }
   ],
   "source": [
    "longer_ts['2001-1']"
   ]
  },
  {
   "cell_type": "code",
   "execution_count": 29,
   "metadata": {
    "ExecuteTime": {
     "end_time": "2018-06-02T01:32:41.291696Z",
     "start_time": "2018-06-02T01:32:41.170689Z"
    }
   },
   "outputs": [
    {
     "data": {
      "text/plain": [
       "2011-01-07   -0.237777\n",
       "2011-01-08    0.922980\n",
       "2011-01-10   -1.265481\n",
       "2011-01-12   -0.444359\n",
       "dtype: float64"
      ]
     },
     "execution_count": 29,
     "metadata": {},
     "output_type": "execute_result"
    }
   ],
   "source": [
    "ts[datetime(2011,1,7):]"
   ]
  },
  {
   "cell_type": "code",
   "execution_count": 30,
   "metadata": {
    "ExecuteTime": {
     "end_time": "2018-06-02T01:32:41.421704Z",
     "start_time": "2018-06-02T01:32:41.302697Z"
    }
   },
   "outputs": [
    {
     "data": {
      "text/plain": [
       "2011-01-07   -0.237777\n",
       "2011-01-08    0.922980\n",
       "2011-01-10   -1.265481\n",
       "2011-01-12   -0.444359\n",
       "dtype: float64"
      ]
     },
     "execution_count": 30,
     "metadata": {},
     "output_type": "execute_result"
    }
   ],
   "source": [
    "ts['2011-1-7':]"
   ]
  },
  {
   "cell_type": "code",
   "execution_count": 31,
   "metadata": {
    "ExecuteTime": {
     "end_time": "2018-06-02T01:32:41.566712Z",
     "start_time": "2018-06-02T01:32:41.426704Z"
    }
   },
   "outputs": [
    {
     "data": {
      "text/plain": [
       "2011-01-02    0.946731\n",
       "2011-01-05   -0.176484\n",
       "2011-01-07   -0.237777\n",
       "dtype: float64"
      ]
     },
     "execution_count": 31,
     "metadata": {},
     "output_type": "execute_result"
    }
   ],
   "source": [
    "ts.truncate(after='2011-1-7')"
   ]
  },
  {
   "cell_type": "code",
   "execution_count": 32,
   "metadata": {
    "ExecuteTime": {
     "end_time": "2018-06-02T01:32:41.733722Z",
     "start_time": "2018-06-02T01:32:41.571712Z"
    }
   },
   "outputs": [],
   "source": [
    "dates = pd.date_range('2000-1-1',periods=100,freq='W-WED')"
   ]
  },
  {
   "cell_type": "code",
   "execution_count": 33,
   "metadata": {
    "ExecuteTime": {
     "end_time": "2018-06-02T01:32:41.860729Z",
     "start_time": "2018-06-02T01:32:41.737722Z"
    }
   },
   "outputs": [],
   "source": [
    "long_df = DataFrame(np.random.randn(100,4),\n",
    "                   index=dates,\n",
    "                   columns=['colorado','texas','new york','ohio'])"
   ]
  },
  {
   "cell_type": "code",
   "execution_count": 34,
   "metadata": {
    "ExecuteTime": {
     "end_time": "2018-06-02T01:32:42.113743Z",
     "start_time": "2018-06-02T01:32:41.866729Z"
    }
   },
   "outputs": [
    {
     "data": {
      "text/html": [
       "<div>\n",
       "<style scoped>\n",
       "    .dataframe tbody tr th:only-of-type {\n",
       "        vertical-align: middle;\n",
       "    }\n",
       "\n",
       "    .dataframe tbody tr th {\n",
       "        vertical-align: top;\n",
       "    }\n",
       "\n",
       "    .dataframe thead th {\n",
       "        text-align: right;\n",
       "    }\n",
       "</style>\n",
       "<table border=\"1\" class=\"dataframe\">\n",
       "  <thead>\n",
       "    <tr style=\"text-align: right;\">\n",
       "      <th></th>\n",
       "      <th>colorado</th>\n",
       "      <th>texas</th>\n",
       "      <th>new york</th>\n",
       "      <th>ohio</th>\n",
       "    </tr>\n",
       "  </thead>\n",
       "  <tbody>\n",
       "    <tr>\n",
       "      <th>2000-01-05</th>\n",
       "      <td>0.657209</td>\n",
       "      <td>1.406403</td>\n",
       "      <td>-0.462193</td>\n",
       "      <td>1.092075</td>\n",
       "    </tr>\n",
       "    <tr>\n",
       "      <th>2000-01-12</th>\n",
       "      <td>0.539073</td>\n",
       "      <td>1.872484</td>\n",
       "      <td>2.770060</td>\n",
       "      <td>0.383010</td>\n",
       "    </tr>\n",
       "    <tr>\n",
       "      <th>2000-01-19</th>\n",
       "      <td>0.397942</td>\n",
       "      <td>0.499473</td>\n",
       "      <td>0.434543</td>\n",
       "      <td>0.140115</td>\n",
       "    </tr>\n",
       "    <tr>\n",
       "      <th>2000-01-26</th>\n",
       "      <td>-0.811887</td>\n",
       "      <td>-1.090300</td>\n",
       "      <td>1.430513</td>\n",
       "      <td>1.743895</td>\n",
       "    </tr>\n",
       "  </tbody>\n",
       "</table>\n",
       "</div>"
      ],
      "text/plain": [
       "            colorado     texas  new york      ohio\n",
       "2000-01-05  0.657209  1.406403 -0.462193  1.092075\n",
       "2000-01-12  0.539073  1.872484  2.770060  0.383010\n",
       "2000-01-19  0.397942  0.499473  0.434543  0.140115\n",
       "2000-01-26 -0.811887 -1.090300  1.430513  1.743895"
      ]
     },
     "execution_count": 34,
     "metadata": {},
     "output_type": "execute_result"
    }
   ],
   "source": [
    "long_df.loc['2000-1']"
   ]
  },
  {
   "cell_type": "code",
   "execution_count": 35,
   "metadata": {
    "ExecuteTime": {
     "end_time": "2018-06-02T01:32:42.225750Z",
     "start_time": "2018-06-02T01:32:42.118744Z"
    }
   },
   "outputs": [
    {
     "data": {
      "text/plain": [
       "colorado    0.657209\n",
       "texas       1.406403\n",
       "new york   -0.462193\n",
       "ohio        1.092075\n",
       "Name: 2000-01-05 00:00:00, dtype: float64"
      ]
     },
     "execution_count": 35,
     "metadata": {},
     "output_type": "execute_result"
    }
   ],
   "source": [
    "long_df.loc['2000-01-05']"
   ]
  },
  {
   "cell_type": "code",
   "execution_count": 36,
   "metadata": {
    "ExecuteTime": {
     "end_time": "2018-06-02T01:32:42.347757Z",
     "start_time": "2018-06-02T01:32:42.233750Z"
    }
   },
   "outputs": [],
   "source": [
    "dates = pd.DatetimeIndex(['2000-1-1','2000-1-2','2000-1-2','2000-1-2','2000-1-3','2000-1-2'])"
   ]
  },
  {
   "cell_type": "code",
   "execution_count": 37,
   "metadata": {
    "ExecuteTime": {
     "end_time": "2018-06-02T01:32:42.490765Z",
     "start_time": "2018-06-02T01:32:42.350757Z"
    }
   },
   "outputs": [],
   "source": [
    "dup_ts = Series(np.arange(6),index=dates)"
   ]
  },
  {
   "cell_type": "code",
   "execution_count": 38,
   "metadata": {
    "ExecuteTime": {
     "end_time": "2018-06-02T01:32:42.628773Z",
     "start_time": "2018-06-02T01:32:42.495765Z"
    }
   },
   "outputs": [
    {
     "data": {
      "text/plain": [
       "2000-01-01    0\n",
       "2000-01-02    1\n",
       "2000-01-02    2\n",
       "2000-01-02    3\n",
       "2000-01-02    5\n",
       "dtype: int32"
      ]
     },
     "execution_count": 38,
     "metadata": {},
     "output_type": "execute_result"
    }
   ],
   "source": [
    "dup_ts['2000-1-1':'2000-1-2']"
   ]
  },
  {
   "cell_type": "code",
   "execution_count": 39,
   "metadata": {
    "ExecuteTime": {
     "end_time": "2018-06-02T01:32:42.775781Z",
     "start_time": "2018-06-02T01:32:42.636773Z"
    }
   },
   "outputs": [
    {
     "data": {
      "text/plain": [
       "2000-01-01    0.00\n",
       "2000-01-02    2.75\n",
       "2000-01-03    4.00\n",
       "dtype: float64"
      ]
     },
     "execution_count": 39,
     "metadata": {},
     "output_type": "execute_result"
    }
   ],
   "source": [
    "dup_ts.groupby(level=0).mean()"
   ]
  },
  {
   "cell_type": "code",
   "execution_count": 40,
   "metadata": {
    "ExecuteTime": {
     "end_time": "2018-06-02T01:32:42.918789Z",
     "start_time": "2018-06-02T01:32:42.779781Z"
    }
   },
   "outputs": [
    {
     "data": {
      "text/plain": [
       "2011-01-02    0.946731\n",
       "2011-01-05   -0.176484\n",
       "2011-01-07   -0.237777\n",
       "2011-01-08    0.922980\n",
       "2011-01-10   -1.265481\n",
       "2011-01-12   -0.444359\n",
       "dtype: float64"
      ]
     },
     "execution_count": 40,
     "metadata": {},
     "output_type": "execute_result"
    }
   ],
   "source": [
    "ts"
   ]
  },
  {
   "cell_type": "code",
   "execution_count": 48,
   "metadata": {
    "ExecuteTime": {
     "end_time": "2018-06-02T01:34:13.547973Z",
     "start_time": "2018-06-02T01:34:13.521972Z"
    }
   },
   "outputs": [
    {
     "data": {
      "text/plain": [
       "2011-01-02    0.946731\n",
       "2011-01-03    0.000000\n",
       "2011-01-04    0.000000\n",
       "2011-01-05   -0.176484\n",
       "2011-01-06    0.000000\n",
       "2011-01-07   -0.237777\n",
       "2011-01-08    0.922980\n",
       "2011-01-09    0.000000\n",
       "2011-01-10   -1.265481\n",
       "2011-01-11    0.000000\n",
       "2011-01-12   -0.444359\n",
       "Freq: D, dtype: float64"
      ]
     },
     "execution_count": 48,
     "metadata": {},
     "output_type": "execute_result"
    }
   ],
   "source": [
    "ts.resample('D').sum()"
   ]
  },
  {
   "cell_type": "code",
   "execution_count": 66,
   "metadata": {
    "ExecuteTime": {
     "end_time": "2018-06-02T01:42:47.326359Z",
     "start_time": "2018-06-02T01:42:47.303358Z"
    }
   },
   "outputs": [
    {
     "data": {
      "text/plain": [
       "DatetimeIndex(['2018-06-01', '2018-07-02', '2018-08-01', '2018-09-03',\n",
       "               '2018-10-01', '2018-11-01', '2018-12-03', '2019-01-01',\n",
       "               '2019-02-01', '2019-03-01', '2019-04-01', '2019-05-01',\n",
       "               '2019-06-03', '2019-07-01', '2019-08-01', '2019-09-02',\n",
       "               '2019-10-01', '2019-11-01', '2019-12-02', '2020-01-01',\n",
       "               '2020-02-03', '2020-03-02', '2020-04-01', '2020-05-01',\n",
       "               '2020-06-01', '2020-07-01', '2020-08-03', '2020-09-01',\n",
       "               '2020-10-01', '2020-11-02'],\n",
       "              dtype='datetime64[ns]', freq='BMS')"
      ]
     },
     "execution_count": 66,
     "metadata": {},
     "output_type": "execute_result"
    }
   ],
   "source": [
    "pd.date_range('2018-6-1',periods=30,freq='BMS')"
   ]
  },
  {
   "cell_type": "code",
   "execution_count": 67,
   "metadata": {
    "ExecuteTime": {
     "end_time": "2018-06-02T01:44:53.887598Z",
     "start_time": "2018-06-02T01:44:53.874598Z"
    }
   },
   "outputs": [],
   "source": [
    "ts = Series(np.random.randn(4),\n",
    "           index=pd.date_range('2000-1-1',periods=4,freq='M'))"
   ]
  },
  {
   "cell_type": "code",
   "execution_count": 68,
   "metadata": {
    "ExecuteTime": {
     "end_time": "2018-06-02T01:44:56.128727Z",
     "start_time": "2018-06-02T01:44:56.115726Z"
    }
   },
   "outputs": [
    {
     "data": {
      "text/plain": [
       "2000-01-31   -1.208754\n",
       "2000-02-29   -0.126044\n",
       "2000-03-31   -1.028706\n",
       "2000-04-30   -0.590755\n",
       "Freq: M, dtype: float64"
      ]
     },
     "execution_count": 68,
     "metadata": {},
     "output_type": "execute_result"
    }
   ],
   "source": [
    "ts"
   ]
  },
  {
   "cell_type": "code",
   "execution_count": 71,
   "metadata": {
    "ExecuteTime": {
     "end_time": "2018-06-02T01:46:28.442007Z",
     "start_time": "2018-06-02T01:46:28.421005Z"
    }
   },
   "outputs": [
    {
     "data": {
      "text/plain": [
       "2000-01-31   -1.028706\n",
       "2000-02-29   -0.590755\n",
       "2000-03-31         NaN\n",
       "2000-04-30         NaN\n",
       "Freq: M, dtype: float64"
      ]
     },
     "execution_count": 71,
     "metadata": {},
     "output_type": "execute_result"
    }
   ],
   "source": [
    "ts.shift(-2)"
   ]
  },
  {
   "cell_type": "code",
   "execution_count": 72,
   "metadata": {
    "ExecuteTime": {
     "end_time": "2018-06-02T01:46:51.497325Z",
     "start_time": "2018-06-02T01:46:51.463323Z"
    }
   },
   "outputs": [
    {
     "data": {
      "text/plain": [
       "2000-01-31         NaN\n",
       "2000-02-29   -0.895724\n",
       "2000-03-31    7.161499\n",
       "2000-04-30   -0.425730\n",
       "Freq: M, dtype: float64"
      ]
     },
     "execution_count": 72,
     "metadata": {},
     "output_type": "execute_result"
    }
   ],
   "source": [
    "ts/ts.shift(1)-1"
   ]
  },
  {
   "cell_type": "code",
   "execution_count": 73,
   "metadata": {
    "ExecuteTime": {
     "end_time": "2018-06-02T01:47:41.815203Z",
     "start_time": "2018-06-02T01:47:41.798202Z"
    }
   },
   "outputs": [
    {
     "data": {
      "text/plain": [
       "2000-03-31   -1.208754\n",
       "2000-04-30   -0.126044\n",
       "2000-05-31   -1.028706\n",
       "2000-06-30   -0.590755\n",
       "Freq: M, dtype: float64"
      ]
     },
     "execution_count": 73,
     "metadata": {},
     "output_type": "execute_result"
    }
   ],
   "source": [
    "ts.shift(2,freq='M')"
   ]
  },
  {
   "cell_type": "code",
   "execution_count": 74,
   "metadata": {
    "ExecuteTime": {
     "end_time": "2018-06-02T01:47:48.989614Z",
     "start_time": "2018-06-02T01:47:48.971613Z"
    }
   },
   "outputs": [
    {
     "data": {
      "text/plain": [
       "2000-01-31   -1.208754\n",
       "2000-02-29   -0.126044\n",
       "2000-03-31   -1.028706\n",
       "2000-04-30   -0.590755\n",
       "Freq: M, dtype: float64"
      ]
     },
     "execution_count": 74,
     "metadata": {},
     "output_type": "execute_result"
    }
   ],
   "source": [
    "ts"
   ]
  },
  {
   "cell_type": "code",
   "execution_count": 75,
   "metadata": {
    "ExecuteTime": {
     "end_time": "2018-06-02T01:52:11.845648Z",
     "start_time": "2018-06-02T01:52:11.830647Z"
    }
   },
   "outputs": [],
   "source": [
    "ts = Series(np.random.randn(20),\n",
    "           index=pd.date_range('2000-1-15',periods=20,freq='4D'))"
   ]
  },
  {
   "cell_type": "code",
   "execution_count": 76,
   "metadata": {
    "ExecuteTime": {
     "end_time": "2018-06-02T01:52:13.273730Z",
     "start_time": "2018-06-02T01:52:13.247728Z"
    }
   },
   "outputs": [
    {
     "data": {
      "text/plain": [
       "2000-01-15   -0.707077\n",
       "2000-01-19   -0.822899\n",
       "2000-01-23    0.709663\n",
       "2000-01-27    0.089571\n",
       "2000-01-31   -1.614710\n",
       "2000-02-04    0.714975\n",
       "2000-02-08    0.445949\n",
       "2000-02-12   -1.790047\n",
       "2000-02-16   -1.387005\n",
       "2000-02-20    1.570132\n",
       "2000-02-24   -0.005392\n",
       "2000-02-28    0.479243\n",
       "2000-03-03   -0.678647\n",
       "2000-03-07   -0.513885\n",
       "2000-03-11   -2.516752\n",
       "2000-03-15    0.401617\n",
       "2000-03-19   -0.397018\n",
       "2000-03-23   -0.689847\n",
       "2000-03-27    0.293947\n",
       "2000-03-31   -1.325638\n",
       "Freq: 4D, dtype: float64"
      ]
     },
     "execution_count": 76,
     "metadata": {},
     "output_type": "execute_result"
    }
   ],
   "source": [
    "ts"
   ]
  },
  {
   "cell_type": "code",
   "execution_count": 81,
   "metadata": {
    "ExecuteTime": {
     "end_time": "2018-06-02T01:54:41.629215Z",
     "start_time": "2018-06-02T01:54:41.606214Z"
    }
   },
   "outputs": [
    {
     "data": {
      "text/plain": [
       "2000-01-15    1\n",
       "2000-01-19    1\n",
       "2000-01-23    1\n",
       "2000-01-27    1\n",
       "2000-01-31    1\n",
       "2000-02-04    1\n",
       "2000-02-08    1\n",
       "2000-02-12    1\n",
       "2000-02-16    1\n",
       "2000-02-20    1\n",
       "2000-02-24    1\n",
       "2000-02-28    1\n",
       "2000-03-03    1\n",
       "2000-03-07    1\n",
       "2000-03-11    1\n",
       "2000-03-15    1\n",
       "2000-03-19    1\n",
       "2000-03-23    1\n",
       "2000-03-27    1\n",
       "2000-03-31    1\n",
       "Freq: 4D, dtype: int64"
      ]
     },
     "execution_count": 81,
     "metadata": {},
     "output_type": "execute_result"
    }
   ],
   "source": [
    "ts.resample('4D').count()"
   ]
  },
  {
   "cell_type": "code",
   "execution_count": 82,
   "metadata": {
    "ExecuteTime": {
     "end_time": "2018-06-02T01:56:05.831031Z",
     "start_time": "2018-06-02T01:56:05.817031Z"
    }
   },
   "outputs": [],
   "source": [
    "import pytz"
   ]
  },
  {
   "cell_type": "code",
   "execution_count": 84,
   "metadata": {
    "ExecuteTime": {
     "end_time": "2018-06-02T01:56:32.030530Z",
     "start_time": "2018-06-02T01:56:32.012529Z"
    }
   },
   "outputs": [
    {
     "data": {
      "text/plain": [
       "['Africa/Abidjan', 'Africa/Accra', 'Africa/Addis_Ababa']"
      ]
     },
     "execution_count": 84,
     "metadata": {},
     "output_type": "execute_result"
    }
   ],
   "source": [
    "pytz.common_timezones[:3]"
   ]
  },
  {
   "cell_type": "code",
   "execution_count": 85,
   "metadata": {
    "ExecuteTime": {
     "end_time": "2018-06-02T01:57:02.728286Z",
     "start_time": "2018-06-02T01:57:02.712285Z"
    }
   },
   "outputs": [],
   "source": [
    "tz = pytz.timezone('Africa/Accra')"
   ]
  },
  {
   "cell_type": "code",
   "execution_count": 86,
   "metadata": {
    "ExecuteTime": {
     "end_time": "2018-06-02T01:57:04.367379Z",
     "start_time": "2018-06-02T01:57:04.348378Z"
    }
   },
   "outputs": [
    {
     "data": {
      "text/plain": [
       "<DstTzInfo 'Africa/Accra' LMT-1 day, 23:59:00 STD>"
      ]
     },
     "execution_count": 86,
     "metadata": {},
     "output_type": "execute_result"
    }
   ],
   "source": [
    "tz"
   ]
  },
  {
   "cell_type": "code",
   "execution_count": 87,
   "metadata": {
    "ExecuteTime": {
     "end_time": "2018-06-02T01:58:27.735148Z",
     "start_time": "2018-06-02T01:58:27.616141Z"
    }
   },
   "outputs": [
    {
     "data": {
      "text/plain": [
       "DatetimeIndex(['2012-03-09 09:30:00+00:00', '2012-03-10 09:30:00+00:00',\n",
       "               '2012-03-11 09:30:00+00:00', '2012-03-12 09:30:00+00:00',\n",
       "               '2012-03-13 09:30:00+00:00', '2012-03-14 09:30:00+00:00'],\n",
       "              dtype='datetime64[ns, UTC]', freq='D')"
      ]
     },
     "execution_count": 87,
     "metadata": {},
     "output_type": "execute_result"
    }
   ],
   "source": [
    "pd.date_range('2012-3-9 9:30',periods=6,freq='D',tz='UTC')"
   ]
  },
  {
   "cell_type": "code",
   "execution_count": 88,
   "metadata": {
    "ExecuteTime": {
     "end_time": "2018-06-02T01:58:52.342555Z",
     "start_time": "2018-06-02T01:58:52.325554Z"
    }
   },
   "outputs": [
    {
     "data": {
      "text/plain": [
       "2000-01-15   -0.707077\n",
       "2000-01-19   -0.822899\n",
       "2000-01-23    0.709663\n",
       "2000-01-27    0.089571\n",
       "2000-01-31   -1.614710\n",
       "2000-02-04    0.714975\n",
       "2000-02-08    0.445949\n",
       "2000-02-12   -1.790047\n",
       "2000-02-16   -1.387005\n",
       "2000-02-20    1.570132\n",
       "2000-02-24   -0.005392\n",
       "2000-02-28    0.479243\n",
       "2000-03-03   -0.678647\n",
       "2000-03-07   -0.513885\n",
       "2000-03-11   -2.516752\n",
       "2000-03-15    0.401617\n",
       "2000-03-19   -0.397018\n",
       "2000-03-23   -0.689847\n",
       "2000-03-27    0.293947\n",
       "2000-03-31   -1.325638\n",
       "Freq: 4D, dtype: float64"
      ]
     },
     "execution_count": 88,
     "metadata": {},
     "output_type": "execute_result"
    }
   ],
   "source": [
    "ts"
   ]
  },
  {
   "cell_type": "code",
   "execution_count": 89,
   "metadata": {
    "ExecuteTime": {
     "end_time": "2018-06-02T02:00:22.903735Z",
     "start_time": "2018-06-02T02:00:22.884734Z"
    }
   },
   "outputs": [],
   "source": [
    "ts = Series(np.random.randn(6),\n",
    "           pd.date_range('2012-3-9 9:30',periods=6))"
   ]
  },
  {
   "cell_type": "code",
   "execution_count": 90,
   "metadata": {
    "ExecuteTime": {
     "end_time": "2018-06-02T02:00:27.825017Z",
     "start_time": "2018-06-02T02:00:27.798015Z"
    }
   },
   "outputs": [
    {
     "data": {
      "text/plain": [
       "2012-03-09 09:30:00   -0.360097\n",
       "2012-03-10 09:30:00   -0.056584\n",
       "2012-03-11 09:30:00    1.332797\n",
       "2012-03-12 09:30:00    1.278627\n",
       "2012-03-13 09:30:00   -0.287082\n",
       "2012-03-14 09:30:00    0.108611\n",
       "Freq: D, dtype: float64"
      ]
     },
     "execution_count": 90,
     "metadata": {},
     "output_type": "execute_result"
    }
   ],
   "source": [
    "ts"
   ]
  },
  {
   "cell_type": "code",
   "execution_count": 91,
   "metadata": {
    "ExecuteTime": {
     "end_time": "2018-06-02T02:00:49.822275Z",
     "start_time": "2018-06-02T02:00:49.813274Z"
    }
   },
   "outputs": [],
   "source": [
    "ts_utc = ts.tz_localize('UTC')"
   ]
  },
  {
   "cell_type": "code",
   "execution_count": 92,
   "metadata": {
    "ExecuteTime": {
     "end_time": "2018-06-02T02:00:54.937567Z",
     "start_time": "2018-06-02T02:00:54.923567Z"
    }
   },
   "outputs": [
    {
     "data": {
      "text/plain": [
       "2012-03-09 09:30:00+00:00   -0.360097\n",
       "2012-03-10 09:30:00+00:00   -0.056584\n",
       "2012-03-11 09:30:00+00:00    1.332797\n",
       "2012-03-12 09:30:00+00:00    1.278627\n",
       "2012-03-13 09:30:00+00:00   -0.287082\n",
       "2012-03-14 09:30:00+00:00    0.108611\n",
       "Freq: D, dtype: float64"
      ]
     },
     "execution_count": 92,
     "metadata": {},
     "output_type": "execute_result"
    }
   ],
   "source": [
    "ts_utc"
   ]
  },
  {
   "cell_type": "code",
   "execution_count": 93,
   "metadata": {
    "ExecuteTime": {
     "end_time": "2018-06-02T02:01:40.734187Z",
     "start_time": "2018-06-02T02:01:40.511174Z"
    }
   },
   "outputs": [
    {
     "data": {
      "text/plain": [
       "2012-03-09 04:30:00-05:00   -0.360097\n",
       "2012-03-10 04:30:00-05:00   -0.056584\n",
       "2012-03-11 05:30:00-04:00    1.332797\n",
       "2012-03-12 05:30:00-04:00    1.278627\n",
       "2012-03-13 05:30:00-04:00   -0.287082\n",
       "2012-03-14 05:30:00-04:00    0.108611\n",
       "Freq: D, dtype: float64"
      ]
     },
     "execution_count": 93,
     "metadata": {},
     "output_type": "execute_result"
    }
   ],
   "source": [
    "ts_utc.tz_convert('US/Eastern')"
   ]
  },
  {
   "cell_type": "code",
   "execution_count": 94,
   "metadata": {
    "ExecuteTime": {
     "end_time": "2018-06-02T02:02:49.680130Z",
     "start_time": "2018-06-02T02:02:49.668130Z"
    }
   },
   "outputs": [],
   "source": [
    "ts_eastern = ts.tz_localize('US/Eastern')"
   ]
  },
  {
   "cell_type": "code",
   "execution_count": 95,
   "metadata": {
    "ExecuteTime": {
     "end_time": "2018-06-02T02:02:52.317281Z",
     "start_time": "2018-06-02T02:02:52.298280Z"
    }
   },
   "outputs": [
    {
     "data": {
      "text/plain": [
       "2012-03-09 09:30:00-05:00   -0.360097\n",
       "2012-03-10 09:30:00-05:00   -0.056584\n",
       "2012-03-11 09:30:00-04:00    1.332797\n",
       "2012-03-12 09:30:00-04:00    1.278627\n",
       "2012-03-13 09:30:00-04:00   -0.287082\n",
       "2012-03-14 09:30:00-04:00    0.108611\n",
       "Freq: D, dtype: float64"
      ]
     },
     "execution_count": 95,
     "metadata": {},
     "output_type": "execute_result"
    }
   ],
   "source": [
    "ts_eastern"
   ]
  },
  {
   "cell_type": "code",
   "execution_count": 96,
   "metadata": {
    "ExecuteTime": {
     "end_time": "2018-06-02T02:03:10.864342Z",
     "start_time": "2018-06-02T02:03:10.847341Z"
    }
   },
   "outputs": [
    {
     "data": {
      "text/plain": [
       "2012-03-09 14:30:00+00:00   -0.360097\n",
       "2012-03-10 14:30:00+00:00   -0.056584\n",
       "2012-03-11 13:30:00+00:00    1.332797\n",
       "2012-03-12 13:30:00+00:00    1.278627\n",
       "2012-03-13 13:30:00+00:00   -0.287082\n",
       "2012-03-14 13:30:00+00:00    0.108611\n",
       "Freq: D, dtype: float64"
      ]
     },
     "execution_count": 96,
     "metadata": {},
     "output_type": "execute_result"
    }
   ],
   "source": [
    "ts_eastern.tz_convert('utc')"
   ]
  },
  {
   "cell_type": "code",
   "execution_count": 97,
   "metadata": {
    "ExecuteTime": {
     "end_time": "2018-06-02T02:52:42.876331Z",
     "start_time": "2018-06-02T02:52:42.739323Z"
    }
   },
   "outputs": [],
   "source": [
    "rng = pd.period_range('2000-1-1','2000-6-30',freq='M')"
   ]
  },
  {
   "cell_type": "code",
   "execution_count": 98,
   "metadata": {
    "ExecuteTime": {
     "end_time": "2018-06-02T02:52:44.589429Z",
     "start_time": "2018-06-02T02:52:44.566428Z"
    }
   },
   "outputs": [
    {
     "data": {
      "text/plain": [
       "PeriodIndex(['2000-01', '2000-02', '2000-03', '2000-04', '2000-05', '2000-06'], dtype='period[M]', freq='M')"
      ]
     },
     "execution_count": 98,
     "metadata": {},
     "output_type": "execute_result"
    }
   ],
   "source": [
    "rng"
   ]
  },
  {
   "cell_type": "code",
   "execution_count": 99,
   "metadata": {
    "ExecuteTime": {
     "end_time": "2018-06-02T02:59:25.523361Z",
     "start_time": "2018-06-02T02:59:25.507360Z"
    }
   },
   "outputs": [],
   "source": [
    "p = pd.Period('2007',freq='A-DEC')"
   ]
  },
  {
   "cell_type": "code",
   "execution_count": 100,
   "metadata": {
    "ExecuteTime": {
     "end_time": "2018-06-02T02:59:26.985445Z",
     "start_time": "2018-06-02T02:59:26.966444Z"
    }
   },
   "outputs": [
    {
     "data": {
      "text/plain": [
       "Period('2007', 'A-DEC')"
      ]
     },
     "execution_count": 100,
     "metadata": {},
     "output_type": "execute_result"
    }
   ],
   "source": [
    "p"
   ]
  },
  {
   "cell_type": "code",
   "execution_count": 104,
   "metadata": {
    "ExecuteTime": {
     "end_time": "2018-06-02T03:00:08.021792Z",
     "start_time": "2018-06-02T03:00:08.001791Z"
    }
   },
   "outputs": [
    {
     "data": {
      "text/plain": [
       "Period('2007-12-31', 'D')"
      ]
     },
     "execution_count": 104,
     "metadata": {},
     "output_type": "execute_result"
    }
   ],
   "source": [
    "p.asfreq('D',how='END')"
   ]
  },
  {
   "cell_type": "code",
   "execution_count": 110,
   "metadata": {
    "ExecuteTime": {
     "end_time": "2018-06-02T03:05:45.742109Z",
     "start_time": "2018-06-02T03:05:45.732108Z"
    }
   },
   "outputs": [],
   "source": [
    "p4pm = (p.asfreq('B','e')-1).asfreq('T','s') + 16*60"
   ]
  },
  {
   "cell_type": "code",
   "execution_count": 112,
   "metadata": {
    "ExecuteTime": {
     "end_time": "2018-06-02T03:05:55.904690Z",
     "start_time": "2018-06-02T03:05:55.836686Z"
    }
   },
   "outputs": [
    {
     "data": {
      "text/plain": [
       "Timestamp('2007-12-28 16:00:00')"
      ]
     },
     "execution_count": 112,
     "metadata": {},
     "output_type": "execute_result"
    }
   ],
   "source": [
    "p4pm.to_timestamp()"
   ]
  },
  {
   "cell_type": "code",
   "execution_count": 114,
   "metadata": {
    "ExecuteTime": {
     "end_time": "2018-06-02T03:35:42.933902Z",
     "start_time": "2018-06-02T03:35:42.925902Z"
    }
   },
   "outputs": [],
   "source": [
    "test = Series(np.arange(6))"
   ]
  },
  {
   "cell_type": "code",
   "execution_count": 115,
   "metadata": {
    "ExecuteTime": {
     "end_time": "2018-06-02T03:35:46.299095Z",
     "start_time": "2018-06-02T03:35:46.277093Z"
    }
   },
   "outputs": [
    {
     "data": {
      "text/plain": [
       "0    0\n",
       "1    1\n",
       "2    2\n",
       "3    3\n",
       "4    4\n",
       "5    5\n",
       "dtype: int32"
      ]
     },
     "execution_count": 115,
     "metadata": {},
     "output_type": "execute_result"
    }
   ],
   "source": [
    "test"
   ]
  },
  {
   "cell_type": "code",
   "execution_count": 117,
   "metadata": {
    "ExecuteTime": {
     "end_time": "2018-06-02T03:36:00.495907Z",
     "start_time": "2018-06-02T03:36:00.481906Z"
    }
   },
   "outputs": [],
   "source": [
    "test.index = list('abcdef')"
   ]
  },
  {
   "cell_type": "code",
   "execution_count": 118,
   "metadata": {
    "ExecuteTime": {
     "end_time": "2018-06-02T03:36:03.146058Z",
     "start_time": "2018-06-02T03:36:03.126057Z"
    }
   },
   "outputs": [
    {
     "data": {
      "text/plain": [
       "a    0\n",
       "b    1\n",
       "c    2\n",
       "d    3\n",
       "e    4\n",
       "f    5\n",
       "dtype: int32"
      ]
     },
     "execution_count": 118,
     "metadata": {},
     "output_type": "execute_result"
    }
   ],
   "source": [
    "test"
   ]
  },
  {
   "cell_type": "code",
   "execution_count": 119,
   "metadata": {
    "ExecuteTime": {
     "end_time": "2018-06-02T03:37:48.010056Z",
     "start_time": "2018-06-02T03:37:47.994055Z"
    }
   },
   "outputs": [
    {
     "data": {
      "text/plain": [
       "2012-03-09 09:30:00   -0.360097\n",
       "2012-03-10 09:30:00   -0.056584\n",
       "2012-03-11 09:30:00    1.332797\n",
       "2012-03-12 09:30:00    1.278627\n",
       "2012-03-13 09:30:00   -0.287082\n",
       "2012-03-14 09:30:00    0.108611\n",
       "Freq: D, dtype: float64"
      ]
     },
     "execution_count": 119,
     "metadata": {},
     "output_type": "execute_result"
    }
   ],
   "source": [
    "ts "
   ]
  },
  {
   "cell_type": "code",
   "execution_count": 124,
   "metadata": {
    "ExecuteTime": {
     "end_time": "2018-06-02T03:38:50.892653Z",
     "start_time": "2018-06-02T03:38:50.874652Z"
    }
   },
   "outputs": [
    {
     "data": {
      "text/plain": [
       "2012-03-01   -0.360097\n",
       "2012-03-01   -0.056584\n",
       "2012-03-01    1.332797\n",
       "2012-03-01    1.278627\n",
       "2012-03-01   -0.287082\n",
       "2012-03-01    0.108611\n",
       "dtype: float64"
      ]
     },
     "execution_count": 124,
     "metadata": {},
     "output_type": "execute_result"
    }
   ],
   "source": [
    "ts.to_period('M').to_timestamp('s')"
   ]
  },
  {
   "cell_type": "code",
   "execution_count": 123,
   "metadata": {
    "ExecuteTime": {
     "end_time": "2018-06-02T03:38:18.782816Z",
     "start_time": "2018-06-02T03:38:18.770815Z"
    }
   },
   "outputs": [
    {
     "data": {
      "text/plain": [
       "2012-03-09 09:30:00   -0.360097\n",
       "2012-03-10 09:30:00   -0.056584\n",
       "2012-03-11 09:30:00    1.332797\n",
       "2012-03-12 09:30:00    1.278627\n",
       "2012-03-13 09:30:00   -0.287082\n",
       "2012-03-14 09:30:00    0.108611\n",
       "Freq: D, dtype: float64"
      ]
     },
     "execution_count": 123,
     "metadata": {},
     "output_type": "execute_result"
    }
   ],
   "source": [
    "ts"
   ]
  },
  {
   "cell_type": "code",
   "execution_count": 125,
   "metadata": {
    "ExecuteTime": {
     "end_time": "2018-06-02T03:39:46.003805Z",
     "start_time": "2018-06-02T03:39:45.831795Z"
    }
   },
   "outputs": [],
   "source": [
    "data = pd.read_csv('./pydata-book/examples/macrodata.csv')"
   ]
  },
  {
   "cell_type": "code",
   "execution_count": 127,
   "metadata": {
    "ExecuteTime": {
     "end_time": "2018-06-02T03:41:35.770083Z",
     "start_time": "2018-06-02T03:41:35.757082Z"
    }
   },
   "outputs": [],
   "source": [
    "index = pd.PeriodIndex(year=data.year,quarter=data.quarter,freq='Q-DEC')"
   ]
  },
  {
   "cell_type": "code",
   "execution_count": 128,
   "metadata": {
    "ExecuteTime": {
     "end_time": "2018-06-02T03:41:45.239625Z",
     "start_time": "2018-06-02T03:41:45.225624Z"
    }
   },
   "outputs": [
    {
     "data": {
      "text/plain": [
       "PeriodIndex(['1959Q1', '1959Q2', '1959Q3', '1959Q4', '1960Q1', '1960Q2',\n",
       "             '1960Q3', '1960Q4', '1961Q1', '1961Q2',\n",
       "             ...\n",
       "             '2007Q2', '2007Q3', '2007Q4', '2008Q1', '2008Q2', '2008Q3',\n",
       "             '2008Q4', '2009Q1', '2009Q2', '2009Q3'],\n",
       "            dtype='period[Q-DEC]', length=203, freq='Q-DEC')"
      ]
     },
     "execution_count": 128,
     "metadata": {},
     "output_type": "execute_result"
    }
   ],
   "source": [
    "index"
   ]
  },
  {
   "cell_type": "code",
   "execution_count": 129,
   "metadata": {
    "ExecuteTime": {
     "end_time": "2018-06-02T03:41:54.895177Z",
     "start_time": "2018-06-02T03:41:54.883176Z"
    }
   },
   "outputs": [],
   "source": [
    "data.index = index"
   ]
  },
  {
   "cell_type": "code",
   "execution_count": 132,
   "metadata": {
    "ExecuteTime": {
     "end_time": "2018-06-02T03:42:59.055847Z",
     "start_time": "2018-06-02T03:42:59.034846Z"
    }
   },
   "outputs": [
    {
     "data": {
      "text/plain": [
       "1959-01-01     28.980\n",
       "1959-04-01     29.150\n",
       "1959-07-01     29.350\n",
       "1959-10-01     29.370\n",
       "1960-01-01     29.540\n",
       "1960-04-01     29.550\n",
       "1960-07-01     29.750\n",
       "1960-10-01     29.840\n",
       "1961-01-01     29.810\n",
       "1961-04-01     29.920\n",
       "1961-07-01     29.980\n",
       "1961-10-01     30.040\n",
       "1962-01-01     30.210\n",
       "1962-04-01     30.220\n",
       "1962-07-01     30.380\n",
       "1962-10-01     30.440\n",
       "1963-01-01     30.480\n",
       "1963-04-01     30.690\n",
       "1963-07-01     30.750\n",
       "1963-10-01     30.940\n",
       "1964-01-01     30.950\n",
       "1964-04-01     31.020\n",
       "1964-07-01     31.120\n",
       "1964-10-01     31.280\n",
       "1965-01-01     31.380\n",
       "1965-04-01     31.580\n",
       "1965-07-01     31.650\n",
       "1965-10-01     31.880\n",
       "1966-01-01     32.280\n",
       "1966-04-01     32.450\n",
       "               ...   \n",
       "2002-04-01    180.000\n",
       "2002-07-01    181.200\n",
       "2002-10-01    182.600\n",
       "2003-01-01    183.200\n",
       "2003-04-01    183.700\n",
       "2003-07-01    184.900\n",
       "2003-10-01    186.300\n",
       "2004-01-01    187.400\n",
       "2004-04-01    189.100\n",
       "2004-07-01    190.800\n",
       "2004-10-01    191.800\n",
       "2005-01-01    193.800\n",
       "2005-04-01    194.700\n",
       "2005-07-01    199.200\n",
       "2005-10-01    199.400\n",
       "2006-01-01    200.700\n",
       "2006-04-01    202.700\n",
       "2006-07-01    201.900\n",
       "2006-10-01    203.574\n",
       "2007-01-01    205.920\n",
       "2007-04-01    207.338\n",
       "2007-07-01    209.133\n",
       "2007-10-01    212.495\n",
       "2008-01-01    213.997\n",
       "2008-04-01    218.610\n",
       "2008-07-01    216.889\n",
       "2008-10-01    212.174\n",
       "2009-01-01    212.671\n",
       "2009-04-01    214.469\n",
       "2009-07-01    216.385\n",
       "Freq: QS-OCT, Name: cpi, Length: 203, dtype: float64"
      ]
     },
     "execution_count": 132,
     "metadata": {},
     "output_type": "execute_result"
    }
   ],
   "source": [
    "data.to_timestamp().cpi"
   ]
  },
  {
   "cell_type": "code",
   "execution_count": 133,
   "metadata": {
    "ExecuteTime": {
     "end_time": "2018-06-02T03:45:03.544967Z",
     "start_time": "2018-06-02T03:45:03.534967Z"
    }
   },
   "outputs": [],
   "source": [
    "ts = Series(np.random.randn(100),\n",
    "           index=pd.date_range('2000-1-1',periods=100,freq='D'))"
   ]
  },
  {
   "cell_type": "code",
   "execution_count": 134,
   "metadata": {
    "ExecuteTime": {
     "end_time": "2018-06-02T03:45:05.291067Z",
     "start_time": "2018-06-02T03:45:05.268066Z"
    }
   },
   "outputs": [
    {
     "data": {
      "text/plain": [
       "2000-01-01   -0.965787\n",
       "2000-01-02    0.406962\n",
       "2000-01-03   -0.211960\n",
       "2000-01-04   -0.773654\n",
       "2000-01-05    0.829125\n",
       "2000-01-06   -0.547720\n",
       "2000-01-07   -0.224639\n",
       "2000-01-08    1.381218\n",
       "2000-01-09   -0.184015\n",
       "2000-01-10    0.938681\n",
       "2000-01-11    0.260575\n",
       "2000-01-12   -0.192678\n",
       "2000-01-13    1.013141\n",
       "2000-01-14    0.976938\n",
       "2000-01-15    0.777456\n",
       "2000-01-16    0.400863\n",
       "2000-01-17   -0.024334\n",
       "2000-01-18   -0.346622\n",
       "2000-01-19   -0.497843\n",
       "2000-01-20    0.998738\n",
       "2000-01-21   -0.182897\n",
       "2000-01-22    0.998946\n",
       "2000-01-23    0.790447\n",
       "2000-01-24    0.627934\n",
       "2000-01-25    0.297856\n",
       "2000-01-26   -1.627721\n",
       "2000-01-27   -0.461499\n",
       "2000-01-28    0.292666\n",
       "2000-01-29    0.823917\n",
       "2000-01-30   -1.034681\n",
       "                ...   \n",
       "2000-03-11    1.257636\n",
       "2000-03-12    1.744634\n",
       "2000-03-13    0.206738\n",
       "2000-03-14   -0.143047\n",
       "2000-03-15    0.017852\n",
       "2000-03-16   -0.371024\n",
       "2000-03-17    1.273635\n",
       "2000-03-18   -0.658580\n",
       "2000-03-19   -0.179117\n",
       "2000-03-20   -1.178289\n",
       "2000-03-21   -0.018510\n",
       "2000-03-22   -0.329047\n",
       "2000-03-23    0.284332\n",
       "2000-03-24    0.048251\n",
       "2000-03-25    1.018865\n",
       "2000-03-26   -0.330466\n",
       "2000-03-27   -1.230227\n",
       "2000-03-28   -0.836150\n",
       "2000-03-29   -1.282854\n",
       "2000-03-30   -0.518740\n",
       "2000-03-31    1.262564\n",
       "2000-04-01    0.342176\n",
       "2000-04-02    1.165097\n",
       "2000-04-03    0.361590\n",
       "2000-04-04   -2.067889\n",
       "2000-04-05   -1.152536\n",
       "2000-04-06   -0.330768\n",
       "2000-04-07    0.994148\n",
       "2000-04-08   -0.321541\n",
       "2000-04-09    0.447275\n",
       "Freq: D, Length: 100, dtype: float64"
      ]
     },
     "execution_count": 134,
     "metadata": {},
     "output_type": "execute_result"
    }
   ],
   "source": [
    "ts"
   ]
  },
  {
   "cell_type": "code",
   "execution_count": 137,
   "metadata": {
    "ExecuteTime": {
     "end_time": "2018-06-02T03:46:17.133176Z",
     "start_time": "2018-06-02T03:46:17.116175Z"
    }
   },
   "outputs": [
    {
     "data": {
      "text/plain": [
       "2000-01    31\n",
       "2000-02    29\n",
       "2000-03    31\n",
       "2000-04     9\n",
       "Freq: M, dtype: int64"
      ]
     },
     "execution_count": 137,
     "metadata": {},
     "output_type": "execute_result"
    }
   ],
   "source": [
    "ts.resample('M',kind='period').count()"
   ]
  },
  {
   "cell_type": "code",
   "execution_count": 140,
   "metadata": {
    "ExecuteTime": {
     "end_time": "2018-06-02T03:49:21.132700Z",
     "start_time": "2018-06-02T03:49:21.119700Z"
    }
   },
   "outputs": [],
   "source": [
    "ts = Series(np.arange(12),\n",
    "           index=pd.date_range('2000-1-1',periods=12,freq='T'))"
   ]
  },
  {
   "cell_type": "code",
   "execution_count": 141,
   "metadata": {
    "ExecuteTime": {
     "end_time": "2018-06-02T03:49:22.978806Z",
     "start_time": "2018-06-02T03:49:22.958805Z"
    }
   },
   "outputs": [
    {
     "data": {
      "text/plain": [
       "2000-01-01 00:00:00     0\n",
       "2000-01-01 00:01:00     1\n",
       "2000-01-01 00:02:00     2\n",
       "2000-01-01 00:03:00     3\n",
       "2000-01-01 00:04:00     4\n",
       "2000-01-01 00:05:00     5\n",
       "2000-01-01 00:06:00     6\n",
       "2000-01-01 00:07:00     7\n",
       "2000-01-01 00:08:00     8\n",
       "2000-01-01 00:09:00     9\n",
       "2000-01-01 00:10:00    10\n",
       "2000-01-01 00:11:00    11\n",
       "Freq: T, dtype: int32"
      ]
     },
     "execution_count": 141,
     "metadata": {},
     "output_type": "execute_result"
    }
   ],
   "source": [
    "ts"
   ]
  },
  {
   "cell_type": "code",
   "execution_count": 152,
   "metadata": {
    "ExecuteTime": {
     "end_time": "2018-06-02T03:53:59.228607Z",
     "start_time": "2018-06-02T03:53:59.149602Z"
    }
   },
   "outputs": [
    {
     "data": {
      "text/html": [
       "<div>\n",
       "<style scoped>\n",
       "    .dataframe tbody tr th:only-of-type {\n",
       "        vertical-align: middle;\n",
       "    }\n",
       "\n",
       "    .dataframe tbody tr th {\n",
       "        vertical-align: top;\n",
       "    }\n",
       "\n",
       "    .dataframe thead th {\n",
       "        text-align: right;\n",
       "    }\n",
       "</style>\n",
       "<table border=\"1\" class=\"dataframe\">\n",
       "  <thead>\n",
       "    <tr style=\"text-align: right;\">\n",
       "      <th></th>\n",
       "      <th>open</th>\n",
       "      <th>high</th>\n",
       "      <th>low</th>\n",
       "      <th>close</th>\n",
       "    </tr>\n",
       "  </thead>\n",
       "  <tbody>\n",
       "    <tr>\n",
       "      <th>2000-01-01 00:00:00</th>\n",
       "      <td>0</td>\n",
       "      <td>4</td>\n",
       "      <td>0</td>\n",
       "      <td>4</td>\n",
       "    </tr>\n",
       "    <tr>\n",
       "      <th>2000-01-01 00:05:00</th>\n",
       "      <td>5</td>\n",
       "      <td>9</td>\n",
       "      <td>5</td>\n",
       "      <td>9</td>\n",
       "    </tr>\n",
       "    <tr>\n",
       "      <th>2000-01-01 00:10:00</th>\n",
       "      <td>10</td>\n",
       "      <td>11</td>\n",
       "      <td>10</td>\n",
       "      <td>11</td>\n",
       "    </tr>\n",
       "  </tbody>\n",
       "</table>\n",
       "</div>"
      ],
      "text/plain": [
       "                     open  high  low  close\n",
       "2000-01-01 00:00:00     0     4    0      4\n",
       "2000-01-01 00:05:00     5     9    5      9\n",
       "2000-01-01 00:10:00    10    11   10     11"
      ]
     },
     "execution_count": 152,
     "metadata": {},
     "output_type": "execute_result"
    }
   ],
   "source": [
    "ts.resample('5min').ohlc()"
   ]
  },
  {
   "cell_type": "code",
   "execution_count": 153,
   "metadata": {
    "ExecuteTime": {
     "end_time": "2018-06-02T03:56:26.082006Z",
     "start_time": "2018-06-02T03:56:26.062005Z"
    }
   },
   "outputs": [],
   "source": [
    "frame = DataFrame(np.random.randn(2,4),\n",
    "                 index=pd.date_range('2000-1-1',periods=2,freq='W-WED'),\n",
    "                 columns=['colorado','texas','new york','ohio'])"
   ]
  },
  {
   "cell_type": "code",
   "execution_count": 154,
   "metadata": {
    "ExecuteTime": {
     "end_time": "2018-06-02T03:56:28.808162Z",
     "start_time": "2018-06-02T03:56:28.782161Z"
    }
   },
   "outputs": [
    {
     "data": {
      "text/html": [
       "<div>\n",
       "<style scoped>\n",
       "    .dataframe tbody tr th:only-of-type {\n",
       "        vertical-align: middle;\n",
       "    }\n",
       "\n",
       "    .dataframe tbody tr th {\n",
       "        vertical-align: top;\n",
       "    }\n",
       "\n",
       "    .dataframe thead th {\n",
       "        text-align: right;\n",
       "    }\n",
       "</style>\n",
       "<table border=\"1\" class=\"dataframe\">\n",
       "  <thead>\n",
       "    <tr style=\"text-align: right;\">\n",
       "      <th></th>\n",
       "      <th>colorado</th>\n",
       "      <th>texas</th>\n",
       "      <th>new york</th>\n",
       "      <th>ohio</th>\n",
       "    </tr>\n",
       "  </thead>\n",
       "  <tbody>\n",
       "    <tr>\n",
       "      <th>2000-01-05</th>\n",
       "      <td>0.387263</td>\n",
       "      <td>1.112517</td>\n",
       "      <td>-0.139186</td>\n",
       "      <td>-1.021643</td>\n",
       "    </tr>\n",
       "    <tr>\n",
       "      <th>2000-01-12</th>\n",
       "      <td>-1.096508</td>\n",
       "      <td>0.360635</td>\n",
       "      <td>0.035650</td>\n",
       "      <td>-0.619539</td>\n",
       "    </tr>\n",
       "  </tbody>\n",
       "</table>\n",
       "</div>"
      ],
      "text/plain": [
       "            colorado     texas  new york      ohio\n",
       "2000-01-05  0.387263  1.112517 -0.139186 -1.021643\n",
       "2000-01-12 -1.096508  0.360635  0.035650 -0.619539"
      ]
     },
     "execution_count": 154,
     "metadata": {},
     "output_type": "execute_result"
    }
   ],
   "source": [
    "frame"
   ]
  },
  {
   "cell_type": "code",
   "execution_count": 159,
   "metadata": {
    "ExecuteTime": {
     "end_time": "2018-06-02T03:58:16.973349Z",
     "start_time": "2018-06-02T03:58:16.955348Z"
    }
   },
   "outputs": [],
   "source": [
    "df_daily = frame.resample('D').ffill(limit=2)"
   ]
  },
  {
   "cell_type": "code",
   "execution_count": 160,
   "metadata": {
    "ExecuteTime": {
     "end_time": "2018-06-02T03:58:18.903459Z",
     "start_time": "2018-06-02T03:58:18.880458Z"
    }
   },
   "outputs": [
    {
     "data": {
      "text/html": [
       "<div>\n",
       "<style scoped>\n",
       "    .dataframe tbody tr th:only-of-type {\n",
       "        vertical-align: middle;\n",
       "    }\n",
       "\n",
       "    .dataframe tbody tr th {\n",
       "        vertical-align: top;\n",
       "    }\n",
       "\n",
       "    .dataframe thead th {\n",
       "        text-align: right;\n",
       "    }\n",
       "</style>\n",
       "<table border=\"1\" class=\"dataframe\">\n",
       "  <thead>\n",
       "    <tr style=\"text-align: right;\">\n",
       "      <th></th>\n",
       "      <th>colorado</th>\n",
       "      <th>texas</th>\n",
       "      <th>new york</th>\n",
       "      <th>ohio</th>\n",
       "    </tr>\n",
       "  </thead>\n",
       "  <tbody>\n",
       "    <tr>\n",
       "      <th>2000-01-05</th>\n",
       "      <td>0.387263</td>\n",
       "      <td>1.112517</td>\n",
       "      <td>-0.139186</td>\n",
       "      <td>-1.021643</td>\n",
       "    </tr>\n",
       "    <tr>\n",
       "      <th>2000-01-06</th>\n",
       "      <td>0.387263</td>\n",
       "      <td>1.112517</td>\n",
       "      <td>-0.139186</td>\n",
       "      <td>-1.021643</td>\n",
       "    </tr>\n",
       "    <tr>\n",
       "      <th>2000-01-07</th>\n",
       "      <td>0.387263</td>\n",
       "      <td>1.112517</td>\n",
       "      <td>-0.139186</td>\n",
       "      <td>-1.021643</td>\n",
       "    </tr>\n",
       "    <tr>\n",
       "      <th>2000-01-08</th>\n",
       "      <td>NaN</td>\n",
       "      <td>NaN</td>\n",
       "      <td>NaN</td>\n",
       "      <td>NaN</td>\n",
       "    </tr>\n",
       "    <tr>\n",
       "      <th>2000-01-09</th>\n",
       "      <td>NaN</td>\n",
       "      <td>NaN</td>\n",
       "      <td>NaN</td>\n",
       "      <td>NaN</td>\n",
       "    </tr>\n",
       "    <tr>\n",
       "      <th>2000-01-10</th>\n",
       "      <td>NaN</td>\n",
       "      <td>NaN</td>\n",
       "      <td>NaN</td>\n",
       "      <td>NaN</td>\n",
       "    </tr>\n",
       "    <tr>\n",
       "      <th>2000-01-11</th>\n",
       "      <td>NaN</td>\n",
       "      <td>NaN</td>\n",
       "      <td>NaN</td>\n",
       "      <td>NaN</td>\n",
       "    </tr>\n",
       "    <tr>\n",
       "      <th>2000-01-12</th>\n",
       "      <td>-1.096508</td>\n",
       "      <td>0.360635</td>\n",
       "      <td>0.035650</td>\n",
       "      <td>-0.619539</td>\n",
       "    </tr>\n",
       "  </tbody>\n",
       "</table>\n",
       "</div>"
      ],
      "text/plain": [
       "            colorado     texas  new york      ohio\n",
       "2000-01-05  0.387263  1.112517 -0.139186 -1.021643\n",
       "2000-01-06  0.387263  1.112517 -0.139186 -1.021643\n",
       "2000-01-07  0.387263  1.112517 -0.139186 -1.021643\n",
       "2000-01-08       NaN       NaN       NaN       NaN\n",
       "2000-01-09       NaN       NaN       NaN       NaN\n",
       "2000-01-10       NaN       NaN       NaN       NaN\n",
       "2000-01-11       NaN       NaN       NaN       NaN\n",
       "2000-01-12 -1.096508  0.360635  0.035650 -0.619539"
      ]
     },
     "execution_count": 160,
     "metadata": {},
     "output_type": "execute_result"
    }
   ],
   "source": [
    "df_daily"
   ]
  },
  {
   "cell_type": "code",
   "execution_count": 166,
   "metadata": {
    "ExecuteTime": {
     "end_time": "2018-06-02T03:59:41.854204Z",
     "start_time": "2018-06-02T03:59:41.827202Z"
    }
   },
   "outputs": [
    {
     "data": {
      "text/html": [
       "<div>\n",
       "<style scoped>\n",
       "    .dataframe tbody tr th:only-of-type {\n",
       "        vertical-align: middle;\n",
       "    }\n",
       "\n",
       "    .dataframe tbody tr th {\n",
       "        vertical-align: top;\n",
       "    }\n",
       "\n",
       "    .dataframe thead th {\n",
       "        text-align: right;\n",
       "    }\n",
       "</style>\n",
       "<table border=\"1\" class=\"dataframe\">\n",
       "  <thead>\n",
       "    <tr style=\"text-align: right;\">\n",
       "      <th></th>\n",
       "      <th>colorado</th>\n",
       "      <th>texas</th>\n",
       "      <th>new york</th>\n",
       "      <th>ohio</th>\n",
       "    </tr>\n",
       "  </thead>\n",
       "  <tbody>\n",
       "    <tr>\n",
       "      <th>2000-01-06</th>\n",
       "      <td>0.387263</td>\n",
       "      <td>1.112517</td>\n",
       "      <td>-0.139186</td>\n",
       "      <td>-1.021643</td>\n",
       "    </tr>\n",
       "    <tr>\n",
       "      <th>2000-01-13</th>\n",
       "      <td>-1.096508</td>\n",
       "      <td>0.360635</td>\n",
       "      <td>0.035650</td>\n",
       "      <td>-0.619539</td>\n",
       "    </tr>\n",
       "  </tbody>\n",
       "</table>\n",
       "</div>"
      ],
      "text/plain": [
       "            colorado     texas  new york      ohio\n",
       "2000-01-06  0.387263  1.112517 -0.139186 -1.021643\n",
       "2000-01-13 -1.096508  0.360635  0.035650 -0.619539"
      ]
     },
     "execution_count": 166,
     "metadata": {},
     "output_type": "execute_result"
    }
   ],
   "source": [
    "frame.resample('W-THU').ffill()"
   ]
  },
  {
   "cell_type": "code",
   "execution_count": 169,
   "metadata": {
    "ExecuteTime": {
     "end_time": "2018-06-02T04:01:13.249431Z",
     "start_time": "2018-06-02T04:01:13.233430Z"
    }
   },
   "outputs": [],
   "source": [
    "frame = DataFrame(np.random.randn(24,4),\n",
    "                 index=pd.period_range('2000-1',periods=24,freq='M'),\n",
    "                 columns=['colorado','texas','new york','ohio'])"
   ]
  },
  {
   "cell_type": "code",
   "execution_count": 170,
   "metadata": {
    "ExecuteTime": {
     "end_time": "2018-06-02T04:01:16.349608Z",
     "start_time": "2018-06-02T04:01:16.308606Z"
    }
   },
   "outputs": [
    {
     "data": {
      "text/html": [
       "<div>\n",
       "<style scoped>\n",
       "    .dataframe tbody tr th:only-of-type {\n",
       "        vertical-align: middle;\n",
       "    }\n",
       "\n",
       "    .dataframe tbody tr th {\n",
       "        vertical-align: top;\n",
       "    }\n",
       "\n",
       "    .dataframe thead th {\n",
       "        text-align: right;\n",
       "    }\n",
       "</style>\n",
       "<table border=\"1\" class=\"dataframe\">\n",
       "  <thead>\n",
       "    <tr style=\"text-align: right;\">\n",
       "      <th></th>\n",
       "      <th>colorado</th>\n",
       "      <th>texas</th>\n",
       "      <th>new york</th>\n",
       "      <th>ohio</th>\n",
       "    </tr>\n",
       "  </thead>\n",
       "  <tbody>\n",
       "    <tr>\n",
       "      <th>2000-01</th>\n",
       "      <td>-2.294524</td>\n",
       "      <td>0.085191</td>\n",
       "      <td>-0.425585</td>\n",
       "      <td>-0.970417</td>\n",
       "    </tr>\n",
       "    <tr>\n",
       "      <th>2000-02</th>\n",
       "      <td>1.069034</td>\n",
       "      <td>-0.121338</td>\n",
       "      <td>0.604887</td>\n",
       "      <td>1.476012</td>\n",
       "    </tr>\n",
       "    <tr>\n",
       "      <th>2000-03</th>\n",
       "      <td>-0.141267</td>\n",
       "      <td>-1.059185</td>\n",
       "      <td>0.638663</td>\n",
       "      <td>-0.561788</td>\n",
       "    </tr>\n",
       "    <tr>\n",
       "      <th>2000-04</th>\n",
       "      <td>-0.070112</td>\n",
       "      <td>1.191395</td>\n",
       "      <td>1.570107</td>\n",
       "      <td>0.354871</td>\n",
       "    </tr>\n",
       "    <tr>\n",
       "      <th>2000-05</th>\n",
       "      <td>-0.214928</td>\n",
       "      <td>1.653636</td>\n",
       "      <td>0.180175</td>\n",
       "      <td>-0.379450</td>\n",
       "    </tr>\n",
       "    <tr>\n",
       "      <th>2000-06</th>\n",
       "      <td>-0.352778</td>\n",
       "      <td>1.622160</td>\n",
       "      <td>1.026326</td>\n",
       "      <td>-0.863815</td>\n",
       "    </tr>\n",
       "    <tr>\n",
       "      <th>2000-07</th>\n",
       "      <td>1.882299</td>\n",
       "      <td>0.474392</td>\n",
       "      <td>-2.097997</td>\n",
       "      <td>-1.584813</td>\n",
       "    </tr>\n",
       "    <tr>\n",
       "      <th>2000-08</th>\n",
       "      <td>0.136626</td>\n",
       "      <td>-0.226936</td>\n",
       "      <td>-2.558512</td>\n",
       "      <td>-0.500755</td>\n",
       "    </tr>\n",
       "    <tr>\n",
       "      <th>2000-09</th>\n",
       "      <td>-0.241129</td>\n",
       "      <td>-1.071082</td>\n",
       "      <td>0.161110</td>\n",
       "      <td>0.937748</td>\n",
       "    </tr>\n",
       "    <tr>\n",
       "      <th>2000-10</th>\n",
       "      <td>0.577493</td>\n",
       "      <td>-0.021229</td>\n",
       "      <td>0.959306</td>\n",
       "      <td>0.492932</td>\n",
       "    </tr>\n",
       "    <tr>\n",
       "      <th>2000-11</th>\n",
       "      <td>1.109645</td>\n",
       "      <td>-0.303422</td>\n",
       "      <td>0.793057</td>\n",
       "      <td>-0.176139</td>\n",
       "    </tr>\n",
       "    <tr>\n",
       "      <th>2000-12</th>\n",
       "      <td>1.896116</td>\n",
       "      <td>-0.280878</td>\n",
       "      <td>0.825603</td>\n",
       "      <td>0.177853</td>\n",
       "    </tr>\n",
       "    <tr>\n",
       "      <th>2001-01</th>\n",
       "      <td>0.456592</td>\n",
       "      <td>-0.023370</td>\n",
       "      <td>-0.536586</td>\n",
       "      <td>-0.451523</td>\n",
       "    </tr>\n",
       "    <tr>\n",
       "      <th>2001-02</th>\n",
       "      <td>-1.013297</td>\n",
       "      <td>-1.381460</td>\n",
       "      <td>-0.156904</td>\n",
       "      <td>-1.259158</td>\n",
       "    </tr>\n",
       "    <tr>\n",
       "      <th>2001-03</th>\n",
       "      <td>-2.083049</td>\n",
       "      <td>3.556201</td>\n",
       "      <td>0.639487</td>\n",
       "      <td>-1.611159</td>\n",
       "    </tr>\n",
       "    <tr>\n",
       "      <th>2001-04</th>\n",
       "      <td>-0.071878</td>\n",
       "      <td>3.543510</td>\n",
       "      <td>2.215442</td>\n",
       "      <td>0.759478</td>\n",
       "    </tr>\n",
       "    <tr>\n",
       "      <th>2001-05</th>\n",
       "      <td>-0.418213</td>\n",
       "      <td>-1.582508</td>\n",
       "      <td>-0.732204</td>\n",
       "      <td>1.089715</td>\n",
       "    </tr>\n",
       "    <tr>\n",
       "      <th>2001-06</th>\n",
       "      <td>-0.246766</td>\n",
       "      <td>0.716603</td>\n",
       "      <td>0.058523</td>\n",
       "      <td>-1.093231</td>\n",
       "    </tr>\n",
       "    <tr>\n",
       "      <th>2001-07</th>\n",
       "      <td>-0.285696</td>\n",
       "      <td>-0.355280</td>\n",
       "      <td>0.410889</td>\n",
       "      <td>0.561351</td>\n",
       "    </tr>\n",
       "    <tr>\n",
       "      <th>2001-08</th>\n",
       "      <td>0.778360</td>\n",
       "      <td>-2.712556</td>\n",
       "      <td>0.047943</td>\n",
       "      <td>0.595814</td>\n",
       "    </tr>\n",
       "    <tr>\n",
       "      <th>2001-09</th>\n",
       "      <td>0.691685</td>\n",
       "      <td>1.632364</td>\n",
       "      <td>-0.843127</td>\n",
       "      <td>1.400473</td>\n",
       "    </tr>\n",
       "    <tr>\n",
       "      <th>2001-10</th>\n",
       "      <td>1.164693</td>\n",
       "      <td>-1.642676</td>\n",
       "      <td>-0.722699</td>\n",
       "      <td>-1.482778</td>\n",
       "    </tr>\n",
       "    <tr>\n",
       "      <th>2001-11</th>\n",
       "      <td>-0.857229</td>\n",
       "      <td>0.976342</td>\n",
       "      <td>-0.549297</td>\n",
       "      <td>0.532557</td>\n",
       "    </tr>\n",
       "    <tr>\n",
       "      <th>2001-12</th>\n",
       "      <td>1.225045</td>\n",
       "      <td>0.334401</td>\n",
       "      <td>-0.681393</td>\n",
       "      <td>-1.153474</td>\n",
       "    </tr>\n",
       "  </tbody>\n",
       "</table>\n",
       "</div>"
      ],
      "text/plain": [
       "         colorado     texas  new york      ohio\n",
       "2000-01 -2.294524  0.085191 -0.425585 -0.970417\n",
       "2000-02  1.069034 -0.121338  0.604887  1.476012\n",
       "2000-03 -0.141267 -1.059185  0.638663 -0.561788\n",
       "2000-04 -0.070112  1.191395  1.570107  0.354871\n",
       "2000-05 -0.214928  1.653636  0.180175 -0.379450\n",
       "2000-06 -0.352778  1.622160  1.026326 -0.863815\n",
       "2000-07  1.882299  0.474392 -2.097997 -1.584813\n",
       "2000-08  0.136626 -0.226936 -2.558512 -0.500755\n",
       "2000-09 -0.241129 -1.071082  0.161110  0.937748\n",
       "2000-10  0.577493 -0.021229  0.959306  0.492932\n",
       "2000-11  1.109645 -0.303422  0.793057 -0.176139\n",
       "2000-12  1.896116 -0.280878  0.825603  0.177853\n",
       "2001-01  0.456592 -0.023370 -0.536586 -0.451523\n",
       "2001-02 -1.013297 -1.381460 -0.156904 -1.259158\n",
       "2001-03 -2.083049  3.556201  0.639487 -1.611159\n",
       "2001-04 -0.071878  3.543510  2.215442  0.759478\n",
       "2001-05 -0.418213 -1.582508 -0.732204  1.089715\n",
       "2001-06 -0.246766  0.716603  0.058523 -1.093231\n",
       "2001-07 -0.285696 -0.355280  0.410889  0.561351\n",
       "2001-08  0.778360 -2.712556  0.047943  0.595814\n",
       "2001-09  0.691685  1.632364 -0.843127  1.400473\n",
       "2001-10  1.164693 -1.642676 -0.722699 -1.482778\n",
       "2001-11 -0.857229  0.976342 -0.549297  0.532557\n",
       "2001-12  1.225045  0.334401 -0.681393 -1.153474"
      ]
     },
     "execution_count": 170,
     "metadata": {},
     "output_type": "execute_result"
    }
   ],
   "source": [
    "frame"
   ]
  },
  {
   "cell_type": "code",
   "execution_count": 171,
   "metadata": {
    "ExecuteTime": {
     "end_time": "2018-06-02T04:20:35.468304Z",
     "start_time": "2018-06-02T04:20:35.361298Z"
    }
   },
   "outputs": [],
   "source": [
    "close_px_all = pd.read_csv('./pydata-book/examples/stock_px.csv',parse_dates=True,index_col=0)"
   ]
  },
  {
   "cell_type": "code",
   "execution_count": 173,
   "metadata": {
    "ExecuteTime": {
     "end_time": "2018-06-02T04:20:54.402387Z",
     "start_time": "2018-06-02T04:20:54.383386Z"
    }
   },
   "outputs": [
    {
     "data": {
      "text/plain": [
       "DatetimeIndex(['1990-02-01', '1990-02-02', '1990-02-05', '1990-02-06',\n",
       "               '1990-02-07', '1990-02-08', '1990-02-09', '1990-02-12',\n",
       "               '1990-02-13', '1990-02-14',\n",
       "               ...\n",
       "               '2011-10-03', '2011-10-04', '2011-10-05', '2011-10-06',\n",
       "               '2011-10-07', '2011-10-10', '2011-10-11', '2011-10-12',\n",
       "               '2011-10-13', '2011-10-14'],\n",
       "              dtype='datetime64[ns]', length=5472, freq=None)"
      ]
     },
     "execution_count": 173,
     "metadata": {},
     "output_type": "execute_result"
    }
   ],
   "source": [
    "close_px_all.index"
   ]
  },
  {
   "cell_type": "code",
   "execution_count": 174,
   "metadata": {
    "ExecuteTime": {
     "end_time": "2018-06-02T04:21:45.334700Z",
     "start_time": "2018-06-02T04:21:45.322700Z"
    }
   },
   "outputs": [],
   "source": [
    "close_px = close_px_all[['AAPL','MSFT','XOM']]"
   ]
  },
  {
   "cell_type": "code",
   "execution_count": 177,
   "metadata": {
    "ExecuteTime": {
     "end_time": "2018-06-02T04:23:06.492342Z",
     "start_time": "2018-06-02T04:23:06.074318Z"
    }
   },
   "outputs": [
    {
     "data": {
      "text/plain": [
       "<matplotlib.axes._subplots.AxesSubplot at 0x2fec9b0>"
      ]
     },
     "execution_count": 177,
     "metadata": {},
     "output_type": "execute_result"
    },
    {
     "data": {
      "image/png": "[encoded data removed]",
      "text/plain": [
       "<Figure size 1152x576 with 1 Axes>"
      ]
     },
     "metadata": {},
     "output_type": "display_data"
    }
   ],
   "source": [
    "close_px.plot(figsize=(16,8))"
   ]
  },
  {
   "cell_type": "code",
   "execution_count": 195,
   "metadata": {
    "ExecuteTime": {
     "end_time": "2018-06-02T04:31:42.340847Z",
     "start_time": "2018-06-02T04:31:41.966826Z"
    }
   },
   "outputs": [
    {
     "data": {
      "text/plain": [
       "<matplotlib.axes._subplots.AxesSubplot at 0x1380e8d0>"
      ]
     },
     "execution_count": 195,
     "metadata": {},
     "output_type": "execute_result"
    },
    {
     "data": {
      "image/png": "[encoded data removed]",
      "text/plain": [
       "<Figure size 1152x576 with 1 Axes>"
      ]
     },
     "metadata": {},
     "output_type": "display_data"
    }
   ],
   "source": [
    "close_px.loc['2009'].plot(figsize=(16,8))"
   ]
  },
  {
   "cell_type": "code",
   "execution_count": 208,
   "metadata": {
    "ExecuteTime": {
     "end_time": "2018-06-02T04:43:57.425892Z",
     "start_time": "2018-06-02T04:43:56.962865Z"
    }
   },
   "outputs": [
    {
     "data": {
      "text/plain": [
       "<matplotlib.axes._subplots.AxesSubplot at 0x13d21780>"
      ]
     },
     "execution_count": 208,
     "metadata": {},
     "output_type": "execute_result"
    },
    {
     "data": {
      "text/plain": [
       "<matplotlib.axes._subplots.AxesSubplot at 0x13d21780>"
      ]
     },
     "execution_count": 208,
     "metadata": {},
     "output_type": "execute_result"
    },
    {
     "data": {
      "image/png": "[encoded data removed]",
      "text/plain": [
       "<Figure size 1152x576 with 1 Axes>"
      ]
     },
     "metadata": {},
     "output_type": "display_data"
    }
   ],
   "source": [
    "close_px.AAPL.plot(figsize=(16,8))\n",
    "close_px.AAPL.rolling(250).mean().plot()"
   ]
  },
  {
   "cell_type": "code",
   "execution_count": 223,
   "metadata": {
    "ExecuteTime": {
     "end_time": "2018-06-02T05:01:15.109244Z",
     "start_time": "2018-06-02T05:01:14.352200Z"
    }
   },
   "outputs": [
    {
     "data": {
      "text/plain": [
       "<matplotlib.axes._subplots.AxesSubplot at 0x1475db70>"
      ]
     },
     "execution_count": 223,
     "metadata": {},
     "output_type": "execute_result"
    },
    {
     "data": {
      "text/plain": [
       "<matplotlib.axes._subplots.AxesSubplot at 0x1475db70>"
      ]
     },
     "execution_count": 223,
     "metadata": {},
     "output_type": "execute_result"
    },
    {
     "data": {
      "text/plain": [
       "<matplotlib.axes._subplots.AxesSubplot at 0x14781780>"
      ]
     },
     "execution_count": 223,
     "metadata": {},
     "output_type": "execute_result"
    },
    {
     "data": {
      "text/plain": [
       "<matplotlib.axes._subplots.AxesSubplot at 0x14781780>"
      ]
     },
     "execution_count": 223,
     "metadata": {},
     "output_type": "execute_result"
    },
    {
     "data": {
      "image/png": "[encoded data removed]",
      "text/plain": [
       "<Figure size 1152x1152 with 2 Axes>"
      ]
     },
     "metadata": {},
     "output_type": "display_data"
    }
   ],
   "source": [
    "fig,axes = plt.subplots(2,1,sharex=True,sharey=True,figsize=(16,16))\n",
    "aapl_px = close_px.AAPL['2005':'2009']\n",
    "ma60 = aapl_px.rolling(60,min_periods=50).mean()\n",
    "ewm60 = aapl_px.ewm(span=60).mean()\n",
    "aapl_px.plot(style='k-',ax=axes[0])\n",
    "ma60.plot(style='k--',ax=axes[0])\n",
    "aapl_px.plot(style='k-',ax=axes[1])\n",
    "ewm60.plot(style='k--',ax=axes[1])"
   ]
  },
  {
   "cell_type": "code",
   "execution_count": 252,
   "metadata": {
    "ExecuteTime": {
     "end_time": "2018-06-02T05:15:37.645578Z",
     "start_time": "2018-06-02T05:15:37.637577Z"
    }
   },
   "outputs": [],
   "source": [
    "spx_px = close_px_all.SPX"
   ]
  },
  {
   "cell_type": "code",
   "execution_count": 228,
   "metadata": {
    "ExecuteTime": {
     "end_time": "2018-06-02T05:04:08.059136Z",
     "start_time": "2018-06-02T05:04:08.047135Z"
    }
   },
   "outputs": [],
   "source": [
    "spx_rest = spx_px.pct_change()"
   ]
  },
  {
   "cell_type": "code",
   "execution_count": 229,
   "metadata": {
    "ExecuteTime": {
     "end_time": "2018-06-02T05:04:40.355983Z",
     "start_time": "2018-06-02T05:04:40.252977Z"
    }
   },
   "outputs": [],
   "source": [
    "returns = close_px.pct_change()"
   ]
  },
  {
   "cell_type": "code",
   "execution_count": 247,
   "metadata": {
    "ExecuteTime": {
     "end_time": "2018-06-02T05:13:38.006735Z",
     "start_time": "2018-06-02T05:13:37.994734Z"
    }
   },
   "outputs": [],
   "source": [
    "rol = returns.AAPL.rolling(125)"
   ]
  },
  {
   "cell_type": "code",
   "execution_count": 248,
   "metadata": {
    "ExecuteTime": {
     "end_time": "2018-06-02T05:13:41.191917Z",
     "start_time": "2018-06-02T05:13:40.820896Z"
    }
   },
   "outputs": [
    {
     "data": {
      "text/plain": [
       "<matplotlib.axes._subplots.AxesSubplot at 0x149b8e48>"
      ]
     },
     "execution_count": 248,
     "metadata": {},
     "output_type": "execute_result"
    },
    {
     "data": {
      "image/png": "[encoded data removed]",
      "text/plain": [
       "<Figure size 1152x576 with 1 Axes>"
      ]
     },
     "metadata": {},
     "output_type": "display_data"
    }
   ],
   "source": [
    "rol.corr(spx_rest).plot(figsize=(16,8))"
   ]
  },
  {
   "cell_type": "code",
   "execution_count": 250,
   "metadata": {
    "ExecuteTime": {
     "end_time": "2018-06-02T05:15:06.382790Z",
     "start_time": "2018-06-02T05:15:06.354788Z"
    }
   },
   "outputs": [],
   "source": [
    "aapl_px['ewm60'] = aapl_px.ewm(span=60).mean()"
   ]
  },
  {
   "cell_type": "code",
   "execution_count": 255,
   "metadata": {
    "ExecuteTime": {
     "end_time": "2018-06-02T05:16:31.500658Z",
     "start_time": "2018-06-02T05:16:31.486657Z"
    }
   },
   "outputs": [],
   "source": [
    "aapl_px = close_px.AAPL['2005':'2009'].to_frame()"
   ]
  },
  {
   "cell_type": "code",
   "execution_count": 259,
   "metadata": {
    "ExecuteTime": {
     "end_time": "2018-06-02T05:17:09.950857Z",
     "start_time": "2018-06-02T05:17:09.929856Z"
    }
   },
   "outputs": [],
   "source": [
    "aapl_px['ewm60'] = aapl_px.ewm(span=60,min_periods=10).mean()"
   ]
  },
  {
   "cell_type": "code",
   "execution_count": 260,
   "metadata": {
    "ExecuteTime": {
     "end_time": "2018-06-02T05:17:13.754075Z",
     "start_time": "2018-06-02T05:17:13.715073Z"
    }
   },
   "outputs": [
    {
     "data": {
      "text/html": [
       "<div>\n",
       "<style scoped>\n",
       "    .dataframe tbody tr th:only-of-type {\n",
       "        vertical-align: middle;\n",
       "    }\n",
       "\n",
       "    .dataframe tbody tr th {\n",
       "        vertical-align: top;\n",
       "    }\n",
       "\n",
       "    .dataframe thead th {\n",
       "        text-align: right;\n",
       "    }\n",
       "</style>\n",
       "<table border=\"1\" class=\"dataframe\">\n",
       "  <thead>\n",
       "    <tr style=\"text-align: right;\">\n",
       "      <th></th>\n",
       "      <th>AAPL</th>\n",
       "      <th>ewm60</th>\n",
       "    </tr>\n",
       "  </thead>\n",
       "  <tbody>\n",
       "    <tr>\n",
       "      <th>2005-01-03</th>\n",
       "      <td>31.65</td>\n",
       "      <td>NaN</td>\n",
       "    </tr>\n",
       "    <tr>\n",
       "      <th>2005-01-04</th>\n",
       "      <td>31.97</td>\n",
       "      <td>NaN</td>\n",
       "    </tr>\n",
       "    <tr>\n",
       "      <th>2005-01-05</th>\n",
       "      <td>32.25</td>\n",
       "      <td>NaN</td>\n",
       "    </tr>\n",
       "    <tr>\n",
       "      <th>2005-01-06</th>\n",
       "      <td>32.28</td>\n",
       "      <td>NaN</td>\n",
       "    </tr>\n",
       "    <tr>\n",
       "      <th>2005-01-07</th>\n",
       "      <td>34.62</td>\n",
       "      <td>NaN</td>\n",
       "    </tr>\n",
       "    <tr>\n",
       "      <th>2005-01-10</th>\n",
       "      <td>34.48</td>\n",
       "      <td>NaN</td>\n",
       "    </tr>\n",
       "    <tr>\n",
       "      <th>2005-01-11</th>\n",
       "      <td>32.28</td>\n",
       "      <td>NaN</td>\n",
       "    </tr>\n",
       "    <tr>\n",
       "      <th>2005-01-12</th>\n",
       "      <td>32.73</td>\n",
       "      <td>NaN</td>\n",
       "    </tr>\n",
       "    <tr>\n",
       "      <th>2005-01-13</th>\n",
       "      <td>34.90</td>\n",
       "      <td>NaN</td>\n",
       "    </tr>\n",
       "    <tr>\n",
       "      <th>2005-01-14</th>\n",
       "      <td>35.10</td>\n",
       "      <td>33.315484</td>\n",
       "    </tr>\n",
       "    <tr>\n",
       "      <th>2005-01-18</th>\n",
       "      <td>35.33</td>\n",
       "      <td>33.530641</td>\n",
       "    </tr>\n",
       "    <tr>\n",
       "      <th>2005-01-19</th>\n",
       "      <td>34.94</td>\n",
       "      <td>33.670792</td>\n",
       "    </tr>\n",
       "    <tr>\n",
       "      <th>2005-01-20</th>\n",
       "      <td>35.23</td>\n",
       "      <td>33.816155</td>\n",
       "    </tr>\n",
       "    <tr>\n",
       "      <th>2005-01-21</th>\n",
       "      <td>35.24</td>\n",
       "      <td>33.941333</td>\n",
       "    </tr>\n",
       "    <tr>\n",
       "      <th>2005-01-24</th>\n",
       "      <td>35.38</td>\n",
       "      <td>34.061205</td>\n",
       "    </tr>\n",
       "    <tr>\n",
       "      <th>2005-01-25</th>\n",
       "      <td>36.03</td>\n",
       "      <td>34.217357</td>\n",
       "    </tr>\n",
       "    <tr>\n",
       "      <th>2005-01-26</th>\n",
       "      <td>36.12</td>\n",
       "      <td>34.361554</td>\n",
       "    </tr>\n",
       "    <tr>\n",
       "      <th>2005-01-27</th>\n",
       "      <td>36.32</td>\n",
       "      <td>34.503860</td>\n",
       "    </tr>\n",
       "    <tr>\n",
       "      <th>2005-01-28</th>\n",
       "      <td>36.99</td>\n",
       "      <td>34.677583</td>\n",
       "    </tr>\n",
       "    <tr>\n",
       "      <th>2005-01-31</th>\n",
       "      <td>38.45</td>\n",
       "      <td>34.931759</td>\n",
       "    </tr>\n",
       "    <tr>\n",
       "      <th>2005-02-01</th>\n",
       "      <td>38.76</td>\n",
       "      <td>35.181073</td>\n",
       "    </tr>\n",
       "    <tr>\n",
       "      <th>2005-02-02</th>\n",
       "      <td>39.81</td>\n",
       "      <td>35.473088</td>\n",
       "    </tr>\n",
       "    <tr>\n",
       "      <th>2005-02-03</th>\n",
       "      <td>38.90</td>\n",
       "      <td>35.682916</td>\n",
       "    </tr>\n",
       "    <tr>\n",
       "      <th>2005-02-04</th>\n",
       "      <td>39.42</td>\n",
       "      <td>35.905408</td>\n",
       "    </tr>\n",
       "    <tr>\n",
       "      <th>2005-02-07</th>\n",
       "      <td>39.47</td>\n",
       "      <td>36.112102</td>\n",
       "    </tr>\n",
       "    <tr>\n",
       "      <th>2005-02-08</th>\n",
       "      <td>40.45</td>\n",
       "      <td>36.357453</td>\n",
       "    </tr>\n",
       "    <tr>\n",
       "      <th>2005-02-09</th>\n",
       "      <td>39.37</td>\n",
       "      <td>36.523886</td>\n",
       "    </tr>\n",
       "    <tr>\n",
       "      <th>2005-02-10</th>\n",
       "      <td>39.18</td>\n",
       "      <td>36.667404</td>\n",
       "    </tr>\n",
       "    <tr>\n",
       "      <th>2005-02-11</th>\n",
       "      <td>40.60</td>\n",
       "      <td>36.875474</td>\n",
       "    </tr>\n",
       "    <tr>\n",
       "      <th>2005-02-14</th>\n",
       "      <td>42.31</td>\n",
       "      <td>37.157337</td>\n",
       "    </tr>\n",
       "    <tr>\n",
       "      <th>...</th>\n",
       "      <td>...</td>\n",
       "      <td>...</td>\n",
       "    </tr>\n",
       "    <tr>\n",
       "      <th>2009-11-18</th>\n",
       "      <td>205.96</td>\n",
       "      <td>187.466183</td>\n",
       "    </tr>\n",
       "    <tr>\n",
       "      <th>2009-11-19</th>\n",
       "      <td>200.51</td>\n",
       "      <td>187.893849</td>\n",
       "    </tr>\n",
       "    <tr>\n",
       "      <th>2009-11-20</th>\n",
       "      <td>199.92</td>\n",
       "      <td>188.288149</td>\n",
       "    </tr>\n",
       "    <tr>\n",
       "      <th>2009-11-23</th>\n",
       "      <td>205.88</td>\n",
       "      <td>188.864931</td>\n",
       "    </tr>\n",
       "    <tr>\n",
       "      <th>2009-11-24</th>\n",
       "      <td>204.44</td>\n",
       "      <td>189.375589</td>\n",
       "    </tr>\n",
       "    <tr>\n",
       "      <th>2009-11-25</th>\n",
       "      <td>204.19</td>\n",
       "      <td>189.861307</td>\n",
       "    </tr>\n",
       "    <tr>\n",
       "      <th>2009-11-27</th>\n",
       "      <td>200.59</td>\n",
       "      <td>190.213068</td>\n",
       "    </tr>\n",
       "    <tr>\n",
       "      <th>2009-11-30</th>\n",
       "      <td>199.91</td>\n",
       "      <td>190.531000</td>\n",
       "    </tr>\n",
       "    <tr>\n",
       "      <th>2009-12-01</th>\n",
       "      <td>196.97</td>\n",
       "      <td>190.742115</td>\n",
       "    </tr>\n",
       "    <tr>\n",
       "      <th>2009-12-02</th>\n",
       "      <td>196.23</td>\n",
       "      <td>190.922045</td>\n",
       "    </tr>\n",
       "    <tr>\n",
       "      <th>2009-12-03</th>\n",
       "      <td>196.48</td>\n",
       "      <td>191.104273</td>\n",
       "    </tr>\n",
       "    <tr>\n",
       "      <th>2009-12-04</th>\n",
       "      <td>193.32</td>\n",
       "      <td>191.176920</td>\n",
       "    </tr>\n",
       "    <tr>\n",
       "      <th>2009-12-07</th>\n",
       "      <td>188.95</td>\n",
       "      <td>191.103906</td>\n",
       "    </tr>\n",
       "    <tr>\n",
       "      <th>2009-12-08</th>\n",
       "      <td>189.87</td>\n",
       "      <td>191.063450</td>\n",
       "    </tr>\n",
       "    <tr>\n",
       "      <th>2009-12-09</th>\n",
       "      <td>197.80</td>\n",
       "      <td>191.284321</td>\n",
       "    </tr>\n",
       "    <tr>\n",
       "      <th>2009-12-10</th>\n",
       "      <td>196.43</td>\n",
       "      <td>191.453032</td>\n",
       "    </tr>\n",
       "    <tr>\n",
       "      <th>2009-12-11</th>\n",
       "      <td>194.67</td>\n",
       "      <td>191.558506</td>\n",
       "    </tr>\n",
       "    <tr>\n",
       "      <th>2009-12-14</th>\n",
       "      <td>196.98</td>\n",
       "      <td>191.736260</td>\n",
       "    </tr>\n",
       "    <tr>\n",
       "      <th>2009-12-15</th>\n",
       "      <td>194.17</td>\n",
       "      <td>191.816055</td>\n",
       "    </tr>\n",
       "    <tr>\n",
       "      <th>2009-12-16</th>\n",
       "      <td>195.03</td>\n",
       "      <td>191.921430</td>\n",
       "    </tr>\n",
       "    <tr>\n",
       "      <th>2009-12-17</th>\n",
       "      <td>191.86</td>\n",
       "      <td>191.919416</td>\n",
       "    </tr>\n",
       "    <tr>\n",
       "      <th>2009-12-18</th>\n",
       "      <td>195.43</td>\n",
       "      <td>192.034517</td>\n",
       "    </tr>\n",
       "    <tr>\n",
       "      <th>2009-12-21</th>\n",
       "      <td>198.23</td>\n",
       "      <td>192.237648</td>\n",
       "    </tr>\n",
       "    <tr>\n",
       "      <th>2009-12-22</th>\n",
       "      <td>200.36</td>\n",
       "      <td>192.503954</td>\n",
       "    </tr>\n",
       "    <tr>\n",
       "      <th>2009-12-23</th>\n",
       "      <td>202.10</td>\n",
       "      <td>192.818579</td>\n",
       "    </tr>\n",
       "    <tr>\n",
       "      <th>2009-12-24</th>\n",
       "      <td>209.04</td>\n",
       "      <td>193.350429</td>\n",
       "    </tr>\n",
       "    <tr>\n",
       "      <th>2009-12-28</th>\n",
       "      <td>211.61</td>\n",
       "      <td>193.949103</td>\n",
       "    </tr>\n",
       "    <tr>\n",
       "      <th>2009-12-29</th>\n",
       "      <td>209.10</td>\n",
       "      <td>194.445854</td>\n",
       "    </tr>\n",
       "    <tr>\n",
       "      <th>2009-12-30</th>\n",
       "      <td>211.64</td>\n",
       "      <td>195.009596</td>\n",
       "    </tr>\n",
       "    <tr>\n",
       "      <th>2009-12-31</th>\n",
       "      <td>210.73</td>\n",
       "      <td>195.525019</td>\n",
       "    </tr>\n",
       "  </tbody>\n",
       "</table>\n",
       "<p>1259 rows × 2 columns</p>\n",
       "</div>"
      ],
      "text/plain": [
       "              AAPL       ewm60\n",
       "2005-01-03   31.65         NaN\n",
       "2005-01-04   31.97         NaN\n",
       "2005-01-05   32.25         NaN\n",
       "2005-01-06   32.28         NaN\n",
       "2005-01-07   34.62         NaN\n",
       "2005-01-10   34.48         NaN\n",
       "2005-01-11   32.28         NaN\n",
       "2005-01-12   32.73         NaN\n",
       "2005-01-13   34.90         NaN\n",
       "2005-01-14   35.10   33.315484\n",
       "2005-01-18   35.33   33.530641\n",
       "2005-01-19   34.94   33.670792\n",
       "2005-01-20   35.23   33.816155\n",
       "2005-01-21   35.24   33.941333\n",
       "2005-01-24   35.38   34.061205\n",
       "2005-01-25   36.03   34.217357\n",
       "2005-01-26   36.12   34.361554\n",
       "2005-01-27   36.32   34.503860\n",
       "2005-01-28   36.99   34.677583\n",
       "2005-01-31   38.45   34.931759\n",
       "2005-02-01   38.76   35.181073\n",
       "2005-02-02   39.81   35.473088\n",
       "2005-02-03   38.90   35.682916\n",
       "2005-02-04   39.42   35.905408\n",
       "2005-02-07   39.47   36.112102\n",
       "2005-02-08   40.45   36.357453\n",
       "2005-02-09   39.37   36.523886\n",
       "2005-02-10   39.18   36.667404\n",
       "2005-02-11   40.60   36.875474\n",
       "2005-02-14   42.31   37.157337\n",
       "...            ...         ...\n",
       "2009-11-18  205.96  187.466183\n",
       "2009-11-19  200.51  187.893849\n",
       "2009-11-20  199.92  188.288149\n",
       "2009-11-23  205.88  188.864931\n",
       "2009-11-24  204.44  189.375589\n",
       "2009-11-25  204.19  189.861307\n",
       "2009-11-27  200.59  190.213068\n",
       "2009-11-30  199.91  190.531000\n",
       "2009-12-01  196.97  190.742115\n",
       "2009-12-02  196.23  190.922045\n",
       "2009-12-03  196.48  191.104273\n",
       "2009-12-04  193.32  191.176920\n",
       "2009-12-07  188.95  191.103906\n",
       "2009-12-08  189.87  191.063450\n",
       "2009-12-09  197.80  191.284321\n",
       "2009-12-10  196.43  191.453032\n",
       "2009-12-11  194.67  191.558506\n",
       "2009-12-14  196.98  191.736260\n",
       "2009-12-15  194.17  191.816055\n",
       "2009-12-16  195.03  191.921430\n",
       "2009-12-17  191.86  191.919416\n",
       "2009-12-18  195.43  192.034517\n",
       "2009-12-21  198.23  192.237648\n",
       "2009-12-22  200.36  192.503954\n",
       "2009-12-23  202.10  192.818579\n",
       "2009-12-24  209.04  193.350429\n",
       "2009-12-28  211.61  193.949103\n",
       "2009-12-29  209.10  194.445854\n",
       "2009-12-30  211.64  195.009596\n",
       "2009-12-31  210.73  195.525019\n",
       "\n",
       "[1259 rows x 2 columns]"
      ]
     },
     "execution_count": 260,
     "metadata": {},
     "output_type": "execute_result"
    }
   ],
   "source": [
    "aapl_px"
   ]
  },
  {
   "cell_type": "code",
   "execution_count": null,
   "metadata": {},
   "outputs": [],
   "source": []
  }
 ],
 "metadata": {
  "hide_input": false,
  "kernelspec": {
   "display_name": "Python 3",
   "language": "python",
   "name": "python3"
  },
  "language_info": {
   "codemirror_mode": {
    "name": "ipython",
    "version": 3
   },
   "file_extension": ".py",
   "mimetype": "text/x-python",
   "name": "python",
   "nbconvert_exporter": "python",
   "pygments_lexer": "ipython3",
   "version": "3.6.3"
  },
  "toc": {
   "base_numbering": 1,
   "nav_menu": {},
   "number_sections": true,
   "sideBar": true,
   "skip_h1_title": false,
   "title_cell": "Table of Contents",
   "title_sidebar": "Contents",
   "toc_cell": false,
   "toc_position": {},
   "toc_section_display": true,
   "toc_window_display": false
  }
 },
 "nbformat": 4,
 "nbformat_minor": 2
}
