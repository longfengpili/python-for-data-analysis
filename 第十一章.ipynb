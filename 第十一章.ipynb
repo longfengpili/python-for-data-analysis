{
 "cells": [
  {
   "cell_type": "code",
   "execution_count": 65,
   "metadata": {
    "ExecuteTime": {
     "end_time": "2018-06-03T01:28:31.665556Z",
     "start_time": "2018-06-03T01:28:31.660556Z"
    }
   },
   "outputs": [],
   "source": [
    "data = [[379.74,383.93,384.24,377.48,379.94,384.62,389.30],\n",
    "        [64.64,65.43,64.95,63.64,63.59,63.61,63.73],\n",
    "        [1165.24,1198.62,1185.90,1154.23,1162.27,1172.87,1188.68],\n",
    "        [71.15,73.65,72.82,71.01,71.84,71.65,72.64]]"
   ]
  },
  {
   "cell_type": "code",
   "execution_count": 69,
   "metadata": {
    "ExecuteTime": {
     "end_time": "2018-06-03T01:30:30.526355Z",
     "start_time": "2018-06-03T01:30:30.508354Z"
    }
   },
   "outputs": [],
   "source": [
    "prices = DataFrame(data,index=['AAPL','JNJ','SPX','XOM'],columns=pd.period_range('2011-9-6',periods=len(data[0]))).T"
   ]
  },
  {
   "cell_type": "code",
   "execution_count": 70,
   "metadata": {
    "ExecuteTime": {
     "end_time": "2018-06-03T01:30:34.375575Z",
     "start_time": "2018-06-03T01:30:34.345573Z"
    }
   },
   "outputs": [
    {
     "data": {
      "text/html": [
       "<div>\n",
       "<style scoped>\n",
       "    .dataframe tbody tr th:only-of-type {\n",
       "        vertical-align: middle;\n",
       "    }\n",
       "\n",
       "    .dataframe tbody tr th {\n",
       "        vertical-align: top;\n",
       "    }\n",
       "\n",
       "    .dataframe thead th {\n",
       "        text-align: right;\n",
       "    }\n",
       "</style>\n",
       "<table border=\"1\" class=\"dataframe\">\n",
       "  <thead>\n",
       "    <tr style=\"text-align: right;\">\n",
       "      <th></th>\n",
       "      <th>AAPL</th>\n",
       "      <th>JNJ</th>\n",
       "      <th>SPX</th>\n",
       "      <th>XOM</th>\n",
       "    </tr>\n",
       "  </thead>\n",
       "  <tbody>\n",
       "    <tr>\n",
       "      <th>2011-09-06</th>\n",
       "      <td>379.74</td>\n",
       "      <td>64.64</td>\n",
       "      <td>1165.24</td>\n",
       "      <td>71.15</td>\n",
       "    </tr>\n",
       "    <tr>\n",
       "      <th>2011-09-07</th>\n",
       "      <td>383.93</td>\n",
       "      <td>65.43</td>\n",
       "      <td>1198.62</td>\n",
       "      <td>73.65</td>\n",
       "    </tr>\n",
       "    <tr>\n",
       "      <th>2011-09-08</th>\n",
       "      <td>384.24</td>\n",
       "      <td>64.95</td>\n",
       "      <td>1185.90</td>\n",
       "      <td>72.82</td>\n",
       "    </tr>\n",
       "    <tr>\n",
       "      <th>2011-09-09</th>\n",
       "      <td>377.48</td>\n",
       "      <td>63.64</td>\n",
       "      <td>1154.23</td>\n",
       "      <td>71.01</td>\n",
       "    </tr>\n",
       "    <tr>\n",
       "      <th>2011-09-10</th>\n",
       "      <td>379.94</td>\n",
       "      <td>63.59</td>\n",
       "      <td>1162.27</td>\n",
       "      <td>71.84</td>\n",
       "    </tr>\n",
       "    <tr>\n",
       "      <th>2011-09-11</th>\n",
       "      <td>384.62</td>\n",
       "      <td>63.61</td>\n",
       "      <td>1172.87</td>\n",
       "      <td>71.65</td>\n",
       "    </tr>\n",
       "    <tr>\n",
       "      <th>2011-09-12</th>\n",
       "      <td>389.30</td>\n",
       "      <td>63.73</td>\n",
       "      <td>1188.68</td>\n",
       "      <td>72.64</td>\n",
       "    </tr>\n",
       "  </tbody>\n",
       "</table>\n",
       "</div>"
      ],
      "text/plain": [
       "              AAPL    JNJ      SPX    XOM\n",
       "2011-09-06  379.74  64.64  1165.24  71.15\n",
       "2011-09-07  383.93  65.43  1198.62  73.65\n",
       "2011-09-08  384.24  64.95  1185.90  72.82\n",
       "2011-09-09  377.48  63.64  1154.23  71.01\n",
       "2011-09-10  379.94  63.59  1162.27  71.84\n",
       "2011-09-11  384.62  63.61  1172.87  71.65\n",
       "2011-09-12  389.30  63.73  1188.68  72.64"
      ]
     },
     "execution_count": 70,
     "metadata": {},
     "output_type": "execute_result"
    }
   ],
   "source": [
    "prices"
   ]
  },
  {
   "cell_type": "code",
   "execution_count": 131,
   "metadata": {
    "ExecuteTime": {
     "end_time": "2018-06-03T02:01:14.350815Z",
     "start_time": "2018-06-03T02:01:14.325814Z"
    }
   },
   "outputs": [],
   "source": [
    "data_v = {'2011-9-6':[18173500,15848300,25416300],\n",
    "         '2011-9-7':[12492000,10759700,23108400],\n",
    "         '2011-9-8':[14839800,15551500,22434800],\n",
    "         '2011-9-9':[20171900,17008200,27969100],\n",
    "         '2011-9-12':[16697300,13448200,26205800]}"
   ]
  },
  {
   "cell_type": "code",
   "execution_count": 132,
   "metadata": {
    "ExecuteTime": {
     "end_time": "2018-06-03T02:01:14.370817Z",
     "start_time": "2018-06-03T02:01:14.355816Z"
    }
   },
   "outputs": [],
   "source": [
    "volume = DataFrame(data_v,index=['AAPL','JNJ','XOM']).T"
   ]
  },
  {
   "cell_type": "code",
   "execution_count": 133,
   "metadata": {
    "ExecuteTime": {
     "end_time": "2018-06-03T02:01:14.384817Z",
     "start_time": "2018-06-03T02:01:14.373817Z"
    }
   },
   "outputs": [],
   "source": [
    "volume.index = pd.to_datetime(volume.index)"
   ]
  },
  {
   "cell_type": "code",
   "execution_count": 134,
   "metadata": {
    "ExecuteTime": {
     "end_time": "2018-06-03T02:01:14.525825Z",
     "start_time": "2018-06-03T02:01:14.387818Z"
    },
    "scrolled": true
   },
   "outputs": [],
   "source": [
    "volume = volume.to_period('D')"
   ]
  },
  {
   "cell_type": "code",
   "execution_count": 139,
   "metadata": {
    "ExecuteTime": {
     "end_time": "2018-06-03T02:01:35.715037Z",
     "start_time": "2018-06-03T02:01:35.685036Z"
    }
   },
   "outputs": [
    {
     "data": {
      "text/plain": [
       "PeriodIndex(['2011-09-06', '2011-09-07', '2011-09-08', '2011-09-09',\n",
       "             '2011-09-12'],\n",
       "            dtype='period[D]', freq='D')"
      ]
     },
     "execution_count": 139,
     "metadata": {},
     "output_type": "execute_result"
    },
    {
     "data": {
      "text/plain": [
       "PeriodIndex(['2011-09-06', '2011-09-07', '2011-09-08', '2011-09-09',\n",
       "             '2011-09-10', '2011-09-11', '2011-09-12'],\n",
       "            dtype='period[D]', freq='D')"
      ]
     },
     "execution_count": 139,
     "metadata": {},
     "output_type": "execute_result"
    }
   ],
   "source": [
    "volume.index\n",
    "prices.index"
   ]
  },
  {
   "cell_type": "code",
   "execution_count": 140,
   "metadata": {
    "ExecuteTime": {
     "end_time": "2018-06-03T02:01:42.951451Z",
     "start_time": "2018-06-03T02:01:42.931450Z"
    }
   },
   "outputs": [
    {
     "data": {
      "text/plain": [
       "PeriodIndex(['2011-09-06', '2011-09-07', '2011-09-08', '2011-09-09',\n",
       "             '2011-09-12'],\n",
       "            dtype='period[B]', freq='B')"
      ]
     },
     "execution_count": 140,
     "metadata": {},
     "output_type": "execute_result"
    }
   ],
   "source": [
    "volume.asfreq('B').index"
   ]
  },
  {
   "cell_type": "code",
   "execution_count": 136,
   "metadata": {
    "ExecuteTime": {
     "end_time": "2018-06-03T02:01:14.826843Z",
     "start_time": "2018-06-03T02:01:14.735837Z"
    },
    "scrolled": true
   },
   "outputs": [
    {
     "data": {
      "text/html": [
       "<div>\n",
       "<style scoped>\n",
       "    .dataframe tbody tr th:only-of-type {\n",
       "        vertical-align: middle;\n",
       "    }\n",
       "\n",
       "    .dataframe tbody tr th {\n",
       "        vertical-align: top;\n",
       "    }\n",
       "\n",
       "    .dataframe thead th {\n",
       "        text-align: right;\n",
       "    }\n",
       "</style>\n",
       "<table border=\"1\" class=\"dataframe\">\n",
       "  <thead>\n",
       "    <tr style=\"text-align: right;\">\n",
       "      <th></th>\n",
       "      <th>AAPL</th>\n",
       "      <th>JNJ</th>\n",
       "      <th>SPX</th>\n",
       "      <th>XOM</th>\n",
       "    </tr>\n",
       "  </thead>\n",
       "  <tbody>\n",
       "    <tr>\n",
       "      <th>2011-09-06</th>\n",
       "      <td>6.901205e+09</td>\n",
       "      <td>1.024434e+09</td>\n",
       "      <td>NaN</td>\n",
       "      <td>1.808370e+09</td>\n",
       "    </tr>\n",
       "    <tr>\n",
       "      <th>2011-09-07</th>\n",
       "      <td>4.796054e+09</td>\n",
       "      <td>7.040072e+08</td>\n",
       "      <td>NaN</td>\n",
       "      <td>1.701934e+09</td>\n",
       "    </tr>\n",
       "    <tr>\n",
       "      <th>2011-09-08</th>\n",
       "      <td>5.702045e+09</td>\n",
       "      <td>1.010070e+09</td>\n",
       "      <td>NaN</td>\n",
       "      <td>1.633702e+09</td>\n",
       "    </tr>\n",
       "    <tr>\n",
       "      <th>2011-09-09</th>\n",
       "      <td>7.614489e+09</td>\n",
       "      <td>1.082402e+09</td>\n",
       "      <td>NaN</td>\n",
       "      <td>1.986086e+09</td>\n",
       "    </tr>\n",
       "    <tr>\n",
       "      <th>2011-09-10</th>\n",
       "      <td>NaN</td>\n",
       "      <td>NaN</td>\n",
       "      <td>NaN</td>\n",
       "      <td>NaN</td>\n",
       "    </tr>\n",
       "    <tr>\n",
       "      <th>2011-09-11</th>\n",
       "      <td>NaN</td>\n",
       "      <td>NaN</td>\n",
       "      <td>NaN</td>\n",
       "      <td>NaN</td>\n",
       "    </tr>\n",
       "    <tr>\n",
       "      <th>2011-09-12</th>\n",
       "      <td>6.500259e+09</td>\n",
       "      <td>8.570538e+08</td>\n",
       "      <td>NaN</td>\n",
       "      <td>1.903589e+09</td>\n",
       "    </tr>\n",
       "  </tbody>\n",
       "</table>\n",
       "</div>"
      ],
      "text/plain": [
       "                    AAPL           JNJ  SPX           XOM\n",
       "2011-09-06  6.901205e+09  1.024434e+09  NaN  1.808370e+09\n",
       "2011-09-07  4.796054e+09  7.040072e+08  NaN  1.701934e+09\n",
       "2011-09-08  5.702045e+09  1.010070e+09  NaN  1.633702e+09\n",
       "2011-09-09  7.614489e+09  1.082402e+09  NaN  1.986086e+09\n",
       "2011-09-10           NaN           NaN  NaN           NaN\n",
       "2011-09-11           NaN           NaN  NaN           NaN\n",
       "2011-09-12  6.500259e+09  8.570538e+08  NaN  1.903589e+09"
      ]
     },
     "execution_count": 136,
     "metadata": {},
     "output_type": "execute_result"
    }
   ],
   "source": [
    "prices * volume"
   ]
  },
  {
   "cell_type": "code",
   "execution_count": 141,
   "metadata": {
    "ExecuteTime": {
     "end_time": "2018-06-03T02:02:29.254100Z",
     "start_time": "2018-06-03T02:02:29.233098Z"
    }
   },
   "outputs": [],
   "source": [
    "vwap = (prices * volume).sum()/volume.sum()"
   ]
  },
  {
   "cell_type": "code",
   "execution_count": 142,
   "metadata": {
    "ExecuteTime": {
     "end_time": "2018-06-03T02:02:32.813303Z",
     "start_time": "2018-06-03T02:02:32.803303Z"
    }
   },
   "outputs": [
    {
     "data": {
      "text/plain": [
       "AAPL    382.570467\n",
       "JNJ      64.420696\n",
       "SPX            NaN\n",
       "XOM      72.191825\n",
       "dtype: float64"
      ]
     },
     "execution_count": 142,
     "metadata": {},
     "output_type": "execute_result"
    }
   ],
   "source": [
    "vwap"
   ]
  },
  {
   "cell_type": "code",
   "execution_count": 143,
   "metadata": {
    "ExecuteTime": {
     "end_time": "2018-06-03T02:02:52.234414Z",
     "start_time": "2018-06-03T02:02:52.209413Z"
    }
   },
   "outputs": [
    {
     "data": {
      "text/plain": [
       "AAPL     82374500\n",
       "JNJ      72615900\n",
       "XOM     125134400\n",
       "dtype: int64"
      ]
     },
     "execution_count": 143,
     "metadata": {},
     "output_type": "execute_result"
    }
   ],
   "source": [
    "volume.sum()"
   ]
  },
  {
   "cell_type": "code",
   "execution_count": 144,
   "metadata": {
    "ExecuteTime": {
     "end_time": "2018-06-03T02:03:31.189642Z",
     "start_time": "2018-06-03T02:03:31.160641Z"
    }
   },
   "outputs": [
    {
     "data": {
      "text/plain": [
       "(              AAPL    JNJ      SPX    XOM\n",
       " 2011-09-06  379.74  64.64  1165.24  71.15\n",
       " 2011-09-07  383.93  65.43  1198.62  73.65\n",
       " 2011-09-08  384.24  64.95  1185.90  72.82\n",
       " 2011-09-09  377.48  63.64  1154.23  71.01\n",
       " 2011-09-10  379.94  63.59  1162.27  71.84\n",
       " 2011-09-11  384.62  63.61  1172.87  71.65\n",
       " 2011-09-12  389.30  63.73  1188.68  72.64,\n",
       "                   AAPL         JNJ  SPX         XOM\n",
       " 2011-09-06  18173500.0  15848300.0  NaN  25416300.0\n",
       " 2011-09-07  12492000.0  10759700.0  NaN  23108400.0\n",
       " 2011-09-08  14839800.0  15551500.0  NaN  22434800.0\n",
       " 2011-09-09  20171900.0  17008200.0  NaN  27969100.0\n",
       " 2011-09-10         NaN         NaN  NaN         NaN\n",
       " 2011-09-11         NaN         NaN  NaN         NaN\n",
       " 2011-09-12  16697300.0  13448200.0  NaN  26205800.0)"
      ]
     },
     "execution_count": 144,
     "metadata": {},
     "output_type": "execute_result"
    }
   ],
   "source": [
    "prices.align(volume)"
   ]
  },
  {
   "cell_type": "code",
   "execution_count": 146,
   "metadata": {
    "ExecuteTime": {
     "end_time": "2018-06-03T02:05:46.424377Z",
     "start_time": "2018-06-03T02:05:46.408376Z"
    }
   },
   "outputs": [],
   "source": [
    "s1 = Series(range(3),index=list('abc'))\n",
    "s2 = Series(range(4),index=list('dbce'))\n",
    "s3 = Series(range(3),index=list('fac'))"
   ]
  },
  {
   "cell_type": "code",
   "execution_count": 147,
   "metadata": {
    "ExecuteTime": {
     "end_time": "2018-06-03T02:06:59.933582Z",
     "start_time": "2018-06-03T02:06:59.883579Z"
    }
   },
   "outputs": [
    {
     "data": {
      "text/html": [
       "<div>\n",
       "<style scoped>\n",
       "    .dataframe tbody tr th:only-of-type {\n",
       "        vertical-align: middle;\n",
       "    }\n",
       "\n",
       "    .dataframe tbody tr th {\n",
       "        vertical-align: top;\n",
       "    }\n",
       "\n",
       "    .dataframe thead th {\n",
       "        text-align: right;\n",
       "    }\n",
       "</style>\n",
       "<table border=\"1\" class=\"dataframe\">\n",
       "  <thead>\n",
       "    <tr style=\"text-align: right;\">\n",
       "      <th></th>\n",
       "      <th>one</th>\n",
       "      <th>two</th>\n",
       "      <th>three</th>\n",
       "    </tr>\n",
       "  </thead>\n",
       "  <tbody>\n",
       "    <tr>\n",
       "      <th>a</th>\n",
       "      <td>0.0</td>\n",
       "      <td>NaN</td>\n",
       "      <td>1.0</td>\n",
       "    </tr>\n",
       "    <tr>\n",
       "      <th>b</th>\n",
       "      <td>1.0</td>\n",
       "      <td>1.0</td>\n",
       "      <td>NaN</td>\n",
       "    </tr>\n",
       "    <tr>\n",
       "      <th>c</th>\n",
       "      <td>2.0</td>\n",
       "      <td>2.0</td>\n",
       "      <td>2.0</td>\n",
       "    </tr>\n",
       "    <tr>\n",
       "      <th>d</th>\n",
       "      <td>NaN</td>\n",
       "      <td>0.0</td>\n",
       "      <td>NaN</td>\n",
       "    </tr>\n",
       "    <tr>\n",
       "      <th>e</th>\n",
       "      <td>NaN</td>\n",
       "      <td>3.0</td>\n",
       "      <td>NaN</td>\n",
       "    </tr>\n",
       "    <tr>\n",
       "      <th>f</th>\n",
       "      <td>NaN</td>\n",
       "      <td>NaN</td>\n",
       "      <td>0.0</td>\n",
       "    </tr>\n",
       "  </tbody>\n",
       "</table>\n",
       "</div>"
      ],
      "text/plain": [
       "   one  two  three\n",
       "a  0.0  NaN    1.0\n",
       "b  1.0  1.0    NaN\n",
       "c  2.0  2.0    2.0\n",
       "d  NaN  0.0    NaN\n",
       "e  NaN  3.0    NaN\n",
       "f  NaN  NaN    0.0"
      ]
     },
     "execution_count": 147,
     "metadata": {},
     "output_type": "execute_result"
    }
   ],
   "source": [
    "DataFrame({'one':s1,'two':s2,'three':s3})"
   ]
  },
  {
   "cell_type": "code",
   "execution_count": 148,
   "metadata": {
    "ExecuteTime": {
     "end_time": "2018-06-03T02:09:09.277980Z",
     "start_time": "2018-06-03T02:09:09.258979Z"
    }
   },
   "outputs": [],
   "source": [
    "ts1 = Series(np.random.randn(3),\n",
    "            index=pd.date_range('2012-6-13',periods=3,freq='W-WED'))"
   ]
  },
  {
   "cell_type": "code",
   "execution_count": 149,
   "metadata": {
    "ExecuteTime": {
     "end_time": "2018-06-03T02:09:12.400158Z",
     "start_time": "2018-06-03T02:09:12.376157Z"
    }
   },
   "outputs": [
    {
     "data": {
      "text/plain": [
       "2012-06-13   -0.771589\n",
       "2012-06-20   -1.347940\n",
       "2012-06-27    0.831927\n",
       "Freq: W-WED, dtype: float64"
      ]
     },
     "execution_count": 149,
     "metadata": {},
     "output_type": "execute_result"
    }
   ],
   "source": [
    "ts1"
   ]
  },
  {
   "cell_type": "code",
   "execution_count": 168,
   "metadata": {
    "ExecuteTime": {
     "end_time": "2018-06-03T02:17:03.482103Z",
     "start_time": "2018-06-03T02:17:03.459101Z"
    }
   },
   "outputs": [
    {
     "data": {
      "text/plain": [
       "2012-06-13   -0.771589\n",
       "2012-06-14   -0.771589\n",
       "2012-06-15   -0.771589\n",
       "2012-06-18   -0.771589\n",
       "2012-06-19   -0.771589\n",
       "2012-06-20   -1.347940\n",
       "2012-06-21   -1.347940\n",
       "2012-06-22   -1.347940\n",
       "2012-06-25   -1.347940\n",
       "2012-06-26   -1.347940\n",
       "2012-06-27    0.831927\n",
       "Freq: B, dtype: float64"
      ]
     },
     "execution_count": 168,
     "metadata": {},
     "output_type": "execute_result"
    }
   ],
   "source": [
    "ts1.resample('B').ffill()"
   ]
  },
  {
   "cell_type": "code",
   "execution_count": 162,
   "metadata": {
    "ExecuteTime": {
     "end_time": "2018-06-03T02:14:45.253196Z",
     "start_time": "2018-06-03T02:14:45.238196Z"
    }
   },
   "outputs": [],
   "source": [
    "dates = pd.DatetimeIndex(['2012-6-12','2012-6-17','2012-6-18','2012-6-21','2012-6-22','2012-6-29'])"
   ]
  },
  {
   "cell_type": "code",
   "execution_count": 163,
   "metadata": {
    "ExecuteTime": {
     "end_time": "2018-06-03T02:14:49.806457Z",
     "start_time": "2018-06-03T02:14:49.782455Z"
    }
   },
   "outputs": [
    {
     "data": {
      "text/plain": [
       "DatetimeIndex(['2012-06-12', '2012-06-17', '2012-06-18', '2012-06-21',\n",
       "               '2012-06-22', '2012-06-29'],\n",
       "              dtype='datetime64[ns]', freq=None)"
      ]
     },
     "execution_count": 163,
     "metadata": {},
     "output_type": "execute_result"
    }
   ],
   "source": [
    "dates"
   ]
  },
  {
   "cell_type": "code",
   "execution_count": 164,
   "metadata": {
    "ExecuteTime": {
     "end_time": "2018-06-03T02:15:16.624991Z",
     "start_time": "2018-06-03T02:15:16.610990Z"
    }
   },
   "outputs": [],
   "source": [
    "ts2 = Series(np.random.randn(6),index=dates)"
   ]
  },
  {
   "cell_type": "code",
   "execution_count": 167,
   "metadata": {
    "ExecuteTime": {
     "end_time": "2018-06-03T02:16:28.723115Z",
     "start_time": "2018-06-03T02:16:28.686112Z"
    }
   },
   "outputs": [
    {
     "data": {
      "text/plain": [
       "2012-06-12   -1.070906\n",
       "2012-06-17    1.138662\n",
       "2012-06-18   -0.356086\n",
       "2012-06-21    0.789320\n",
       "2012-06-22    0.418792\n",
       "2012-06-29    0.529484\n",
       "dtype: float64"
      ]
     },
     "execution_count": 167,
     "metadata": {},
     "output_type": "execute_result"
    },
    {
     "data": {
      "text/plain": [
       "2012-06-13   -0.771589\n",
       "2012-06-20   -1.347940\n",
       "2012-06-27    0.831927\n",
       "Freq: W-WED, dtype: float64"
      ]
     },
     "execution_count": 167,
     "metadata": {},
     "output_type": "execute_result"
    }
   ],
   "source": [
    "ts2\n",
    "ts1"
   ]
  },
  {
   "cell_type": "code",
   "execution_count": 166,
   "metadata": {
    "ExecuteTime": {
     "end_time": "2018-06-03T02:15:57.884351Z",
     "start_time": "2018-06-03T02:15:57.867350Z"
    }
   },
   "outputs": [
    {
     "data": {
      "text/plain": [
       "2012-06-12   NaN\n",
       "2012-06-13   NaN\n",
       "2012-06-17   NaN\n",
       "2012-06-18   NaN\n",
       "2012-06-20   NaN\n",
       "2012-06-21   NaN\n",
       "2012-06-22   NaN\n",
       "2012-06-27   NaN\n",
       "2012-06-29   NaN\n",
       "dtype: float64"
      ]
     },
     "execution_count": 166,
     "metadata": {},
     "output_type": "execute_result"
    }
   ],
   "source": [
    "ts1 + ts2"
   ]
  },
  {
   "cell_type": "code",
   "execution_count": 171,
   "metadata": {
    "ExecuteTime": {
     "end_time": "2018-06-03T02:24:39.783202Z",
     "start_time": "2018-06-03T02:24:39.766201Z"
    }
   },
   "outputs": [],
   "source": [
    "t_index = pd.PeriodIndex(pd.period_range('2018',periods=4,freq='Q-SEP'))"
   ]
  },
  {
   "cell_type": "code",
   "execution_count": 172,
   "metadata": {
    "ExecuteTime": {
     "end_time": "2018-06-03T02:25:31.033133Z",
     "start_time": "2018-06-03T02:25:31.017132Z"
    }
   },
   "outputs": [],
   "source": [
    "data_t = Series(np.arange(4),index=t_index)"
   ]
  },
  {
   "cell_type": "code",
   "execution_count": 175,
   "metadata": {
    "ExecuteTime": {
     "end_time": "2018-06-03T02:26:28.332410Z",
     "start_time": "2018-06-03T02:26:28.309409Z"
    }
   },
   "outputs": [
    {
     "data": {
      "text/plain": [
       "2018Q2    0\n",
       "2018Q3    1\n",
       "2018Q4    2\n",
       "2019Q1    3\n",
       "Freq: Q-SEP, dtype: int32"
      ]
     },
     "execution_count": 175,
     "metadata": {},
     "output_type": "execute_result"
    }
   ],
   "source": [
    "data_t"
   ]
  },
  {
   "cell_type": "code",
   "execution_count": 185,
   "metadata": {
    "ExecuteTime": {
     "end_time": "2018-06-03T02:32:32.174221Z",
     "start_time": "2018-06-03T02:32:32.150219Z"
    }
   },
   "outputs": [
    {
     "data": {
      "text/plain": [
       "2018-03-31    0\n",
       "2018-04-01    0\n",
       "2018-04-02    0\n",
       "Freq: D, dtype: int32"
      ]
     },
     "execution_count": 185,
     "metadata": {},
     "output_type": "execute_result"
    }
   ],
   "source": [
    "data_t.asfreq('D',how='end').reindex(pd.PeriodIndex(pd.period_range('2018-3-31',periods=3,freq='D')),method='ffill')"
   ]
  },
  {
   "cell_type": "code",
   "execution_count": 186,
   "metadata": {
    "ExecuteTime": {
     "end_time": "2018-06-03T02:34:23.369581Z",
     "start_time": "2018-06-03T02:34:23.353580Z"
    }
   },
   "outputs": [],
   "source": [
    "rng = pd.date_range('2012-6-1 9:30','2012-6-1 15:59',freq='T')"
   ]
  },
  {
   "cell_type": "code",
   "execution_count": 199,
   "metadata": {
    "ExecuteTime": {
     "end_time": "2018-06-03T02:40:52.534840Z",
     "start_time": "2018-06-03T02:40:52.499838Z"
    }
   },
   "outputs": [],
   "source": [
    "rng = rng.append([rng + pd.offsets.BDay(i) for i in range(1,4)])"
   ]
  },
  {
   "cell_type": "code",
   "execution_count": 200,
   "metadata": {
    "ExecuteTime": {
     "end_time": "2018-06-03T02:40:55.186992Z",
     "start_time": "2018-06-03T02:40:55.173991Z"
    }
   },
   "outputs": [],
   "source": [
    "ts = Series(np.arange(len(rng),dtype=float),index=rng)"
   ]
  },
  {
   "cell_type": "code",
   "execution_count": 201,
   "metadata": {
    "ExecuteTime": {
     "end_time": "2018-06-03T02:40:57.396118Z",
     "start_time": "2018-06-03T02:40:57.367116Z"
    }
   },
   "outputs": [
    {
     "data": {
      "text/plain": [
       "2012-06-01 09:30:00       0.0\n",
       "2012-06-01 09:31:00       1.0\n",
       "2012-06-01 09:32:00       2.0\n",
       "2012-06-01 09:33:00       3.0\n",
       "2012-06-01 09:34:00       4.0\n",
       "2012-06-01 09:35:00       5.0\n",
       "2012-06-01 09:36:00       6.0\n",
       "2012-06-01 09:37:00       7.0\n",
       "2012-06-01 09:38:00       8.0\n",
       "2012-06-01 09:39:00       9.0\n",
       "2012-06-01 09:40:00      10.0\n",
       "2012-06-01 09:41:00      11.0\n",
       "2012-06-01 09:42:00      12.0\n",
       "2012-06-01 09:43:00      13.0\n",
       "2012-06-01 09:44:00      14.0\n",
       "2012-06-01 09:45:00      15.0\n",
       "2012-06-01 09:46:00      16.0\n",
       "2012-06-01 09:47:00      17.0\n",
       "2012-06-01 09:48:00      18.0\n",
       "2012-06-01 09:49:00      19.0\n",
       "2012-06-01 09:50:00      20.0\n",
       "2012-06-01 09:51:00      21.0\n",
       "2012-06-01 09:52:00      22.0\n",
       "2012-06-01 09:53:00      23.0\n",
       "2012-06-01 09:54:00      24.0\n",
       "2012-06-01 09:55:00      25.0\n",
       "2012-06-01 09:56:00      26.0\n",
       "2012-06-01 09:57:00      27.0\n",
       "2012-06-01 09:58:00      28.0\n",
       "2012-06-01 09:59:00      29.0\n",
       "                        ...  \n",
       "2012-06-06 15:30:00    1530.0\n",
       "2012-06-06 15:31:00    1531.0\n",
       "2012-06-06 15:32:00    1532.0\n",
       "2012-06-06 15:33:00    1533.0\n",
       "2012-06-06 15:34:00    1534.0\n",
       "2012-06-06 15:35:00    1535.0\n",
       "2012-06-06 15:36:00    1536.0\n",
       "2012-06-06 15:37:00    1537.0\n",
       "2012-06-06 15:38:00    1538.0\n",
       "2012-06-06 15:39:00    1539.0\n",
       "2012-06-06 15:40:00    1540.0\n",
       "2012-06-06 15:41:00    1541.0\n",
       "2012-06-06 15:42:00    1542.0\n",
       "2012-06-06 15:43:00    1543.0\n",
       "2012-06-06 15:44:00    1544.0\n",
       "2012-06-06 15:45:00    1545.0\n",
       "2012-06-06 15:46:00    1546.0\n",
       "2012-06-06 15:47:00    1547.0\n",
       "2012-06-06 15:48:00    1548.0\n",
       "2012-06-06 15:49:00    1549.0\n",
       "2012-06-06 15:50:00    1550.0\n",
       "2012-06-06 15:51:00    1551.0\n",
       "2012-06-06 15:52:00    1552.0\n",
       "2012-06-06 15:53:00    1553.0\n",
       "2012-06-06 15:54:00    1554.0\n",
       "2012-06-06 15:55:00    1555.0\n",
       "2012-06-06 15:56:00    1556.0\n",
       "2012-06-06 15:57:00    1557.0\n",
       "2012-06-06 15:58:00    1558.0\n",
       "2012-06-06 15:59:00    1559.0\n",
       "Length: 1560, dtype: float64"
      ]
     },
     "execution_count": 201,
     "metadata": {},
     "output_type": "execute_result"
    }
   ],
   "source": [
    "ts"
   ]
  },
  {
   "cell_type": "code",
   "execution_count": 202,
   "metadata": {
    "ExecuteTime": {
     "end_time": "2018-06-03T02:43:04.208371Z",
     "start_time": "2018-06-03T02:43:04.193370Z"
    }
   },
   "outputs": [],
   "source": [
    "from datetime import time"
   ]
  },
  {
   "cell_type": "code",
   "execution_count": 204,
   "metadata": {
    "ExecuteTime": {
     "end_time": "2018-06-03T02:43:20.875324Z",
     "start_time": "2018-06-03T02:43:20.853323Z"
    }
   },
   "outputs": [
    {
     "data": {
      "text/plain": [
       "2012-06-01 10:01:00      31.0\n",
       "2012-06-04 10:01:00     421.0\n",
       "2012-06-05 10:01:00     811.0\n",
       "2012-06-06 10:01:00    1201.0\n",
       "dtype: float64"
      ]
     },
     "execution_count": 204,
     "metadata": {},
     "output_type": "execute_result"
    }
   ],
   "source": [
    "ts[time(10,1)]"
   ]
  },
  {
   "cell_type": "code",
   "execution_count": 205,
   "metadata": {
    "ExecuteTime": {
     "end_time": "2018-06-03T02:45:07.696434Z",
     "start_time": "2018-06-03T02:45:07.674433Z"
    }
   },
   "outputs": [
    {
     "data": {
      "text/plain": [
       "2012-06-01 10:00:00      30.0\n",
       "2012-06-01 10:01:00      31.0\n",
       "2012-06-04 10:00:00     420.0\n",
       "2012-06-04 10:01:00     421.0\n",
       "2012-06-05 10:00:00     810.0\n",
       "2012-06-05 10:01:00     811.0\n",
       "2012-06-06 10:00:00    1200.0\n",
       "2012-06-06 10:01:00    1201.0\n",
       "dtype: float64"
      ]
     },
     "execution_count": 205,
     "metadata": {},
     "output_type": "execute_result"
    }
   ],
   "source": [
    "ts.between_time(time(10,0),time(10,1))"
   ]
  },
  {
   "cell_type": "code",
   "execution_count": 206,
   "metadata": {
    "ExecuteTime": {
     "end_time": "2018-06-03T02:45:27.168548Z",
     "start_time": "2018-06-03T02:45:27.144547Z"
    }
   },
   "outputs": [
    {
     "data": {
      "text/plain": [
       "2012-06-01 10:01:00      31.0\n",
       "2012-06-01 10:02:00      32.0\n",
       "2012-06-04 10:01:00     421.0\n",
       "2012-06-04 10:02:00     422.0\n",
       "2012-06-05 10:01:00     811.0\n",
       "2012-06-05 10:02:00     812.0\n",
       "2012-06-06 10:01:00    1201.0\n",
       "2012-06-06 10:02:00    1202.0\n",
       "dtype: float64"
      ]
     },
     "execution_count": 206,
     "metadata": {},
     "output_type": "execute_result"
    }
   ],
   "source": [
    "ts[time(10,1):time(10,2)]"
   ]
  },
  {
   "cell_type": "code",
   "execution_count": 207,
   "metadata": {
    "ExecuteTime": {
     "end_time": "2018-06-03T02:46:52.688439Z",
     "start_time": "2018-06-03T02:46:52.662438Z"
    }
   },
   "outputs": [],
   "source": [
    "indexer = np.sort(np.random.permutation(len(ts))[700:])"
   ]
  },
  {
   "cell_type": "code",
   "execution_count": 208,
   "metadata": {
    "ExecuteTime": {
     "end_time": "2018-06-03T02:47:03.951084Z",
     "start_time": "2018-06-03T02:47:03.937083Z"
    }
   },
   "outputs": [],
   "source": [
    "irr_ts = ts.copy()"
   ]
  },
  {
   "cell_type": "code",
   "execution_count": 211,
   "metadata": {
    "ExecuteTime": {
     "end_time": "2018-06-03T02:47:57.208130Z",
     "start_time": "2018-06-03T02:47:57.190129Z"
    }
   },
   "outputs": [],
   "source": [
    "irr_ts[indexer] = np.nan"
   ]
  },
  {
   "cell_type": "code",
   "execution_count": 212,
   "metadata": {
    "ExecuteTime": {
     "end_time": "2018-06-03T02:48:01.483374Z",
     "start_time": "2018-06-03T02:48:01.459373Z"
    }
   },
   "outputs": [
    {
     "data": {
      "text/plain": [
       "2012-06-01 09:30:00       NaN\n",
       "2012-06-01 09:31:00       NaN\n",
       "2012-06-01 09:32:00       NaN\n",
       "2012-06-01 09:33:00       3.0\n",
       "2012-06-01 09:34:00       4.0\n",
       "2012-06-01 09:35:00       NaN\n",
       "2012-06-01 09:36:00       6.0\n",
       "2012-06-01 09:37:00       NaN\n",
       "2012-06-01 09:38:00       NaN\n",
       "2012-06-01 09:39:00       9.0\n",
       "2012-06-01 09:40:00      10.0\n",
       "2012-06-01 09:41:00      11.0\n",
       "2012-06-01 09:42:00      12.0\n",
       "2012-06-01 09:43:00       NaN\n",
       "2012-06-01 09:44:00      14.0\n",
       "2012-06-01 09:45:00       NaN\n",
       "2012-06-01 09:46:00      16.0\n",
       "2012-06-01 09:47:00      17.0\n",
       "2012-06-01 09:48:00      18.0\n",
       "2012-06-01 09:49:00       NaN\n",
       "2012-06-01 09:50:00      20.0\n",
       "2012-06-01 09:51:00       NaN\n",
       "2012-06-01 09:52:00      22.0\n",
       "2012-06-01 09:53:00       NaN\n",
       "2012-06-01 09:54:00       NaN\n",
       "2012-06-01 09:55:00       NaN\n",
       "2012-06-01 09:56:00       NaN\n",
       "2012-06-01 09:57:00       NaN\n",
       "2012-06-01 09:58:00       NaN\n",
       "2012-06-01 09:59:00       NaN\n",
       "                        ...  \n",
       "2012-06-06 15:30:00    1530.0\n",
       "2012-06-06 15:31:00    1531.0\n",
       "2012-06-06 15:32:00       NaN\n",
       "2012-06-06 15:33:00    1533.0\n",
       "2012-06-06 15:34:00       NaN\n",
       "2012-06-06 15:35:00    1535.0\n",
       "2012-06-06 15:36:00    1536.0\n",
       "2012-06-06 15:37:00       NaN\n",
       "2012-06-06 15:38:00       NaN\n",
       "2012-06-06 15:39:00       NaN\n",
       "2012-06-06 15:40:00    1540.0\n",
       "2012-06-06 15:41:00       NaN\n",
       "2012-06-06 15:42:00       NaN\n",
       "2012-06-06 15:43:00    1543.0\n",
       "2012-06-06 15:44:00       NaN\n",
       "2012-06-06 15:45:00       NaN\n",
       "2012-06-06 15:46:00    1546.0\n",
       "2012-06-06 15:47:00    1547.0\n",
       "2012-06-06 15:48:00       NaN\n",
       "2012-06-06 15:49:00    1549.0\n",
       "2012-06-06 15:50:00       NaN\n",
       "2012-06-06 15:51:00       NaN\n",
       "2012-06-06 15:52:00       NaN\n",
       "2012-06-06 15:53:00    1553.0\n",
       "2012-06-06 15:54:00    1554.0\n",
       "2012-06-06 15:55:00       NaN\n",
       "2012-06-06 15:56:00       NaN\n",
       "2012-06-06 15:57:00       NaN\n",
       "2012-06-06 15:58:00    1558.0\n",
       "2012-06-06 15:59:00       NaN\n",
       "Length: 1560, dtype: float64"
      ]
     },
     "execution_count": 212,
     "metadata": {},
     "output_type": "execute_result"
    }
   ],
   "source": [
    "irr_ts"
   ]
  },
  {
   "cell_type": "code",
   "execution_count": 214,
   "metadata": {
    "ExecuteTime": {
     "end_time": "2018-06-03T02:49:14.237536Z",
     "start_time": "2018-06-03T02:49:14.218534Z"
    }
   },
   "outputs": [
    {
     "data": {
      "text/plain": [
       "2012-06-01 09:59:00       NaN\n",
       "2012-06-01 10:00:00      30.0\n",
       "2012-06-01 10:01:00      31.0\n",
       "2012-06-01 10:02:00      32.0\n",
       "2012-06-04 09:59:00       NaN\n",
       "2012-06-04 10:00:00     420.0\n",
       "2012-06-04 10:01:00     421.0\n",
       "2012-06-04 10:02:00       NaN\n",
       "2012-06-05 09:59:00       NaN\n",
       "2012-06-05 10:00:00     810.0\n",
       "2012-06-05 10:01:00       NaN\n",
       "2012-06-05 10:02:00     812.0\n",
       "2012-06-06 09:59:00    1199.0\n",
       "2012-06-06 10:00:00       NaN\n",
       "2012-06-06 10:01:00    1201.0\n",
       "2012-06-06 10:02:00       NaN\n",
       "dtype: float64"
      ]
     },
     "execution_count": 214,
     "metadata": {},
     "output_type": "execute_result"
    }
   ],
   "source": [
    "irr_ts[time(9,59):time(10,2)]"
   ]
  },
  {
   "cell_type": "code",
   "execution_count": 215,
   "metadata": {
    "ExecuteTime": {
     "end_time": "2018-06-03T02:50:11.082787Z",
     "start_time": "2018-06-03T02:50:11.061786Z"
    }
   },
   "outputs": [],
   "source": [
    "seletion = pd.date_range('2012-6-1 10:00',periods=4,freq='B')"
   ]
  },
  {
   "cell_type": "code",
   "execution_count": 216,
   "metadata": {
    "ExecuteTime": {
     "end_time": "2018-06-03T02:50:20.104303Z",
     "start_time": "2018-06-03T02:50:20.081302Z"
    }
   },
   "outputs": [
    {
     "data": {
      "text/plain": [
       "2012-06-01 10:00:00     30.0\n",
       "2012-06-04 10:00:00    420.0\n",
       "2012-06-05 10:00:00    810.0\n",
       "2012-06-06 10:00:00      NaN\n",
       "Freq: B, dtype: float64"
      ]
     },
     "execution_count": 216,
     "metadata": {},
     "output_type": "execute_result"
    }
   ],
   "source": [
    "irr_ts[seletion]"
   ]
  },
  {
   "cell_type": "code",
   "execution_count": 218,
   "metadata": {
    "ExecuteTime": {
     "end_time": "2018-06-03T02:50:48.497927Z",
     "start_time": "2018-06-03T02:50:48.420923Z"
    }
   },
   "outputs": [
    {
     "data": {
      "text/plain": [
       "2012-06-01 10:00:00      30.0\n",
       "2012-06-04 10:00:00     420.0\n",
       "2012-06-05 10:00:00     810.0\n",
       "2012-06-06 10:00:00    1199.0\n",
       "Freq: B, dtype: float64"
      ]
     },
     "execution_count": 218,
     "metadata": {},
     "output_type": "execute_result"
    }
   ],
   "source": [
    "irr_ts.asof(seletion)"
   ]
  },
  {
   "cell_type": "code",
   "execution_count": 2,
   "metadata": {
    "ExecuteTime": {
     "end_time": "2018-06-03T02:59:33.769624Z",
     "start_time": "2018-06-03T02:59:33.375601Z"
    }
   },
   "outputs": [],
   "source": [
    "from pandas_datareader import wb,data"
   ]
  },
  {
   "cell_type": "code",
   "execution_count": 39,
   "metadata": {
    "ExecuteTime": {
     "end_time": "2018-06-03T03:22:58.211392Z",
     "start_time": "2018-06-03T03:22:55.008209Z"
    }
   },
   "outputs": [],
   "source": [
    "price = data.get_data_yahoo('AAPL','2011-1-3')['prices']['Adj Close']"
   ]
  },
  {
   "cell_type": "code",
   "execution_count": 40,
   "metadata": {
    "ExecuteTime": {
     "end_time": "2018-06-03T03:22:58.222393Z",
     "start_time": "2018-06-03T03:22:58.215392Z"
    }
   },
   "outputs": [],
   "source": [
    "price.index = pd.to_datetime(price.index)"
   ]
  },
  {
   "cell_type": "code",
   "execution_count": 26,
   "metadata": {
    "ExecuteTime": {
     "end_time": "2018-06-03T03:17:27.595482Z",
     "start_time": "2018-06-03T03:17:27.571481Z"
    }
   },
   "outputs": [
    {
     "data": {
      "text/plain": [
       "168.450439453125"
      ]
     },
     "execution_count": 26,
     "metadata": {},
     "output_type": "execute_result"
    }
   ],
   "source": [
    "price['2018-5-1']"
   ]
  },
  {
   "cell_type": "code",
   "execution_count": 27,
   "metadata": {
    "ExecuteTime": {
     "end_time": "2018-06-03T03:17:55.385071Z",
     "start_time": "2018-06-03T03:17:55.362070Z"
    }
   },
   "outputs": [
    {
     "data": {
      "text/plain": [
       "Date\n",
       "2018-05-25    188.580002\n",
       "2018-05-29    187.899994\n",
       "2018-05-30    187.500000\n",
       "2018-05-31    186.869995\n",
       "2018-06-01    190.240005\n",
       "Name: Adj Close, dtype: float64"
      ]
     },
     "execution_count": 27,
     "metadata": {},
     "output_type": "execute_result"
    }
   ],
   "source": [
    "price[-5:]"
   ]
  },
  {
   "cell_type": "code",
   "execution_count": 41,
   "metadata": {
    "ExecuteTime": {
     "end_time": "2018-06-03T03:23:06.064841Z",
     "start_time": "2018-06-03T03:23:06.044840Z"
    }
   },
   "outputs": [],
   "source": [
    "price = price[:'2012-7-27']"
   ]
  },
  {
   "cell_type": "code",
   "execution_count": 42,
   "metadata": {
    "ExecuteTime": {
     "end_time": "2018-06-03T03:23:08.065956Z",
     "start_time": "2018-06-03T03:23:08.044954Z"
    }
   },
   "outputs": [
    {
     "data": {
      "text/plain": [
       "Date\n",
       "2011-01-03    31.749659\n",
       "2011-01-04    31.915356\n",
       "2011-01-05    32.176426\n",
       "2011-01-06    32.150406\n",
       "2011-01-07    32.380657\n",
       "2011-01-10    32.990463\n",
       "2011-01-11    32.912434\n",
       "2011-01-12    33.180252\n",
       "2011-01-13    33.301640\n",
       "2011-01-14    33.571381\n",
       "2011-01-18    32.817062\n",
       "2011-01-19    32.642700\n",
       "2011-01-20    32.049259\n",
       "2011-01-21    31.475096\n",
       "2011-01-24    32.508785\n",
       "2011-01-25    32.889313\n",
       "2011-01-26    33.125340\n",
       "2011-01-27    33.063686\n",
       "2011-01-28    32.378723\n",
       "2011-01-31    32.688938\n",
       "2011-02-01    33.239010\n",
       "2011-02-02    33.170609\n",
       "2011-02-03    33.085842\n",
       "2011-02-04    33.380630\n",
       "2011-02-07    33.898914\n",
       "2011-02-08    34.218758\n",
       "2011-02-09    34.503918\n",
       "2011-02-10    34.155178\n",
       "2011-02-11    34.377708\n",
       "2011-02-14    34.602173\n",
       "                ...    \n",
       "2012-06-15    55.309723\n",
       "2012-06-18    56.432053\n",
       "2012-06-19    56.589088\n",
       "2012-06-20    56.428196\n",
       "2012-06-21    55.650757\n",
       "2012-06-22    56.077534\n",
       "2012-06-25    54.986034\n",
       "2012-06-26    55.107433\n",
       "2012-06-27    55.345364\n",
       "2012-06-28    54.820339\n",
       "2012-06-29    56.260563\n",
       "2012-07-02    57.081360\n",
       "2012-07-03    57.745125\n",
       "2012-07-05    58.759525\n",
       "2012-07-06    58.368416\n",
       "2012-07-09    59.140068\n",
       "2012-07-10    58.592888\n",
       "2012-07-11    58.228733\n",
       "2012-07-12    57.695999\n",
       "2012-07-13    58.280750\n",
       "2012-07-16    58.467648\n",
       "2012-07-17    58.470543\n",
       "2012-07-18    58.405018\n",
       "2012-07-19    59.181488\n",
       "2012-07-20    58.216209\n",
       "2012-07-23    58.170921\n",
       "2012-07-24    57.890591\n",
       "2012-07-25    55.390656\n",
       "2012-07-26    55.381989\n",
       "2012-07-27    56.372318\n",
       "Name: Adj Close, Length: 396, dtype: float64"
      ]
     },
     "execution_count": 42,
     "metadata": {},
     "output_type": "execute_result"
    }
   ],
   "source": [
    "price"
   ]
  },
  {
   "cell_type": "code",
   "execution_count": 43,
   "metadata": {
    "ExecuteTime": {
     "end_time": "2018-06-03T03:23:12.945235Z",
     "start_time": "2018-06-03T03:23:12.932234Z"
    }
   },
   "outputs": [],
   "source": [
    "returns = price.pct_change()"
   ]
  },
  {
   "cell_type": "code",
   "execution_count": 44,
   "metadata": {
    "ExecuteTime": {
     "end_time": "2018-06-03T03:23:14.894346Z",
     "start_time": "2018-06-03T03:23:14.630331Z"
    }
   },
   "outputs": [
    {
     "data": {
      "text/plain": [
       "<matplotlib.axes._subplots.AxesSubplot at 0x537a278>"
      ]
     },
     "execution_count": 44,
     "metadata": {},
     "output_type": "execute_result"
    },
    {
     "data": {
      "image/png": "[encoded data removed]",
      "text/plain": [
       "<Figure size 432x288 with 1 Axes>"
      ]
     },
     "metadata": {},
     "output_type": "display_data"
    }
   ],
   "source": [
    "returns.plot()"
   ]
  },
  {
   "cell_type": "code",
   "execution_count": 46,
   "metadata": {
    "ExecuteTime": {
     "end_time": "2018-06-03T03:23:45.809114Z",
     "start_time": "2018-06-03T03:23:45.794114Z"
    }
   },
   "outputs": [],
   "source": [
    "ret_index = (returns+1).cumprod()"
   ]
  },
  {
   "cell_type": "code",
   "execution_count": 47,
   "metadata": {
    "ExecuteTime": {
     "end_time": "2018-06-03T03:24:01.893034Z",
     "start_time": "2018-06-03T03:24:01.878034Z"
    }
   },
   "outputs": [],
   "source": [
    "ret_index[0] = 1"
   ]
  },
  {
   "cell_type": "code",
   "execution_count": 48,
   "metadata": {
    "ExecuteTime": {
     "end_time": "2018-06-03T03:24:07.542358Z",
     "start_time": "2018-06-03T03:24:07.514356Z"
    }
   },
   "outputs": [
    {
     "data": {
      "text/plain": [
       "Date\n",
       "2011-01-03    1.000000\n",
       "2011-01-04    1.005219\n",
       "2011-01-05    1.013442\n",
       "2011-01-06    1.012622\n",
       "2011-01-07    1.019874\n",
       "2011-01-10    1.039081\n",
       "2011-01-11    1.036623\n",
       "2011-01-12    1.045059\n",
       "2011-01-13    1.048882\n",
       "2011-01-14    1.057378\n",
       "2011-01-18    1.033619\n",
       "2011-01-19    1.028128\n",
       "2011-01-20    1.009436\n",
       "2011-01-21    0.991352\n",
       "2011-01-24    1.023910\n",
       "2011-01-25    1.035895\n",
       "2011-01-26    1.043329\n",
       "2011-01-27    1.041387\n",
       "2011-01-28    1.019813\n",
       "2011-01-31    1.029584\n",
       "2011-02-01    1.046909\n",
       "2011-02-02    1.044755\n",
       "2011-02-03    1.042085\n",
       "2011-02-04    1.051370\n",
       "2011-02-07    1.067694\n",
       "2011-02-08    1.077768\n",
       "2011-02-09    1.086749\n",
       "2011-02-10    1.075765\n",
       "2011-02-11    1.082774\n",
       "2011-02-14    1.089844\n",
       "                ...   \n",
       "2012-06-15    1.742057\n",
       "2012-06-18    1.777407\n",
       "2012-06-19    1.782353\n",
       "2012-06-20    1.777285\n",
       "2012-06-21    1.752799\n",
       "2012-06-22    1.766241\n",
       "2012-06-25    1.731862\n",
       "2012-06-26    1.735686\n",
       "2012-06-27    1.743180\n",
       "2012-06-28    1.726643\n",
       "2012-06-29    1.772005\n",
       "2012-07-02    1.797857\n",
       "2012-07-03    1.818764\n",
       "2012-07-05    1.850714\n",
       "2012-07-06    1.838395\n",
       "2012-07-09    1.862699\n",
       "2012-07-10    1.845465\n",
       "2012-07-11    1.833996\n",
       "2012-07-12    1.817216\n",
       "2012-07-13    1.835634\n",
       "2012-07-16    1.841521\n",
       "2012-07-17    1.841612\n",
       "2012-07-18    1.839548\n",
       "2012-07-19    1.864004\n",
       "2012-07-20    1.833601\n",
       "2012-07-23    1.832175\n",
       "2012-07-24    1.823345\n",
       "2012-07-25    1.744606\n",
       "2012-07-26    1.744333\n",
       "2012-07-27    1.775525\n",
       "Name: Adj Close, Length: 396, dtype: float64"
      ]
     },
     "execution_count": 48,
     "metadata": {},
     "output_type": "execute_result"
    }
   ],
   "source": [
    "ret_index"
   ]
  },
  {
   "cell_type": "code",
   "execution_count": 49,
   "metadata": {
    "ExecuteTime": {
     "end_time": "2018-06-03T03:28:43.049116Z",
     "start_time": "2018-06-03T03:28:43.037115Z"
    }
   },
   "outputs": [],
   "source": [
    "ret_index_t = price/31.749659"
   ]
  },
  {
   "cell_type": "code",
   "execution_count": 54,
   "metadata": {
    "ExecuteTime": {
     "end_time": "2018-06-03T03:33:12.146507Z",
     "start_time": "2018-06-03T03:33:12.111505Z"
    }
   },
   "outputs": [
    {
     "data": {
      "text/html": [
       "<div>\n",
       "<style scoped>\n",
       "    .dataframe tbody tr th:only-of-type {\n",
       "        vertical-align: middle;\n",
       "    }\n",
       "\n",
       "    .dataframe tbody tr th {\n",
       "        vertical-align: top;\n",
       "    }\n",
       "\n",
       "    .dataframe thead th {\n",
       "        text-align: right;\n",
       "    }\n",
       "</style>\n",
       "<table border=\"1\" class=\"dataframe\">\n",
       "  <thead>\n",
       "    <tr style=\"text-align: right;\">\n",
       "      <th></th>\n",
       "      <th>Adj Close</th>\n",
       "      <th>Adj Close</th>\n",
       "    </tr>\n",
       "    <tr>\n",
       "      <th>Date</th>\n",
       "      <th></th>\n",
       "      <th></th>\n",
       "    </tr>\n",
       "  </thead>\n",
       "  <tbody>\n",
       "    <tr>\n",
       "      <th>2011-01-03</th>\n",
       "      <td>1.000000</td>\n",
       "      <td>1.000000</td>\n",
       "    </tr>\n",
       "    <tr>\n",
       "      <th>2011-01-04</th>\n",
       "      <td>1.005219</td>\n",
       "      <td>1.005219</td>\n",
       "    </tr>\n",
       "    <tr>\n",
       "      <th>2011-01-05</th>\n",
       "      <td>1.013442</td>\n",
       "      <td>1.013442</td>\n",
       "    </tr>\n",
       "    <tr>\n",
       "      <th>2011-01-06</th>\n",
       "      <td>1.012622</td>\n",
       "      <td>1.012622</td>\n",
       "    </tr>\n",
       "    <tr>\n",
       "      <th>2011-01-07</th>\n",
       "      <td>1.019874</td>\n",
       "      <td>1.019874</td>\n",
       "    </tr>\n",
       "    <tr>\n",
       "      <th>2011-01-10</th>\n",
       "      <td>1.039081</td>\n",
       "      <td>1.039081</td>\n",
       "    </tr>\n",
       "    <tr>\n",
       "      <th>2011-01-11</th>\n",
       "      <td>1.036623</td>\n",
       "      <td>1.036623</td>\n",
       "    </tr>\n",
       "    <tr>\n",
       "      <th>2011-01-12</th>\n",
       "      <td>1.045059</td>\n",
       "      <td>1.045059</td>\n",
       "    </tr>\n",
       "    <tr>\n",
       "      <th>2011-01-13</th>\n",
       "      <td>1.048882</td>\n",
       "      <td>1.048882</td>\n",
       "    </tr>\n",
       "    <tr>\n",
       "      <th>2011-01-14</th>\n",
       "      <td>1.057378</td>\n",
       "      <td>1.057378</td>\n",
       "    </tr>\n",
       "    <tr>\n",
       "      <th>2011-01-18</th>\n",
       "      <td>1.033619</td>\n",
       "      <td>1.033619</td>\n",
       "    </tr>\n",
       "    <tr>\n",
       "      <th>2011-01-19</th>\n",
       "      <td>1.028128</td>\n",
       "      <td>1.028128</td>\n",
       "    </tr>\n",
       "    <tr>\n",
       "      <th>2011-01-20</th>\n",
       "      <td>1.009436</td>\n",
       "      <td>1.009436</td>\n",
       "    </tr>\n",
       "    <tr>\n",
       "      <th>2011-01-21</th>\n",
       "      <td>0.991352</td>\n",
       "      <td>0.991352</td>\n",
       "    </tr>\n",
       "    <tr>\n",
       "      <th>2011-01-24</th>\n",
       "      <td>1.023910</td>\n",
       "      <td>1.023910</td>\n",
       "    </tr>\n",
       "    <tr>\n",
       "      <th>2011-01-25</th>\n",
       "      <td>1.035895</td>\n",
       "      <td>1.035895</td>\n",
       "    </tr>\n",
       "    <tr>\n",
       "      <th>2011-01-26</th>\n",
       "      <td>1.043329</td>\n",
       "      <td>1.043329</td>\n",
       "    </tr>\n",
       "    <tr>\n",
       "      <th>2011-01-27</th>\n",
       "      <td>1.041387</td>\n",
       "      <td>1.041387</td>\n",
       "    </tr>\n",
       "    <tr>\n",
       "      <th>2011-01-28</th>\n",
       "      <td>1.019813</td>\n",
       "      <td>1.019813</td>\n",
       "    </tr>\n",
       "    <tr>\n",
       "      <th>2011-01-31</th>\n",
       "      <td>1.029584</td>\n",
       "      <td>1.029584</td>\n",
       "    </tr>\n",
       "    <tr>\n",
       "      <th>2011-02-01</th>\n",
       "      <td>1.046909</td>\n",
       "      <td>1.046909</td>\n",
       "    </tr>\n",
       "    <tr>\n",
       "      <th>2011-02-02</th>\n",
       "      <td>1.044755</td>\n",
       "      <td>1.044755</td>\n",
       "    </tr>\n",
       "    <tr>\n",
       "      <th>2011-02-03</th>\n",
       "      <td>1.042085</td>\n",
       "      <td>1.042085</td>\n",
       "    </tr>\n",
       "    <tr>\n",
       "      <th>2011-02-04</th>\n",
       "      <td>1.051370</td>\n",
       "      <td>1.051370</td>\n",
       "    </tr>\n",
       "    <tr>\n",
       "      <th>2011-02-07</th>\n",
       "      <td>1.067694</td>\n",
       "      <td>1.067694</td>\n",
       "    </tr>\n",
       "    <tr>\n",
       "      <th>2011-02-08</th>\n",
       "      <td>1.077768</td>\n",
       "      <td>1.077768</td>\n",
       "    </tr>\n",
       "    <tr>\n",
       "      <th>2011-02-09</th>\n",
       "      <td>1.086749</td>\n",
       "      <td>1.086749</td>\n",
       "    </tr>\n",
       "    <tr>\n",
       "      <th>2011-02-10</th>\n",
       "      <td>1.075765</td>\n",
       "      <td>1.075765</td>\n",
       "    </tr>\n",
       "    <tr>\n",
       "      <th>2011-02-11</th>\n",
       "      <td>1.082774</td>\n",
       "      <td>1.082774</td>\n",
       "    </tr>\n",
       "    <tr>\n",
       "      <th>2011-02-14</th>\n",
       "      <td>1.089844</td>\n",
       "      <td>1.089844</td>\n",
       "    </tr>\n",
       "    <tr>\n",
       "      <th>...</th>\n",
       "      <td>...</td>\n",
       "      <td>...</td>\n",
       "    </tr>\n",
       "    <tr>\n",
       "      <th>2012-06-15</th>\n",
       "      <td>1.742057</td>\n",
       "      <td>1.742057</td>\n",
       "    </tr>\n",
       "    <tr>\n",
       "      <th>2012-06-18</th>\n",
       "      <td>1.777407</td>\n",
       "      <td>1.777407</td>\n",
       "    </tr>\n",
       "    <tr>\n",
       "      <th>2012-06-19</th>\n",
       "      <td>1.782353</td>\n",
       "      <td>1.782353</td>\n",
       "    </tr>\n",
       "    <tr>\n",
       "      <th>2012-06-20</th>\n",
       "      <td>1.777285</td>\n",
       "      <td>1.777285</td>\n",
       "    </tr>\n",
       "    <tr>\n",
       "      <th>2012-06-21</th>\n",
       "      <td>1.752799</td>\n",
       "      <td>1.752799</td>\n",
       "    </tr>\n",
       "    <tr>\n",
       "      <th>2012-06-22</th>\n",
       "      <td>1.766241</td>\n",
       "      <td>1.766241</td>\n",
       "    </tr>\n",
       "    <tr>\n",
       "      <th>2012-06-25</th>\n",
       "      <td>1.731862</td>\n",
       "      <td>1.731862</td>\n",
       "    </tr>\n",
       "    <tr>\n",
       "      <th>2012-06-26</th>\n",
       "      <td>1.735686</td>\n",
       "      <td>1.735686</td>\n",
       "    </tr>\n",
       "    <tr>\n",
       "      <th>2012-06-27</th>\n",
       "      <td>1.743180</td>\n",
       "      <td>1.743180</td>\n",
       "    </tr>\n",
       "    <tr>\n",
       "      <th>2012-06-28</th>\n",
       "      <td>1.726643</td>\n",
       "      <td>1.726643</td>\n",
       "    </tr>\n",
       "    <tr>\n",
       "      <th>2012-06-29</th>\n",
       "      <td>1.772005</td>\n",
       "      <td>1.772005</td>\n",
       "    </tr>\n",
       "    <tr>\n",
       "      <th>2012-07-02</th>\n",
       "      <td>1.797857</td>\n",
       "      <td>1.797857</td>\n",
       "    </tr>\n",
       "    <tr>\n",
       "      <th>2012-07-03</th>\n",
       "      <td>1.818764</td>\n",
       "      <td>1.818764</td>\n",
       "    </tr>\n",
       "    <tr>\n",
       "      <th>2012-07-05</th>\n",
       "      <td>1.850714</td>\n",
       "      <td>1.850714</td>\n",
       "    </tr>\n",
       "    <tr>\n",
       "      <th>2012-07-06</th>\n",
       "      <td>1.838395</td>\n",
       "      <td>1.838395</td>\n",
       "    </tr>\n",
       "    <tr>\n",
       "      <th>2012-07-09</th>\n",
       "      <td>1.862699</td>\n",
       "      <td>1.862699</td>\n",
       "    </tr>\n",
       "    <tr>\n",
       "      <th>2012-07-10</th>\n",
       "      <td>1.845465</td>\n",
       "      <td>1.845465</td>\n",
       "    </tr>\n",
       "    <tr>\n",
       "      <th>2012-07-11</th>\n",
       "      <td>1.833996</td>\n",
       "      <td>1.833996</td>\n",
       "    </tr>\n",
       "    <tr>\n",
       "      <th>2012-07-12</th>\n",
       "      <td>1.817216</td>\n",
       "      <td>1.817216</td>\n",
       "    </tr>\n",
       "    <tr>\n",
       "      <th>2012-07-13</th>\n",
       "      <td>1.835634</td>\n",
       "      <td>1.835634</td>\n",
       "    </tr>\n",
       "    <tr>\n",
       "      <th>2012-07-16</th>\n",
       "      <td>1.841521</td>\n",
       "      <td>1.841520</td>\n",
       "    </tr>\n",
       "    <tr>\n",
       "      <th>2012-07-17</th>\n",
       "      <td>1.841612</td>\n",
       "      <td>1.841612</td>\n",
       "    </tr>\n",
       "    <tr>\n",
       "      <th>2012-07-18</th>\n",
       "      <td>1.839548</td>\n",
       "      <td>1.839548</td>\n",
       "    </tr>\n",
       "    <tr>\n",
       "      <th>2012-07-19</th>\n",
       "      <td>1.864004</td>\n",
       "      <td>1.864004</td>\n",
       "    </tr>\n",
       "    <tr>\n",
       "      <th>2012-07-20</th>\n",
       "      <td>1.833601</td>\n",
       "      <td>1.833601</td>\n",
       "    </tr>\n",
       "    <tr>\n",
       "      <th>2012-07-23</th>\n",
       "      <td>1.832175</td>\n",
       "      <td>1.832175</td>\n",
       "    </tr>\n",
       "    <tr>\n",
       "      <th>2012-07-24</th>\n",
       "      <td>1.823345</td>\n",
       "      <td>1.823345</td>\n",
       "    </tr>\n",
       "    <tr>\n",
       "      <th>2012-07-25</th>\n",
       "      <td>1.744606</td>\n",
       "      <td>1.744606</td>\n",
       "    </tr>\n",
       "    <tr>\n",
       "      <th>2012-07-26</th>\n",
       "      <td>1.744333</td>\n",
       "      <td>1.744333</td>\n",
       "    </tr>\n",
       "    <tr>\n",
       "      <th>2012-07-27</th>\n",
       "      <td>1.775525</td>\n",
       "      <td>1.775525</td>\n",
       "    </tr>\n",
       "  </tbody>\n",
       "</table>\n",
       "<p>396 rows × 2 columns</p>\n",
       "</div>"
      ],
      "text/plain": [
       "            Adj Close  Adj Close\n",
       "Date                            \n",
       "2011-01-03   1.000000   1.000000\n",
       "2011-01-04   1.005219   1.005219\n",
       "2011-01-05   1.013442   1.013442\n",
       "2011-01-06   1.012622   1.012622\n",
       "2011-01-07   1.019874   1.019874\n",
       "2011-01-10   1.039081   1.039081\n",
       "2011-01-11   1.036623   1.036623\n",
       "2011-01-12   1.045059   1.045059\n",
       "2011-01-13   1.048882   1.048882\n",
       "2011-01-14   1.057378   1.057378\n",
       "2011-01-18   1.033619   1.033619\n",
       "2011-01-19   1.028128   1.028128\n",
       "2011-01-20   1.009436   1.009436\n",
       "2011-01-21   0.991352   0.991352\n",
       "2011-01-24   1.023910   1.023910\n",
       "2011-01-25   1.035895   1.035895\n",
       "2011-01-26   1.043329   1.043329\n",
       "2011-01-27   1.041387   1.041387\n",
       "2011-01-28   1.019813   1.019813\n",
       "2011-01-31   1.029584   1.029584\n",
       "2011-02-01   1.046909   1.046909\n",
       "2011-02-02   1.044755   1.044755\n",
       "2011-02-03   1.042085   1.042085\n",
       "2011-02-04   1.051370   1.051370\n",
       "2011-02-07   1.067694   1.067694\n",
       "2011-02-08   1.077768   1.077768\n",
       "2011-02-09   1.086749   1.086749\n",
       "2011-02-10   1.075765   1.075765\n",
       "2011-02-11   1.082774   1.082774\n",
       "2011-02-14   1.089844   1.089844\n",
       "...               ...        ...\n",
       "2012-06-15   1.742057   1.742057\n",
       "2012-06-18   1.777407   1.777407\n",
       "2012-06-19   1.782353   1.782353\n",
       "2012-06-20   1.777285   1.777285\n",
       "2012-06-21   1.752799   1.752799\n",
       "2012-06-22   1.766241   1.766241\n",
       "2012-06-25   1.731862   1.731862\n",
       "2012-06-26   1.735686   1.735686\n",
       "2012-06-27   1.743180   1.743180\n",
       "2012-06-28   1.726643   1.726643\n",
       "2012-06-29   1.772005   1.772005\n",
       "2012-07-02   1.797857   1.797857\n",
       "2012-07-03   1.818764   1.818764\n",
       "2012-07-05   1.850714   1.850714\n",
       "2012-07-06   1.838395   1.838395\n",
       "2012-07-09   1.862699   1.862699\n",
       "2012-07-10   1.845465   1.845465\n",
       "2012-07-11   1.833996   1.833996\n",
       "2012-07-12   1.817216   1.817216\n",
       "2012-07-13   1.835634   1.835634\n",
       "2012-07-16   1.841521   1.841520\n",
       "2012-07-17   1.841612   1.841612\n",
       "2012-07-18   1.839548   1.839548\n",
       "2012-07-19   1.864004   1.864004\n",
       "2012-07-20   1.833601   1.833601\n",
       "2012-07-23   1.832175   1.832175\n",
       "2012-07-24   1.823345   1.823345\n",
       "2012-07-25   1.744606   1.744606\n",
       "2012-07-26   1.744333   1.744333\n",
       "2012-07-27   1.775525   1.775525\n",
       "\n",
       "[396 rows x 2 columns]"
      ]
     },
     "execution_count": 54,
     "metadata": {},
     "output_type": "execute_result"
    }
   ],
   "source": [
    "pd.concat([ret_index,ret_index_t],axis=1)"
   ]
  },
  {
   "cell_type": "code",
   "execution_count": 67,
   "metadata": {
    "ExecuteTime": {
     "end_time": "2018-06-03T04:14:01.568127Z",
     "start_time": "2018-06-03T04:14:01.554126Z"
    }
   },
   "outputs": [],
   "source": [
    "import random;random.seed(0)\n",
    "import string"
   ]
  },
  {
   "cell_type": "code",
   "execution_count": 68,
   "metadata": {
    "ExecuteTime": {
     "end_time": "2018-06-03T04:14:03.118215Z",
     "start_time": "2018-06-03T04:14:03.093214Z"
    }
   },
   "outputs": [],
   "source": [
    "N = 1000\n",
    "def rands(n):\n",
    "    choices = string.ascii_uppercase\n",
    "    return ''.join([random.choice(choices) for _ in range(n)])\n",
    "tickers = np.array([rands(5) for _ in range(N)])"
   ]
  },
  {
   "cell_type": "code",
   "execution_count": 69,
   "metadata": {
    "ExecuteTime": {
     "end_time": "2018-06-03T04:14:05.026324Z",
     "start_time": "2018-06-03T04:14:05.010324Z"
    }
   },
   "outputs": [
    {
     "data": {
      "text/plain": [
       "array(['MYNBI', 'QPMZJ', 'PLSGQ', 'EJEYD', 'TZIRW', 'ZTEJD', 'XCVKP',\n",
       "       'RDLNK', 'TUGRP', 'OQIBZ', 'RACXM', 'WZVUA', 'TPKHX', 'KWCGS',\n",
       "       'HHZEZ', 'ROCCK', 'QPDJR', 'JWDRK', 'RGZTR', 'SJOCT', 'ZMKSH',\n",
       "       'JFGFB', 'TVIPC', 'CVYEE', 'BCWRV', 'MWQIQ', 'ZHGVS', 'NSIOP',\n",
       "       'VUWZL', 'CKTDP', 'SUKGH', 'AXIDW', 'HLZFK', 'NBDZE', 'WHBSU',\n",
       "       'RTVCA', 'DUGTS', 'DMCLD', 'BTAGF', 'WDPGX', 'ZBVAR', 'NTDIC',\n",
       "       'HCUJL', 'NFBQO', 'BTDWM', 'GILXP', 'SFWVG', 'YBZVF', 'FKQID',\n",
       "       'TOVFA', 'PVNSQ', 'JULMV', 'IERWA', 'OXCKX', 'BRIEH', 'YPLTJ',\n",
       "       'VLSUT', 'EWJMX', 'NUCAT', 'GWKFH', 'HUOMW', 'VSNBM', 'WSNYV',\n",
       "       'WBFOC', 'IWFOQ', 'PRTYA', 'BPKJO', 'BZZNG', 'RUCXE', 'AMVNK',\n",
       "       'AGAWY', 'AVQTD', 'GDTUG', 'JIWFD', 'PMUCA', 'IOZZD', 'IEUQU',\n",
       "       'ULDEI', 'ABBGV', 'IRKLS', 'BXWTU', 'PWUOU', 'NLRFG', 'MSJAE',\n",
       "       'EIKKZ', 'LWCKY', 'TBBIF', 'ESJLM', 'REJDP', 'XHBJF', 'QXCJM',\n",
       "       'KJNDD', 'RPPKZ', 'ZKDPD', 'WPNBJ', 'KXVEF', 'USMZU', 'CCZCG',\n",
       "       'XHBMA', 'DMRQJ', 'OPZSW', 'VGNCL', 'HISYF', 'NGLDC', 'WAQOY',\n",
       "       'VGDPM', 'IGUBZ', 'GTEDG', 'OMLRE', 'DTPES', 'MUVNQ', 'PVKPP',\n",
       "       'UVGRT', 'HAKWX', 'KKBQE', 'ITZEM', 'SJWWZ', 'PCZCQ', 'BCHEB',\n",
       "       'JAYOK', 'FZEUO', 'LQMQQ', 'BSCVZ', 'ZQYTC', 'XNYGJ', 'RTNPZ',\n",
       "       'MTSHZ', 'AVAXF', 'JQSIK', 'CPIJY', 'NMZMB', 'FUEHJ', 'XKBBP',\n",
       "       'NEPTW', 'CVWEZ', 'LNBTO', 'MOBDP', 'YEABT', 'TEUKD', 'WRULG',\n",
       "       'MZYYP', 'DBTWO', 'TUKUD', 'VWTJZ', 'EMZJX', 'VZDQZ', 'GBZMO',\n",
       "       'LYGOL', 'ZUCBB', 'PIAQV', 'SSGHC', 'YUYQW', 'QNQJD', 'ENSNC',\n",
       "       'DNCDN', 'YEXAZ', 'ONVNA', 'PKXIC', 'LCDLW', 'ALLFA', 'HLCTE',\n",
       "       'GAGVV', 'XDXAJ', 'LWATH', 'EFODP', 'LWIEA', 'GLKPJ', 'JRUKF',\n",
       "       'SCDRS', 'JFMEE', 'ZHKQH', 'HYFJL', 'NVBET', 'AMCWC', 'ENJRN',\n",
       "       'XESNJ', 'ULCHO', 'ULUQB', 'MNANX', 'KOGLJ', 'PCFZD', 'IDRTW',\n",
       "       'EZWOM', 'FYNNF', 'HOKQE', 'LOUUC', 'PYGJA', 'WOTOA', 'GJDYU',\n",
       "       'JRTEN', 'WYPCV', 'PYHRY', 'MIUAD', 'IVBAI', 'MQSWM', 'ODXIL',\n",
       "       'JYVGT', 'CBCZI', 'JRKDQ', 'HYFCN', 'JJQES', 'QUGRD', 'NURMX',\n",
       "       'YZIJO', 'LSUEF', 'DWDMM', 'SOERV', 'JLUPX', 'NGPPW', 'QKPUB',\n",
       "       'OJEXP', 'BTGAL', 'PMAQC', 'VCVXV', 'MALBD', 'TAIUW', 'JXHEY',\n",
       "       'SJGDN', 'OWKMF', 'KNUVN', 'EOWEQ', 'KEGFO', 'LZMNZ', 'PMXHZ',\n",
       "       'GOGSW', 'BMBHU', 'CFLBX', 'UVFHT', 'JTCWQ', 'YJYLN', 'OBUWQ',\n",
       "       'VURXN', 'SOPIW', 'PGKIB', 'BBFLA', 'JUAEC', 'ZNVHT', 'MRHOG',\n",
       "       'KTDTC', 'ZKKRO', 'KIAQB', 'GLCGQ', 'LGGIV', 'XXJJQ', 'MIPLW',\n",
       "       'HBJRC', 'AOPXO', 'BZNPO', 'ODCCH', 'DYENG', 'OTCNR', 'YMBFH',\n",
       "       'PHEIL', 'KNDRJ', 'TRZGW', 'JYOQT', 'ORUII', 'HADTZ', 'WDFXN',\n",
       "       'HGJXV', 'AXRQN', 'BDMUI', 'DXSLH', 'VWWRV', 'JHXHC', 'QJVKH',\n",
       "       'LUPJS', 'FEZAR', 'QKLSU', 'AZEME', 'FQCEY', 'GZYPS', 'YWGHX',\n",
       "       'EHYML', 'TSEUP', 'DTAQT', 'LPOJA', 'HRUFV', 'PZXPR', 'KWCIE',\n",
       "       'TMWGK', 'ZJMBG', 'BKXXH', 'KOVXV', 'VHILV', 'FJALS', 'RBXUE',\n",
       "       'LAPUB', 'AHBAH', 'UKCBL', 'VNEGO', 'NELJF', 'UKXZX', 'NMANI',\n",
       "       'RRZXV', 'WOYBS', 'DNMFA', 'QETVQ', 'XWECK', 'HFHAZ', 'FXZVR',\n",
       "       'FWCNT', 'DTUOW', 'ETTBI', 'KZXXM', 'AUBPC', 'LJVEO', 'HQLFX',\n",
       "       'YMKIZ', 'PMAJQ', 'JRPBY', 'RSRIV', 'BOMXD', 'MLPBA', 'IXBIV',\n",
       "       'VSWYJ', 'VYGYQ', 'QKMIG', 'DSKZH', 'SVXRV', 'LFEKX', 'ASBSE',\n",
       "       'LLJUJ', 'KPZMT', 'NFAZE', 'SBOEK', 'AXPVV', 'YIXTG', 'CRNIF',\n",
       "       'QFCVU', 'FSDQU', 'ZRTMY', 'NIJJA', 'NYWII', 'RQRKK', 'GWZNZ',\n",
       "       'EAYQE', 'ZVWZS', 'MLOBR', 'NUTZZ', 'YHALQ', 'FVGUL', 'UWPAX',\n",
       "       'XHSHI', 'FYNCS', 'OHXWO', 'QZZWD', 'GFOCN', 'UMIIN', 'YYLTK',\n",
       "       'CJAPA', 'YIGYM', 'MNYUU', 'VMWBS', 'OLSES', 'WIKAM', 'PQEBC',\n",
       "       'SLLAC', 'GWDVR', 'PBKAK', 'MEYUI', 'NVETE', 'MJQBF', 'EEPWU',\n",
       "       'WYXBX', 'QBRWX', 'WUMFL', 'ZSCCR', 'FIGZI', 'KWWIZ', 'IQOEY',\n",
       "       'OREBU', 'SFUQB', 'YKCGU', 'ZOTHZ', 'OQFWK', 'UEPYR', 'BRCQK',\n",
       "       'AYCDN', 'TLSOK', 'MQLUD', 'EKAFX', 'EAKTG', 'BNUBW', 'JZMBT',\n",
       "       'YZWFL', 'CNBOL', 'TTYIV', 'JSZON', 'FAOZI', 'GMCLD', 'DALAF',\n",
       "       'MTWUA', 'KOZRX', 'WPPCB', 'RMZZI', 'AUQDC', 'KLDPB', 'EQUZJ',\n",
       "       'BAMKF', 'RWEFF', 'YFUVH', 'TKAPU', 'VMBHH', 'UJKFH', 'LHFNO',\n",
       "       'LSEMS', 'YAFSA', 'VMWZF', 'EAAKQ', 'ABBYD', 'STEYE', 'VZMZA',\n",
       "       'NNSVK', 'WHELQ', 'GRMCE', 'NSVLD', 'NNHPM', 'HMHUP', 'MSCII',\n",
       "       'QLRAT', 'TYPHI', 'BTKZM', 'UDRBE', 'WMAYN', 'XMNDW', 'OTOFF',\n",
       "       'KPNFS', 'JYQDL', 'LEULY', 'PUQYB', 'GIFXS', 'KJMUB', 'JRNBV',\n",
       "       'NIMXG', 'LEEDT', 'LFANS', 'MOCUW', 'WVCYN', 'RXREF', 'EGFHA',\n",
       "       'QEPLT', 'XJWZK', 'VDZNY', 'IFKUQ', 'KRWEM', 'XXRJH', 'MLMPQ',\n",
       "       'JNNDV', 'EEAST', 'UWQDW', 'YUWGT', 'UTQDI', 'WXTFM', 'CZBAD',\n",
       "       'LXPKD', 'VOLSW', 'IVPZY', 'HFRRC', 'YQFAU', 'FQNTV', 'GOWVM',\n",
       "       'IASEM', 'FOSBM', 'ZCUSM', 'KHQOB', 'PTDIQ', 'PRUMP', 'IFHRL',\n",
       "       'FJTEO', 'CCPMS', 'NRCIP', 'HDJEL', 'ZDEVB', 'VESRG', 'ABMRW',\n",
       "       'YTPWW', 'DPRLY', 'KDVAH', 'HPJIH', 'APLQK', 'CCJSN', 'HXLMY',\n",
       "       'EHJGX', 'YPVZL', 'JMTEY', 'DMLQP', 'HUWLU', 'LNILM', 'YYWJD',\n",
       "       'PJDOE', 'LHXFK', 'PHDVM', 'MOQOS', 'THVMQ', 'JPHKQ', 'VACPK',\n",
       "       'MHNBS', 'YBNCI', 'GXKFD', 'FZWLA', 'HBAMR', 'AEDTT', 'GCXOG',\n",
       "       'AQTNC', 'RFHHN', 'MPZAN', 'GMYBT', 'IASLW', 'LKVOU', 'ETQCI',\n",
       "       'DWDIA', 'WETYV', 'EMGSV', 'KGNQQ', 'DRDWP', 'DQOPF', 'ORKEN',\n",
       "       'IMCSQ', 'KHOHL', 'PYNAO', 'XARMY', 'YOHNH', 'IPPEH', 'OJLUP',\n",
       "       'TEQVC', 'GJQUV', 'DBEKB', 'KTZFY', 'OMVGN', 'PGFMB', 'ZZYKY',\n",
       "       'VQGXK', 'FQRWT', 'SNEUW', 'TPVSG', 'TOBHP', 'TKRXG', 'ABBEH',\n",
       "       'OVTHV', 'VDYQN', 'UUJVK', 'PVGFL', 'RLWOM', 'OVKOC', 'EHYDY',\n",
       "       'EMOWR', 'GLWBA', 'MGCNS', 'SZNRG', 'UAVEQ', 'UPJMR', 'RCCTX',\n",
       "       'PYAGN', 'TYLJC', 'XAYZH', 'TASQL', 'EOIDS', 'OIHMM', 'XQKHS',\n",
       "       'ICBEK', 'USSPC', 'QPNKM', 'XADNT', 'VEYEA', 'DWNHB', 'UIIMD',\n",
       "       'LJLTZ', 'UGXRR', 'BKQRA', 'FPAUI', 'KELDT', 'RNZYC', 'ISDQC',\n",
       "       'SEPBQ', 'ZHLDR', 'WGFWV', 'HMGTW', 'XOLFI', 'XLRGG', 'OKEIR',\n",
       "       'VYYAC', 'VKJWZ', 'KBCTA', 'JZDFW', 'IGQRL', 'OCNQR', 'NDCSO',\n",
       "       'KFJHU', 'NVWJB', 'AAUIC', 'VKKRU', 'JBZWH', 'WQEIT', 'BZMNI',\n",
       "       'SHIKZ', 'RPOWD', 'NLFQB', 'HWZPM', 'AHCJD', 'FEOAY', 'LQNDQ',\n",
       "       'HPJIM', 'NPWBF', 'WQLGH', 'EHZJZ', 'EFRIR', 'AFHXN', 'WFHYR',\n",
       "       'ESVFX', 'HQYJZ', 'ZWXAX', 'OZGBN', 'FMQMG', 'MRQPD', 'ECRAC',\n",
       "       'AXHXM', 'OVINL', 'VMIXC', 'YFSHX', 'GBYBQ', 'ZCWOH', 'OWYYV',\n",
       "       'ETUQJ', 'ATELV', 'LLJQU', 'WIEAP', 'ZXGTM', 'KPJOE', 'PJZWK',\n",
       "       'LUTMM', 'SMWQJ', 'VYSHG', 'NGIQF', 'QEZTQ', 'YRYQU', 'PKINJ',\n",
       "       'OUQBZ', 'XGIOW', 'CAGTD', 'IZAGF', 'TFVLT', 'ZIAVV', 'AATFJ',\n",
       "       'HMPXL', 'LCSNZ', 'DWAYF', 'ATRIL', 'XGMGK', 'FZFPV', 'ETSQN',\n",
       "       'SUHAB', 'NTBUU', 'UEQCN', 'JKUUT', 'GWBKE', 'KVXIP', 'PTKIU',\n",
       "       'COZYF', 'DQIRW', 'MTONV', 'FTNYE', 'VVYZD', 'SYDFX', 'PJVXD',\n",
       "       'VYNII', 'ZDULQ', 'RZCAB', 'TAYED', 'NMZPA', 'KUECW', 'MUSXH',\n",
       "       'BGNAB', 'TZMER', 'XWJNM', 'RBXOR', 'EREUG', 'SFCSP', 'JIIGM',\n",
       "       'VAUBQ', 'YYCAU', 'JEYEY', 'QEDKA', 'XKEKS', 'YCCLG', 'IOKVP',\n",
       "       'PRQCC', 'KOMYM', 'RPRNQ', 'CHEUM', 'QKECE', 'EBMUS', 'DVCQI',\n",
       "       'SJLVX', 'PMSKX', 'VTOQL', 'HYQBX', 'MZLKZ', 'QAHSC', 'PDLNY',\n",
       "       'THRAQ', 'QDBSL', 'BLFKI', 'PPYNA', 'ZUYHU', 'UPXXL', 'VZZXF',\n",
       "       'BYXPQ', 'VFMWJ', 'VSPGA', 'WOTTV', 'FTOKS', 'KNSYU', 'EQNMH',\n",
       "       'LMJHG', 'IHRSL', 'OHTKT', 'UEKHE', 'YIRFR', 'WWTDO', 'PGWFT',\n",
       "       'LTHWZ', 'CRPGJ', 'MIQGL', 'NKXAB', 'GGTFR', 'OCIQJ', 'WPNKV',\n",
       "       'XWWMB', 'DBKFY', 'ITXRO', 'JRNPL', 'HVCXC', 'ZUCQA', 'VSQKX',\n",
       "       'TDSHA', 'BZDXJ', 'CSMWE', 'YSTQG', 'IJFFS', 'HEEHI', 'PZJEX',\n",
       "       'TIGCE', 'VNFGS', 'ALRVP', 'VEYXI', 'CXWTW', 'IZTXH', 'AEGXS',\n",
       "       'VANEE', 'PRBQK', 'HVFOK', 'VOHUU', 'XIVWG', 'DLPIL', 'RSJGJ',\n",
       "       'RMCFM', 'DSUDQ', 'EWOEN', 'IXRGY', 'ZFXCI', 'OKMQB', 'LMXXM',\n",
       "       'REYWW', 'RSEUB', 'JTOQY', 'SNGOG', 'MCDRM', 'DQVOX', 'UFBGH',\n",
       "       'HDTMN', 'CRGQG', 'GPCGD', 'QETGR', 'SQUTN', 'TMUIV', 'ZPUUT',\n",
       "       'ZALLY', 'ZGWUB', 'GOGQV', 'GAEHO', 'PCTIU', 'JMKXX', 'VWJVC',\n",
       "       'TDPLT', 'TUCHE', 'NHAPJ', 'EQULX', 'VEDQK', 'KVXCL', 'ZGGJQ',\n",
       "       'WNUXX', 'MMBEO', 'CJUVE', 'QGTPL', 'ESESN', 'IXGDF', 'EORNF',\n",
       "       'BJYPS', 'CVLUD', 'DPHQB', 'AWVZS', 'COIXS', 'IWRZM', 'FHUDV',\n",
       "       'SXYQF', 'PUUHA', 'HEWTV', 'YEUEY', 'ZSTFC', 'DIDIT', 'OSYIS',\n",
       "       'NBWCE', 'OBLKI', 'UNMAJ', 'UHGYC', 'SXEHQ', 'GOKAY', 'INSQR',\n",
       "       'EWKWS', 'URMGJ', 'DOUUI', 'HZUIY', 'JCLEO', 'AMUOB', 'UYYJQ',\n",
       "       'TYNOT', 'SXQGF', 'AIDMW', 'IGPPI', 'QMETP', 'IFWAG', 'KIWWD',\n",
       "       'VANJK', 'TXGKN', 'YEUDH', 'LYXPO', 'FVLNN', 'NLSDC', 'RZOED',\n",
       "       'AZQWM', 'UPHMU', 'XDNBV', 'JTFJI', 'QDRVV', 'KAEAC', 'KYKOG',\n",
       "       'HLVSO', 'IRFOM', 'ADADK', 'XGJRD', 'QYJCD', 'RTJXB', 'HDVFO',\n",
       "       'FFOIW', 'FOWSA', 'RMADD', 'JCUYM', 'GIXMH', 'OUTQR', 'LFNUZ',\n",
       "       'ASNTH', 'JLQKP', 'UYXOX', 'WILIY', 'FFHOK', 'UALPT', 'ZWJVH',\n",
       "       'ADOXQ', 'FGMWT', 'KREBP', 'NOZOL', 'AGSGC', 'PEVCX', 'QWVRM',\n",
       "       'TIGCN', 'ARPWX', 'KXAGT', 'JYYZN', 'OWQWJ', 'CBCLM', 'UNMZU',\n",
       "       'WYUYH', 'JPMRA', 'UNUJV', 'PEMVN', 'MWYSX', 'TJPRL', 'JNSUY',\n",
       "       'FLBNO', 'OJCVH', 'KHMAT', 'KEFPC', 'YDFTB', 'HUFAU', 'QVNVN',\n",
       "       'FJMOJ', 'RBFPF', 'DVDPX', 'JXZJJ', 'MBSIK', 'YOCBY', 'UWJHO',\n",
       "       'UJRGM', 'CNBBZ', 'CLAJJ', 'BABTB', 'ETFPU', 'CSEAX', 'REZDC',\n",
       "       'WCTYV', 'DGDPN', 'CDPWO', 'QXFRD', 'ELXNQ', 'ECUQB', 'XRHDX',\n",
       "       'ZMLQK', 'RWSRM', 'JHSWC', 'ETMYL', 'XJLQL', 'AAAEI', 'XVWGU',\n",
       "       'EFDPX', 'PVEII', 'EBFVL', 'XKGUD', 'QZPEU', 'IKGUD', 'TVWHL',\n",
       "       'ZMYDI', 'YMRLB', 'UKHMB', 'YNRIY', 'ZFIBX', 'IXCKU', 'NAYVI',\n",
       "       'HUYWF', 'ILQUD', 'FPGST', 'SCNJW', 'VBIAA', 'ZTFKF', 'MHSRG',\n",
       "       'BURYG', 'ORVOS', 'TKLLD', 'YZANL', 'FPHXV', 'XUZXX', 'UMYTA',\n",
       "       'VGTXP', 'NYMFE', 'VNMOX', 'XUXGI', 'CWFSA', 'JXFDE', 'IFMIQ',\n",
       "       'UNKRX', 'NPODI', 'TKIIX', 'JMTQA', 'PUQQG', 'NIXUY', 'NXBAN',\n",
       "       'RCZIW', 'ZAAPV', 'ZMRLR', 'PQORX', 'XWPSF', 'ZSYAT', 'LGJNC',\n",
       "       'HDFZT', 'OUEPK', 'OWEPZ', 'IPKWQ', 'XZHYB', 'LQIMR', 'UTDJE',\n",
       "       'QEECK', 'GBAPP', 'CSQBE', 'UOSES', 'ICJLE', 'OLBKD', 'DTVDJ',\n",
       "       'VJSLF', 'YAVYP', 'MMUGC', 'NIPNV', 'PMENZ', 'GYNUY', 'GICZE',\n",
       "       'OKLJZ', 'ZOKHF', 'OEWKZ', 'HPEDR', 'STOXK', 'FCVKF'], dtype='<U5')"
      ]
     },
     "execution_count": 69,
     "metadata": {},
     "output_type": "execute_result"
    }
   ],
   "source": [
    "tickers"
   ]
  },
  {
   "cell_type": "code",
   "execution_count": 71,
   "metadata": {
    "ExecuteTime": {
     "end_time": "2018-06-03T06:01:26.827774Z",
     "start_time": "2018-06-03T06:01:26.807773Z"
    }
   },
   "outputs": [],
   "source": [
    "M = 500\n",
    "df = DataFrame({'Momentum':np.random.randn(M)/200+0.03,\n",
    "               'value':np.random.randn(M)/200+0.08,\n",
    "               'shortinterest':np.random.randn(M)/200-0.02},\n",
    "              index=tickers[:500])"
   ]
  },
  {
   "cell_type": "code",
   "execution_count": 72,
   "metadata": {
    "ExecuteTime": {
     "end_time": "2018-06-03T06:01:29.338918Z",
     "start_time": "2018-06-03T06:01:29.297916Z"
    }
   },
   "outputs": [
    {
     "data": {
      "text/html": [
       "<div>\n",
       "<style scoped>\n",
       "    .dataframe tbody tr th:only-of-type {\n",
       "        vertical-align: middle;\n",
       "    }\n",
       "\n",
       "    .dataframe tbody tr th {\n",
       "        vertical-align: top;\n",
       "    }\n",
       "\n",
       "    .dataframe thead th {\n",
       "        text-align: right;\n",
       "    }\n",
       "</style>\n",
       "<table border=\"1\" class=\"dataframe\">\n",
       "  <thead>\n",
       "    <tr style=\"text-align: right;\">\n",
       "      <th></th>\n",
       "      <th>Momentum</th>\n",
       "      <th>value</th>\n",
       "      <th>shortinterest</th>\n",
       "    </tr>\n",
       "  </thead>\n",
       "  <tbody>\n",
       "    <tr>\n",
       "      <th>MYNBI</th>\n",
       "      <td>0.027718</td>\n",
       "      <td>0.081220</td>\n",
       "      <td>-0.024392</td>\n",
       "    </tr>\n",
       "    <tr>\n",
       "      <th>QPMZJ</th>\n",
       "      <td>0.031285</td>\n",
       "      <td>0.082435</td>\n",
       "      <td>-0.022455</td>\n",
       "    </tr>\n",
       "    <tr>\n",
       "      <th>PLSGQ</th>\n",
       "      <td>0.027666</td>\n",
       "      <td>0.076973</td>\n",
       "      <td>-0.016696</td>\n",
       "    </tr>\n",
       "    <tr>\n",
       "      <th>EJEYD</th>\n",
       "      <td>0.036235</td>\n",
       "      <td>0.076904</td>\n",
       "      <td>-0.023439</td>\n",
       "    </tr>\n",
       "    <tr>\n",
       "      <th>TZIRW</th>\n",
       "      <td>0.030225</td>\n",
       "      <td>0.076831</td>\n",
       "      <td>-0.016542</td>\n",
       "    </tr>\n",
       "    <tr>\n",
       "      <th>ZTEJD</th>\n",
       "      <td>0.027530</td>\n",
       "      <td>0.069029</td>\n",
       "      <td>-0.021427</td>\n",
       "    </tr>\n",
       "    <tr>\n",
       "      <th>XCVKP</th>\n",
       "      <td>0.027008</td>\n",
       "      <td>0.081054</td>\n",
       "      <td>-0.019284</td>\n",
       "    </tr>\n",
       "    <tr>\n",
       "      <th>RDLNK</th>\n",
       "      <td>0.027702</td>\n",
       "      <td>0.079035</td>\n",
       "      <td>-0.022721</td>\n",
       "    </tr>\n",
       "    <tr>\n",
       "      <th>TUGRP</th>\n",
       "      <td>0.026589</td>\n",
       "      <td>0.077916</td>\n",
       "      <td>-0.027735</td>\n",
       "    </tr>\n",
       "    <tr>\n",
       "      <th>OQIBZ</th>\n",
       "      <td>0.033103</td>\n",
       "      <td>0.077408</td>\n",
       "      <td>-0.007038</td>\n",
       "    </tr>\n",
       "    <tr>\n",
       "      <th>RACXM</th>\n",
       "      <td>0.036476</td>\n",
       "      <td>0.081072</td>\n",
       "      <td>-0.021519</td>\n",
       "    </tr>\n",
       "    <tr>\n",
       "      <th>WZVUA</th>\n",
       "      <td>0.028971</td>\n",
       "      <td>0.072192</td>\n",
       "      <td>-0.022546</td>\n",
       "    </tr>\n",
       "    <tr>\n",
       "      <th>TPKHX</th>\n",
       "      <td>0.031496</td>\n",
       "      <td>0.090976</td>\n",
       "      <td>-0.014733</td>\n",
       "    </tr>\n",
       "    <tr>\n",
       "      <th>KWCGS</th>\n",
       "      <td>0.024280</td>\n",
       "      <td>0.080593</td>\n",
       "      <td>-0.014247</td>\n",
       "    </tr>\n",
       "    <tr>\n",
       "      <th>HHZEZ</th>\n",
       "      <td>0.036354</td>\n",
       "      <td>0.072661</td>\n",
       "      <td>-0.015110</td>\n",
       "    </tr>\n",
       "    <tr>\n",
       "      <th>ROCCK</th>\n",
       "      <td>0.035119</td>\n",
       "      <td>0.084940</td>\n",
       "      <td>-0.028431</td>\n",
       "    </tr>\n",
       "    <tr>\n",
       "      <th>QPDJR</th>\n",
       "      <td>0.031234</td>\n",
       "      <td>0.082913</td>\n",
       "      <td>-0.018979</td>\n",
       "    </tr>\n",
       "    <tr>\n",
       "      <th>JWDRK</th>\n",
       "      <td>0.037240</td>\n",
       "      <td>0.077630</td>\n",
       "      <td>-0.022075</td>\n",
       "    </tr>\n",
       "    <tr>\n",
       "      <th>RGZTR</th>\n",
       "      <td>0.029632</td>\n",
       "      <td>0.094341</td>\n",
       "      <td>-0.014311</td>\n",
       "    </tr>\n",
       "    <tr>\n",
       "      <th>SJOCT</th>\n",
       "      <td>0.030241</td>\n",
       "      <td>0.079352</td>\n",
       "      <td>-0.025666</td>\n",
       "    </tr>\n",
       "    <tr>\n",
       "      <th>ZMKSH</th>\n",
       "      <td>0.040268</td>\n",
       "      <td>0.075269</td>\n",
       "      <td>-0.026347</td>\n",
       "    </tr>\n",
       "    <tr>\n",
       "      <th>JFGFB</th>\n",
       "      <td>0.030214</td>\n",
       "      <td>0.092591</td>\n",
       "      <td>-0.010201</td>\n",
       "    </tr>\n",
       "    <tr>\n",
       "      <th>TVIPC</th>\n",
       "      <td>0.020066</td>\n",
       "      <td>0.086666</td>\n",
       "      <td>-0.024654</td>\n",
       "    </tr>\n",
       "    <tr>\n",
       "      <th>CVYEE</th>\n",
       "      <td>0.039897</td>\n",
       "      <td>0.075739</td>\n",
       "      <td>-0.033063</td>\n",
       "    </tr>\n",
       "    <tr>\n",
       "      <th>BCWRV</th>\n",
       "      <td>0.028320</td>\n",
       "      <td>0.081073</td>\n",
       "      <td>-0.014457</td>\n",
       "    </tr>\n",
       "    <tr>\n",
       "      <th>MWQIQ</th>\n",
       "      <td>0.035082</td>\n",
       "      <td>0.078578</td>\n",
       "      <td>-0.022376</td>\n",
       "    </tr>\n",
       "    <tr>\n",
       "      <th>ZHGVS</th>\n",
       "      <td>0.033480</td>\n",
       "      <td>0.075342</td>\n",
       "      <td>-0.013551</td>\n",
       "    </tr>\n",
       "    <tr>\n",
       "      <th>NSIOP</th>\n",
       "      <td>0.036546</td>\n",
       "      <td>0.083828</td>\n",
       "      <td>-0.024612</td>\n",
       "    </tr>\n",
       "    <tr>\n",
       "      <th>VUWZL</th>\n",
       "      <td>0.035857</td>\n",
       "      <td>0.079519</td>\n",
       "      <td>-0.017745</td>\n",
       "    </tr>\n",
       "    <tr>\n",
       "      <th>CKTDP</th>\n",
       "      <td>0.033242</td>\n",
       "      <td>0.074575</td>\n",
       "      <td>-0.018743</td>\n",
       "    </tr>\n",
       "    <tr>\n",
       "      <th>...</th>\n",
       "      <td>...</td>\n",
       "      <td>...</td>\n",
       "      <td>...</td>\n",
       "    </tr>\n",
       "    <tr>\n",
       "      <th>CCPMS</th>\n",
       "      <td>0.033729</td>\n",
       "      <td>0.076604</td>\n",
       "      <td>-0.020897</td>\n",
       "    </tr>\n",
       "    <tr>\n",
       "      <th>NRCIP</th>\n",
       "      <td>0.022856</td>\n",
       "      <td>0.081061</td>\n",
       "      <td>-0.022696</td>\n",
       "    </tr>\n",
       "    <tr>\n",
       "      <th>HDJEL</th>\n",
       "      <td>0.032884</td>\n",
       "      <td>0.088034</td>\n",
       "      <td>-0.013576</td>\n",
       "    </tr>\n",
       "    <tr>\n",
       "      <th>ZDEVB</th>\n",
       "      <td>0.030044</td>\n",
       "      <td>0.086276</td>\n",
       "      <td>-0.021741</td>\n",
       "    </tr>\n",
       "    <tr>\n",
       "      <th>VESRG</th>\n",
       "      <td>0.031543</td>\n",
       "      <td>0.072159</td>\n",
       "      <td>-0.023131</td>\n",
       "    </tr>\n",
       "    <tr>\n",
       "      <th>ABMRW</th>\n",
       "      <td>0.030016</td>\n",
       "      <td>0.070084</td>\n",
       "      <td>-0.022156</td>\n",
       "    </tr>\n",
       "    <tr>\n",
       "      <th>YTPWW</th>\n",
       "      <td>0.027670</td>\n",
       "      <td>0.082217</td>\n",
       "      <td>-0.027748</td>\n",
       "    </tr>\n",
       "    <tr>\n",
       "      <th>DPRLY</th>\n",
       "      <td>0.018492</td>\n",
       "      <td>0.082375</td>\n",
       "      <td>-0.018319</td>\n",
       "    </tr>\n",
       "    <tr>\n",
       "      <th>KDVAH</th>\n",
       "      <td>0.030760</td>\n",
       "      <td>0.087884</td>\n",
       "      <td>-0.021152</td>\n",
       "    </tr>\n",
       "    <tr>\n",
       "      <th>HPJIH</th>\n",
       "      <td>0.023863</td>\n",
       "      <td>0.076512</td>\n",
       "      <td>-0.020618</td>\n",
       "    </tr>\n",
       "    <tr>\n",
       "      <th>APLQK</th>\n",
       "      <td>0.032388</td>\n",
       "      <td>0.080155</td>\n",
       "      <td>-0.019976</td>\n",
       "    </tr>\n",
       "    <tr>\n",
       "      <th>CCJSN</th>\n",
       "      <td>0.040899</td>\n",
       "      <td>0.082220</td>\n",
       "      <td>-0.020856</td>\n",
       "    </tr>\n",
       "    <tr>\n",
       "      <th>HXLMY</th>\n",
       "      <td>0.028813</td>\n",
       "      <td>0.080216</td>\n",
       "      <td>-0.022494</td>\n",
       "    </tr>\n",
       "    <tr>\n",
       "      <th>EHJGX</th>\n",
       "      <td>0.026397</td>\n",
       "      <td>0.088813</td>\n",
       "      <td>-0.016533</td>\n",
       "    </tr>\n",
       "    <tr>\n",
       "      <th>YPVZL</th>\n",
       "      <td>0.038413</td>\n",
       "      <td>0.083240</td>\n",
       "      <td>-0.019393</td>\n",
       "    </tr>\n",
       "    <tr>\n",
       "      <th>JMTEY</th>\n",
       "      <td>0.021489</td>\n",
       "      <td>0.078928</td>\n",
       "      <td>-0.018182</td>\n",
       "    </tr>\n",
       "    <tr>\n",
       "      <th>DMLQP</th>\n",
       "      <td>0.032722</td>\n",
       "      <td>0.073297</td>\n",
       "      <td>-0.018363</td>\n",
       "    </tr>\n",
       "    <tr>\n",
       "      <th>HUWLU</th>\n",
       "      <td>0.023629</td>\n",
       "      <td>0.080982</td>\n",
       "      <td>-0.024531</td>\n",
       "    </tr>\n",
       "    <tr>\n",
       "      <th>LNILM</th>\n",
       "      <td>0.027534</td>\n",
       "      <td>0.082011</td>\n",
       "      <td>-0.010242</td>\n",
       "    </tr>\n",
       "    <tr>\n",
       "      <th>YYWJD</th>\n",
       "      <td>0.035792</td>\n",
       "      <td>0.084896</td>\n",
       "      <td>-0.026523</td>\n",
       "    </tr>\n",
       "    <tr>\n",
       "      <th>PJDOE</th>\n",
       "      <td>0.024919</td>\n",
       "      <td>0.077109</td>\n",
       "      <td>-0.028093</td>\n",
       "    </tr>\n",
       "    <tr>\n",
       "      <th>LHXFK</th>\n",
       "      <td>0.030447</td>\n",
       "      <td>0.077791</td>\n",
       "      <td>-0.023112</td>\n",
       "    </tr>\n",
       "    <tr>\n",
       "      <th>PHDVM</th>\n",
       "      <td>0.027578</td>\n",
       "      <td>0.081674</td>\n",
       "      <td>-0.018167</td>\n",
       "    </tr>\n",
       "    <tr>\n",
       "      <th>MOQOS</th>\n",
       "      <td>0.035905</td>\n",
       "      <td>0.072561</td>\n",
       "      <td>-0.025385</td>\n",
       "    </tr>\n",
       "    <tr>\n",
       "      <th>THVMQ</th>\n",
       "      <td>0.033393</td>\n",
       "      <td>0.082060</td>\n",
       "      <td>-0.025734</td>\n",
       "    </tr>\n",
       "    <tr>\n",
       "      <th>JPHKQ</th>\n",
       "      <td>0.025354</td>\n",
       "      <td>0.075247</td>\n",
       "      <td>-0.015577</td>\n",
       "    </tr>\n",
       "    <tr>\n",
       "      <th>VACPK</th>\n",
       "      <td>0.022802</td>\n",
       "      <td>0.071586</td>\n",
       "      <td>-0.017496</td>\n",
       "    </tr>\n",
       "    <tr>\n",
       "      <th>MHNBS</th>\n",
       "      <td>0.034627</td>\n",
       "      <td>0.083793</td>\n",
       "      <td>-0.018770</td>\n",
       "    </tr>\n",
       "    <tr>\n",
       "      <th>YBNCI</th>\n",
       "      <td>0.032145</td>\n",
       "      <td>0.069576</td>\n",
       "      <td>-0.020983</td>\n",
       "    </tr>\n",
       "    <tr>\n",
       "      <th>GXKFD</th>\n",
       "      <td>0.026842</td>\n",
       "      <td>0.081177</td>\n",
       "      <td>-0.022395</td>\n",
       "    </tr>\n",
       "  </tbody>\n",
       "</table>\n",
       "<p>500 rows × 3 columns</p>\n",
       "</div>"
      ],
      "text/plain": [
       "       Momentum     value  shortinterest\n",
       "MYNBI  0.027718  0.081220      -0.024392\n",
       "QPMZJ  0.031285  0.082435      -0.022455\n",
       "PLSGQ  0.027666  0.076973      -0.016696\n",
       "EJEYD  0.036235  0.076904      -0.023439\n",
       "TZIRW  0.030225  0.076831      -0.016542\n",
       "ZTEJD  0.027530  0.069029      -0.021427\n",
       "XCVKP  0.027008  0.081054      -0.019284\n",
       "RDLNK  0.027702  0.079035      -0.022721\n",
       "TUGRP  0.026589  0.077916      -0.027735\n",
       "OQIBZ  0.033103  0.077408      -0.007038\n",
       "RACXM  0.036476  0.081072      -0.021519\n",
       "WZVUA  0.028971  0.072192      -0.022546\n",
       "TPKHX  0.031496  0.090976      -0.014733\n",
       "KWCGS  0.024280  0.080593      -0.014247\n",
       "HHZEZ  0.036354  0.072661      -0.015110\n",
       "ROCCK  0.035119  0.084940      -0.028431\n",
       "QPDJR  0.031234  0.082913      -0.018979\n",
       "JWDRK  0.037240  0.077630      -0.022075\n",
       "RGZTR  0.029632  0.094341      -0.014311\n",
       "SJOCT  0.030241  0.079352      -0.025666\n",
       "ZMKSH  0.040268  0.075269      -0.026347\n",
       "JFGFB  0.030214  0.092591      -0.010201\n",
       "TVIPC  0.020066  0.086666      -0.024654\n",
       "CVYEE  0.039897  0.075739      -0.033063\n",
       "BCWRV  0.028320  0.081073      -0.014457\n",
       "MWQIQ  0.035082  0.078578      -0.022376\n",
       "ZHGVS  0.033480  0.075342      -0.013551\n",
       "NSIOP  0.036546  0.083828      -0.024612\n",
       "VUWZL  0.035857  0.079519      -0.017745\n",
       "CKTDP  0.033242  0.074575      -0.018743\n",
       "...         ...       ...            ...\n",
       "CCPMS  0.033729  0.076604      -0.020897\n",
       "NRCIP  0.022856  0.081061      -0.022696\n",
       "HDJEL  0.032884  0.088034      -0.013576\n",
       "ZDEVB  0.030044  0.086276      -0.021741\n",
       "VESRG  0.031543  0.072159      -0.023131\n",
       "ABMRW  0.030016  0.070084      -0.022156\n",
       "YTPWW  0.027670  0.082217      -0.027748\n",
       "DPRLY  0.018492  0.082375      -0.018319\n",
       "KDVAH  0.030760  0.087884      -0.021152\n",
       "HPJIH  0.023863  0.076512      -0.020618\n",
       "APLQK  0.032388  0.080155      -0.019976\n",
       "CCJSN  0.040899  0.082220      -0.020856\n",
       "HXLMY  0.028813  0.080216      -0.022494\n",
       "EHJGX  0.026397  0.088813      -0.016533\n",
       "YPVZL  0.038413  0.083240      -0.019393\n",
       "JMTEY  0.021489  0.078928      -0.018182\n",
       "DMLQP  0.032722  0.073297      -0.018363\n",
       "HUWLU  0.023629  0.080982      -0.024531\n",
       "LNILM  0.027534  0.082011      -0.010242\n",
       "YYWJD  0.035792  0.084896      -0.026523\n",
       "PJDOE  0.024919  0.077109      -0.028093\n",
       "LHXFK  0.030447  0.077791      -0.023112\n",
       "PHDVM  0.027578  0.081674      -0.018167\n",
       "MOQOS  0.035905  0.072561      -0.025385\n",
       "THVMQ  0.033393  0.082060      -0.025734\n",
       "JPHKQ  0.025354  0.075247      -0.015577\n",
       "VACPK  0.022802  0.071586      -0.017496\n",
       "MHNBS  0.034627  0.083793      -0.018770\n",
       "YBNCI  0.032145  0.069576      -0.020983\n",
       "GXKFD  0.026842  0.081177      -0.022395\n",
       "\n",
       "[500 rows x 3 columns]"
      ]
     },
     "execution_count": 72,
     "metadata": {},
     "output_type": "execute_result"
    }
   ],
   "source": [
    "df"
   ]
  },
  {
   "cell_type": "code",
   "execution_count": 75,
   "metadata": {
    "ExecuteTime": {
     "end_time": "2018-06-03T06:05:44.824531Z",
     "start_time": "2018-06-03T06:05:44.808530Z"
    }
   },
   "outputs": [],
   "source": [
    "ind_names = np.array(['financial','tech'])\n",
    "sampler = np.random.randint(0,2,N)\n",
    "industries = Series(ind_names[sampler],index=tickers,name='industry')"
   ]
  },
  {
   "cell_type": "code",
   "execution_count": 76,
   "metadata": {
    "ExecuteTime": {
     "end_time": "2018-06-03T06:05:54.412079Z",
     "start_time": "2018-06-03T06:05:54.389078Z"
    }
   },
   "outputs": [
    {
     "data": {
      "text/plain": [
       "MYNBI    financial\n",
       "QPMZJ         tech\n",
       "PLSGQ         tech\n",
       "EJEYD    financial\n",
       "TZIRW         tech\n",
       "ZTEJD         tech\n",
       "XCVKP    financial\n",
       "RDLNK         tech\n",
       "TUGRP    financial\n",
       "OQIBZ         tech\n",
       "RACXM    financial\n",
       "WZVUA         tech\n",
       "TPKHX         tech\n",
       "KWCGS         tech\n",
       "HHZEZ         tech\n",
       "ROCCK    financial\n",
       "QPDJR         tech\n",
       "JWDRK    financial\n",
       "RGZTR         tech\n",
       "SJOCT    financial\n",
       "ZMKSH         tech\n",
       "JFGFB         tech\n",
       "TVIPC    financial\n",
       "CVYEE    financial\n",
       "BCWRV    financial\n",
       "MWQIQ    financial\n",
       "ZHGVS    financial\n",
       "NSIOP    financial\n",
       "VUWZL    financial\n",
       "CKTDP    financial\n",
       "           ...    \n",
       "XWPSF         tech\n",
       "ZSYAT         tech\n",
       "LGJNC         tech\n",
       "HDFZT         tech\n",
       "OUEPK         tech\n",
       "OWEPZ    financial\n",
       "IPKWQ    financial\n",
       "XZHYB    financial\n",
       "LQIMR         tech\n",
       "UTDJE    financial\n",
       "QEECK         tech\n",
       "GBAPP         tech\n",
       "CSQBE    financial\n",
       "UOSES    financial\n",
       "ICJLE    financial\n",
       "OLBKD         tech\n",
       "DTVDJ    financial\n",
       "VJSLF         tech\n",
       "YAVYP    financial\n",
       "MMUGC         tech\n",
       "NIPNV         tech\n",
       "PMENZ         tech\n",
       "GYNUY         tech\n",
       "GICZE    financial\n",
       "OKLJZ    financial\n",
       "ZOKHF    financial\n",
       "OEWKZ    financial\n",
       "HPEDR         tech\n",
       "STOXK    financial\n",
       "FCVKF    financial\n",
       "Name: industry, Length: 1000, dtype: object"
      ]
     },
     "execution_count": 76,
     "metadata": {},
     "output_type": "execute_result"
    }
   ],
   "source": [
    "industries"
   ]
  },
  {
   "cell_type": "code",
   "execution_count": 77,
   "metadata": {
    "ExecuteTime": {
     "end_time": "2018-06-03T06:06:44.057919Z",
     "start_time": "2018-06-03T06:06:44.039918Z"
    }
   },
   "outputs": [],
   "source": [
    "by_industry = df.groupby(industries)"
   ]
  },
  {
   "cell_type": "code",
   "execution_count": 78,
   "metadata": {
    "ExecuteTime": {
     "end_time": "2018-06-03T06:06:51.699356Z",
     "start_time": "2018-06-03T06:06:51.577349Z"
    }
   },
   "outputs": [
    {
     "data": {
      "text/html": [
       "<div>\n",
       "<style scoped>\n",
       "    .dataframe tbody tr th:only-of-type {\n",
       "        vertical-align: middle;\n",
       "    }\n",
       "\n",
       "    .dataframe tbody tr th {\n",
       "        vertical-align: top;\n",
       "    }\n",
       "\n",
       "    .dataframe thead th {\n",
       "        text-align: right;\n",
       "    }\n",
       "</style>\n",
       "<table border=\"1\" class=\"dataframe\">\n",
       "  <thead>\n",
       "    <tr style=\"text-align: right;\">\n",
       "      <th></th>\n",
       "      <th>Momentum</th>\n",
       "      <th>value</th>\n",
       "      <th>shortinterest</th>\n",
       "    </tr>\n",
       "    <tr>\n",
       "      <th>industry</th>\n",
       "      <th></th>\n",
       "      <th></th>\n",
       "      <th></th>\n",
       "    </tr>\n",
       "  </thead>\n",
       "  <tbody>\n",
       "    <tr>\n",
       "      <th>financial</th>\n",
       "      <td>0.029884</td>\n",
       "      <td>0.080044</td>\n",
       "      <td>-0.020604</td>\n",
       "    </tr>\n",
       "    <tr>\n",
       "      <th>tech</th>\n",
       "      <td>0.029755</td>\n",
       "      <td>0.080051</td>\n",
       "      <td>-0.020106</td>\n",
       "    </tr>\n",
       "  </tbody>\n",
       "</table>\n",
       "</div>"
      ],
      "text/plain": [
       "           Momentum     value  shortinterest\n",
       "industry                                    \n",
       "financial  0.029884  0.080044      -0.020604\n",
       "tech       0.029755  0.080051      -0.020106"
      ]
     },
     "execution_count": 78,
     "metadata": {},
     "output_type": "execute_result"
    }
   ],
   "source": [
    "by_industry.mean()"
   ]
  },
  {
   "cell_type": "code",
   "execution_count": 80,
   "metadata": {
    "ExecuteTime": {
     "end_time": "2018-06-03T06:07:23.855195Z",
     "start_time": "2018-06-03T06:07:23.778191Z"
    }
   },
   "outputs": [
    {
     "data": {
      "text/html": [
       "<div>\n",
       "<style scoped>\n",
       "    .dataframe tbody tr th:only-of-type {\n",
       "        vertical-align: middle;\n",
       "    }\n",
       "\n",
       "    .dataframe tbody tr th {\n",
       "        vertical-align: top;\n",
       "    }\n",
       "\n",
       "    .dataframe thead th {\n",
       "        text-align: right;\n",
       "    }\n",
       "</style>\n",
       "<table border=\"1\" class=\"dataframe\">\n",
       "  <thead>\n",
       "    <tr style=\"text-align: right;\">\n",
       "      <th></th>\n",
       "      <th>industry</th>\n",
       "      <th>financial</th>\n",
       "      <th>tech</th>\n",
       "    </tr>\n",
       "  </thead>\n",
       "  <tbody>\n",
       "    <tr>\n",
       "      <th rowspan=\"8\" valign=\"top\">Momentum</th>\n",
       "      <th>count</th>\n",
       "      <td>245.000000</td>\n",
       "      <td>255.000000</td>\n",
       "    </tr>\n",
       "    <tr>\n",
       "      <th>mean</th>\n",
       "      <td>0.029884</td>\n",
       "      <td>0.029755</td>\n",
       "    </tr>\n",
       "    <tr>\n",
       "      <th>std</th>\n",
       "      <td>0.004998</td>\n",
       "      <td>0.004668</td>\n",
       "    </tr>\n",
       "    <tr>\n",
       "      <th>min</th>\n",
       "      <td>0.016188</td>\n",
       "      <td>0.014688</td>\n",
       "    </tr>\n",
       "    <tr>\n",
       "      <th>25%</th>\n",
       "      <td>0.026589</td>\n",
       "      <td>0.026787</td>\n",
       "    </tr>\n",
       "    <tr>\n",
       "      <th>50%</th>\n",
       "      <td>0.029935</td>\n",
       "      <td>0.030044</td>\n",
       "    </tr>\n",
       "    <tr>\n",
       "      <th>75%</th>\n",
       "      <td>0.032767</td>\n",
       "      <td>0.032751</td>\n",
       "    </tr>\n",
       "    <tr>\n",
       "      <th>max</th>\n",
       "      <td>0.044934</td>\n",
       "      <td>0.043160</td>\n",
       "    </tr>\n",
       "    <tr>\n",
       "      <th rowspan=\"8\" valign=\"top\">value</th>\n",
       "      <th>count</th>\n",
       "      <td>245.000000</td>\n",
       "      <td>255.000000</td>\n",
       "    </tr>\n",
       "    <tr>\n",
       "      <th>mean</th>\n",
       "      <td>0.080044</td>\n",
       "      <td>0.080051</td>\n",
       "    </tr>\n",
       "    <tr>\n",
       "      <th>std</th>\n",
       "      <td>0.004812</td>\n",
       "      <td>0.005164</td>\n",
       "    </tr>\n",
       "    <tr>\n",
       "      <th>min</th>\n",
       "      <td>0.068731</td>\n",
       "      <td>0.065273</td>\n",
       "    </tr>\n",
       "    <tr>\n",
       "      <th>25%</th>\n",
       "      <td>0.076879</td>\n",
       "      <td>0.076784</td>\n",
       "    </tr>\n",
       "    <tr>\n",
       "      <th>50%</th>\n",
       "      <td>0.080137</td>\n",
       "      <td>0.080353</td>\n",
       "    </tr>\n",
       "    <tr>\n",
       "      <th>75%</th>\n",
       "      <td>0.083347</td>\n",
       "      <td>0.083137</td>\n",
       "    </tr>\n",
       "    <tr>\n",
       "      <th>max</th>\n",
       "      <td>0.090792</td>\n",
       "      <td>0.100522</td>\n",
       "    </tr>\n",
       "    <tr>\n",
       "      <th rowspan=\"8\" valign=\"top\">shortinterest</th>\n",
       "      <th>count</th>\n",
       "      <td>245.000000</td>\n",
       "      <td>255.000000</td>\n",
       "    </tr>\n",
       "    <tr>\n",
       "      <th>mean</th>\n",
       "      <td>-0.020604</td>\n",
       "      <td>-0.020106</td>\n",
       "    </tr>\n",
       "    <tr>\n",
       "      <th>std</th>\n",
       "      <td>0.004917</td>\n",
       "      <td>0.004918</td>\n",
       "    </tr>\n",
       "    <tr>\n",
       "      <th>min</th>\n",
       "      <td>-0.033524</td>\n",
       "      <td>-0.032319</td>\n",
       "    </tr>\n",
       "    <tr>\n",
       "      <th>25%</th>\n",
       "      <td>-0.023787</td>\n",
       "      <td>-0.022966</td>\n",
       "    </tr>\n",
       "    <tr>\n",
       "      <th>50%</th>\n",
       "      <td>-0.020651</td>\n",
       "      <td>-0.020230</td>\n",
       "    </tr>\n",
       "    <tr>\n",
       "      <th>75%</th>\n",
       "      <td>-0.017168</td>\n",
       "      <td>-0.016898</td>\n",
       "    </tr>\n",
       "    <tr>\n",
       "      <th>max</th>\n",
       "      <td>-0.007377</td>\n",
       "      <td>-0.004982</td>\n",
       "    </tr>\n",
       "  </tbody>\n",
       "</table>\n",
       "</div>"
      ],
      "text/plain": [
       "industry              financial        tech\n",
       "Momentum      count  245.000000  255.000000\n",
       "              mean     0.029884    0.029755\n",
       "              std      0.004998    0.004668\n",
       "              min      0.016188    0.014688\n",
       "              25%      0.026589    0.026787\n",
       "              50%      0.029935    0.030044\n",
       "              75%      0.032767    0.032751\n",
       "              max      0.044934    0.043160\n",
       "value         count  245.000000  255.000000\n",
       "              mean     0.080044    0.080051\n",
       "              std      0.004812    0.005164\n",
       "              min      0.068731    0.065273\n",
       "              25%      0.076879    0.076784\n",
       "              50%      0.080137    0.080353\n",
       "              75%      0.083347    0.083137\n",
       "              max      0.090792    0.100522\n",
       "shortinterest count  245.000000  255.000000\n",
       "              mean    -0.020604   -0.020106\n",
       "              std      0.004917    0.004918\n",
       "              min     -0.033524   -0.032319\n",
       "              25%     -0.023787   -0.022966\n",
       "              50%     -0.020651   -0.020230\n",
       "              75%     -0.017168   -0.016898\n",
       "              max     -0.007377   -0.004982"
      ]
     },
     "execution_count": 80,
     "metadata": {},
     "output_type": "execute_result"
    }
   ],
   "source": [
    "by_industry.describe().T"
   ]
  },
  {
   "cell_type": "code",
   "execution_count": 82,
   "metadata": {
    "ExecuteTime": {
     "end_time": "2018-06-03T06:12:31.874813Z",
     "start_time": "2018-06-03T06:12:31.861812Z"
    }
   },
   "outputs": [],
   "source": [
    "fac1,fac2,fac3 = np.random.rand(3,1000)"
   ]
  },
  {
   "cell_type": "code",
   "execution_count": 85,
   "metadata": {
    "ExecuteTime": {
     "end_time": "2018-06-03T06:12:54.548110Z",
     "start_time": "2018-06-03T06:12:54.535109Z"
    }
   },
   "outputs": [
    {
     "data": {
      "text/plain": [
       "array([[0.77127355, 0.70596952, 0.42103611, ..., 0.78989174, 0.49153965,\n",
       "        0.9112499 ],\n",
       "       [0.04313717, 0.54237721, 0.95212825, ..., 0.2553915 , 0.17882981,\n",
       "        0.44553791],\n",
       "       [0.3995786 , 0.63274103, 0.54025941, ..., 0.32086767, 0.80479721,\n",
       "        0.2644379 ]])"
      ]
     },
     "execution_count": 85,
     "metadata": {},
     "output_type": "execute_result"
    }
   ],
   "source": [
    "np.random.rand(3,1000)"
   ]
  },
  {
   "cell_type": "code",
   "execution_count": 86,
   "metadata": {
    "ExecuteTime": {
     "end_time": "2018-06-03T06:14:16.757812Z",
     "start_time": "2018-06-03T06:14:16.746811Z"
    }
   },
   "outputs": [],
   "source": [
    "ticker_subset = tickers.take(np.random.permutation(N)[:1000])"
   ]
  },
  {
   "cell_type": "code",
   "execution_count": 90,
   "metadata": {
    "ExecuteTime": {
     "end_time": "2018-06-03T06:17:16.077068Z",
     "start_time": "2018-06-03T06:17:16.061067Z"
    }
   },
   "outputs": [
    {
     "data": {
      "text/plain": [
       "array(['NSIOP', 'AVAXF', 'ONVNA', 'JKUUT', 'YCCLG', 'VSWYJ', 'KXVEF',\n",
       "       'CNBOL', 'RXREF', 'AZQWM'], dtype='<U5')"
      ]
     },
     "execution_count": 90,
     "metadata": {},
     "output_type": "execute_result"
    }
   ],
   "source": [
    "ticker_subset[:10]"
   ]
  },
  {
   "cell_type": "code",
   "execution_count": 88,
   "metadata": {
    "ExecuteTime": {
     "end_time": "2018-06-03T06:17:03.395343Z",
     "start_time": "2018-06-03T06:17:03.379342Z"
    }
   },
   "outputs": [],
   "source": [
    "port = Series(0.7*fac1-1.2*fac2+0.3*fac3+np.random.rand(1000),\n",
    "             index=ticker_subset)"
   ]
  },
  {
   "cell_type": "code",
   "execution_count": 91,
   "metadata": {
    "ExecuteTime": {
     "end_time": "2018-06-03T06:17:21.104356Z",
     "start_time": "2018-06-03T06:17:21.082355Z"
    }
   },
   "outputs": [
    {
     "data": {
      "text/plain": [
       "NSIOP   -0.357781\n",
       "AVAXF    0.592948\n",
       "ONVNA    0.164298\n",
       "JKUUT    1.284680\n",
       "YCCLG   -0.309576\n",
       "VSWYJ    0.134187\n",
       "KXVEF    0.391346\n",
       "CNBOL    0.880932\n",
       "RXREF    1.188387\n",
       "AZQWM    0.080591\n",
       "dtype: float64"
      ]
     },
     "execution_count": 91,
     "metadata": {},
     "output_type": "execute_result"
    }
   ],
   "source": [
    "port[:10]"
   ]
  },
  {
   "cell_type": "code",
   "execution_count": 93,
   "metadata": {
    "ExecuteTime": {
     "end_time": "2018-06-03T06:19:02.531157Z",
     "start_time": "2018-06-03T06:19:02.514156Z"
    }
   },
   "outputs": [],
   "source": [
    "factors = DataFrame({'f1':fac1,'f2':fac2,'f3':fac3},index=ticker_subset)"
   ]
  },
  {
   "cell_type": "code",
   "execution_count": 95,
   "metadata": {
    "ExecuteTime": {
     "end_time": "2018-06-03T06:19:13.906808Z",
     "start_time": "2018-06-03T06:19:13.879806Z"
    }
   },
   "outputs": [
    {
     "data": {
      "text/html": [
       "<div>\n",
       "<style scoped>\n",
       "    .dataframe tbody tr th:only-of-type {\n",
       "        vertical-align: middle;\n",
       "    }\n",
       "\n",
       "    .dataframe tbody tr th {\n",
       "        vertical-align: top;\n",
       "    }\n",
       "\n",
       "    .dataframe thead th {\n",
       "        text-align: right;\n",
       "    }\n",
       "</style>\n",
       "<table border=\"1\" class=\"dataframe\">\n",
       "  <thead>\n",
       "    <tr style=\"text-align: right;\">\n",
       "      <th></th>\n",
       "      <th>f1</th>\n",
       "      <th>f2</th>\n",
       "      <th>f3</th>\n",
       "    </tr>\n",
       "  </thead>\n",
       "  <tbody>\n",
       "    <tr>\n",
       "      <th>NSIOP</th>\n",
       "      <td>0.138856</td>\n",
       "      <td>0.819023</td>\n",
       "      <td>0.812335</td>\n",
       "    </tr>\n",
       "    <tr>\n",
       "      <th>AVAXF</th>\n",
       "      <td>0.305590</td>\n",
       "      <td>0.658042</td>\n",
       "      <td>0.729561</td>\n",
       "    </tr>\n",
       "    <tr>\n",
       "      <th>ONVNA</th>\n",
       "      <td>0.269285</td>\n",
       "      <td>0.198222</td>\n",
       "      <td>0.284531</td>\n",
       "    </tr>\n",
       "    <tr>\n",
       "      <th>JKUUT</th>\n",
       "      <td>0.324053</td>\n",
       "      <td>0.118139</td>\n",
       "      <td>0.898522</td>\n",
       "    </tr>\n",
       "    <tr>\n",
       "      <th>YCCLG</th>\n",
       "      <td>0.478109</td>\n",
       "      <td>0.950827</td>\n",
       "      <td>0.667199</td>\n",
       "    </tr>\n",
       "    <tr>\n",
       "      <th>VSWYJ</th>\n",
       "      <td>0.607261</td>\n",
       "      <td>0.710202</td>\n",
       "      <td>0.300581</td>\n",
       "    </tr>\n",
       "    <tr>\n",
       "      <th>KXVEF</th>\n",
       "      <td>0.261712</td>\n",
       "      <td>0.117686</td>\n",
       "      <td>0.706927</td>\n",
       "    </tr>\n",
       "    <tr>\n",
       "      <th>CNBOL</th>\n",
       "      <td>0.373594</td>\n",
       "      <td>0.060511</td>\n",
       "      <td>0.075870</td>\n",
       "    </tr>\n",
       "    <tr>\n",
       "      <th>RXREF</th>\n",
       "      <td>0.501879</td>\n",
       "      <td>0.096281</td>\n",
       "      <td>0.504692</td>\n",
       "    </tr>\n",
       "    <tr>\n",
       "      <th>AZQWM</th>\n",
       "      <td>0.318144</td>\n",
       "      <td>0.756436</td>\n",
       "      <td>0.085096</td>\n",
       "    </tr>\n",
       "  </tbody>\n",
       "</table>\n",
       "</div>"
      ],
      "text/plain": [
       "             f1        f2        f3\n",
       "NSIOP  0.138856  0.819023  0.812335\n",
       "AVAXF  0.305590  0.658042  0.729561\n",
       "ONVNA  0.269285  0.198222  0.284531\n",
       "JKUUT  0.324053  0.118139  0.898522\n",
       "YCCLG  0.478109  0.950827  0.667199\n",
       "VSWYJ  0.607261  0.710202  0.300581\n",
       "KXVEF  0.261712  0.117686  0.706927\n",
       "CNBOL  0.373594  0.060511  0.075870\n",
       "RXREF  0.501879  0.096281  0.504692\n",
       "AZQWM  0.318144  0.756436  0.085096"
      ]
     },
     "execution_count": 95,
     "metadata": {},
     "output_type": "execute_result"
    }
   ],
   "source": [
    "factors[:10]"
   ]
  },
  {
   "cell_type": "code",
   "execution_count": 96,
   "metadata": {
    "ExecuteTime": {
     "end_time": "2018-06-03T06:20:01.570534Z",
     "start_time": "2018-06-03T06:20:01.315519Z"
    }
   },
   "outputs": [
    {
     "data": {
      "text/plain": [
       "f1    0.378870\n",
       "f2   -0.694394\n",
       "f3    0.154884\n",
       "dtype: float64"
      ]
     },
     "execution_count": 96,
     "metadata": {},
     "output_type": "execute_result"
    }
   ],
   "source": [
    "factors.corrwith(port)"
   ]
  },
  {
   "cell_type": "code",
   "execution_count": 100,
   "metadata": {
    "ExecuteTime": {
     "end_time": "2018-06-03T06:25:52.178588Z",
     "start_time": "2018-06-03T06:25:52.157587Z"
    }
   },
   "outputs": [
    {
     "data": {
      "text/plain": [
       "f1    1.006121\n",
       "f2   -0.894947\n",
       "f3    0.587614\n",
       "dtype: float64"
      ]
     },
     "execution_count": 100,
     "metadata": {},
     "output_type": "execute_result"
    }
   ],
   "source": [
    "import statsmodels.api as sm\n",
    "sm.OLS(port,factors).fit().params"
   ]
  },
  {
   "cell_type": "code",
   "execution_count": null,
   "metadata": {},
   "outputs": [],
   "source": []
  }
 ],
 "metadata": {
  "hide_input": false,
  "kernelspec": {
   "display_name": "Python 3",
   "language": "python",
   "name": "python3"
  },
  "language_info": {
   "codemirror_mode": {
    "name": "ipython",
    "version": 3
   },
   "file_extension": ".py",
   "mimetype": "text/x-python",
   "name": "python",
   "nbconvert_exporter": "python",
   "pygments_lexer": "ipython3",
   "version": "3.6.3"
  },
  "toc": {
   "base_numbering": 1,
   "nav_menu": {},
   "number_sections": true,
   "sideBar": true,
   "skip_h1_title": false,
   "title_cell": "Table of Contents",
   "title_sidebar": "Contents",
   "toc_cell": false,
   "toc_position": {},
   "toc_section_display": true,
   "toc_window_display": false
  }
 },
 "nbformat": 4,
 "nbformat_minor": 2
}
